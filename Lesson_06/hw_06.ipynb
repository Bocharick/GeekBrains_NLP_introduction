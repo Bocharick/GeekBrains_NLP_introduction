{
 "cells": [
  {
   "cell_type": "code",
   "execution_count": 1,
   "metadata": {},
   "outputs": [],
   "source": [
    "import pandas as pd\n",
    "import numpy as np\n",
    "from string import punctuation\n",
    "from stop_words import get_stop_words\n",
    "from pymorphy2 import MorphAnalyzer\n",
    "from string import punctuation\n",
    "import re\n",
    "import nltk\n",
    "from nltk.tokenize import word_tokenize\n",
    "from nltk.probability import FreqDist\n",
    "import tensorflow as tf\n",
    "from tensorflow import keras\n",
    "import matplotlib.pyplot as plt\n",
    "from gensim.models import Word2Vec\n",
    "import multiprocessing\n",
    "import youtokentome as yttm"
   ]
  },
  {
   "cell_type": "code",
   "execution_count": 2,
   "metadata": {},
   "outputs": [
    {
     "data": {
      "text/plain": [
       "'2.2.0'"
      ]
     },
     "execution_count": 2,
     "metadata": {},
     "output_type": "execute_result"
    }
   ],
   "source": [
    "tf.__version__"
   ]
  },
  {
   "cell_type": "code",
   "execution_count": 3,
   "metadata": {},
   "outputs": [
    {
     "data": {
      "text/plain": [
       "'2.3.0-tf'"
      ]
     },
     "execution_count": 3,
     "metadata": {},
     "output_type": "execute_result"
    }
   ],
   "source": [
    "keras.__version__"
   ]
  },
  {
   "cell_type": "code",
   "execution_count": 4,
   "metadata": {},
   "outputs": [],
   "source": [
    "if tf.__version__.startswith(\"1.\"):\n",
    "    val_acc_name = \"val_acc\"\n",
    "    acc_name = \"acc\"\n",
    "else:\n",
    "    val_acc_name = \"val_accuracy\"\n",
    "    acc_name = \"accuracy\""
   ]
  },
  {
   "cell_type": "code",
   "execution_count": 5,
   "metadata": {},
   "outputs": [],
   "source": [
    "max_words = 2000\n",
    "max_len = 150\n",
    "\n",
    "# Training\n",
    "epochs = 99150\n",
    "batch_size = 1536\n",
    "embed_vec_len = 50"
   ]
  },
  {
   "cell_type": "code",
   "execution_count": 6,
   "metadata": {},
   "outputs": [],
   "source": [
    "exclude = set(punctuation)"
   ]
  },
  {
   "cell_type": "code",
   "execution_count": 7,
   "metadata": {},
   "outputs": [],
   "source": [
    "def preprocess_text(txt):\n",
    "    txt = str(txt)\n",
    "    txt = re.sub(r'( )+', \" \", re.sub(r'[^\\w\\s]', \" \", txt)).strip()\n",
    "    txt = \"\".join(c if c not in exclude else \" \" for c in txt)\n",
    "    txt = re.sub(r'( )+', \" \", re.sub(r'[^\\w\\s]', \" \", txt)).strip()\n",
    "    txt = txt.lower()\n",
    "#     txt = re.sub(\"\\sне\", \"не\", txt)\n",
    "    return txt"
   ]
  },
  {
   "cell_type": "code",
   "execution_count": 8,
   "metadata": {},
   "outputs": [
    {
     "data": {
      "text/html": [
       "<div>\n",
       "<style scoped>\n",
       "    .dataframe tbody tr th:only-of-type {\n",
       "        vertical-align: middle;\n",
       "    }\n",
       "\n",
       "    .dataframe tbody tr th {\n",
       "        vertical-align: top;\n",
       "    }\n",
       "\n",
       "    .dataframe thead th {\n",
       "        text-align: right;\n",
       "    }\n",
       "</style>\n",
       "<table border=\"1\" class=\"dataframe\">\n",
       "  <thead>\n",
       "    <tr style=\"text-align: right;\">\n",
       "      <th></th>\n",
       "      <th>Rating</th>\n",
       "      <th>Content</th>\n",
       "      <th>Date</th>\n",
       "    </tr>\n",
       "  </thead>\n",
       "  <tbody>\n",
       "    <tr>\n",
       "      <th>0</th>\n",
       "      <td>5</td>\n",
       "      <td>It just works!</td>\n",
       "      <td>2017-08-14</td>\n",
       "    </tr>\n",
       "    <tr>\n",
       "      <th>1</th>\n",
       "      <td>4</td>\n",
       "      <td>В целом удобноное приложение...из минусов хотя...</td>\n",
       "      <td>2017-08-14</td>\n",
       "    </tr>\n",
       "    <tr>\n",
       "      <th>2</th>\n",
       "      <td>5</td>\n",
       "      <td>Отлично все</td>\n",
       "      <td>2017-08-14</td>\n",
       "    </tr>\n",
       "    <tr>\n",
       "      <th>3</th>\n",
       "      <td>5</td>\n",
       "      <td>Стал зависать на 1% работы антивируса. Дальше ...</td>\n",
       "      <td>2017-08-14</td>\n",
       "    </tr>\n",
       "    <tr>\n",
       "      <th>4</th>\n",
       "      <td>5</td>\n",
       "      <td>Очень удобно, работает быстро.</td>\n",
       "      <td>2017-08-14</td>\n",
       "    </tr>\n",
       "  </tbody>\n",
       "</table>\n",
       "</div>"
      ],
      "text/plain": [
       "   Rating                                            Content        Date\n",
       "0       5                                     It just works!  2017-08-14\n",
       "1       4  В целом удобноное приложение...из минусов хотя...  2017-08-14\n",
       "2       5                                        Отлично все  2017-08-14\n",
       "3       5  Стал зависать на 1% работы антивируса. Дальше ...  2017-08-14\n",
       "4       5                     Очень удобно, работает быстро.  2017-08-14"
      ]
     },
     "execution_count": 8,
     "metadata": {},
     "output_type": "execute_result"
    }
   ],
   "source": [
    "otzivy_za_leto = pd.read_excel(\"../Lesson_05/отзывы за лето.xls\", )\n",
    "otzivy_za_leto.head()"
   ]
  },
  {
   "cell_type": "code",
   "execution_count": 9,
   "metadata": {},
   "outputs": [
    {
     "data": {
      "text/plain": [
       "array([5, 4, 2, 3, 1])"
      ]
     },
     "execution_count": 9,
     "metadata": {},
     "output_type": "execute_result"
    }
   ],
   "source": [
    "otzivy_za_leto.Rating.unique()"
   ]
  },
  {
   "cell_type": "code",
   "execution_count": 10,
   "metadata": {},
   "outputs": [],
   "source": [
    "# for to_categorical usage\n",
    "otzivy_za_leto.Rating = otzivy_za_leto.Rating - 1"
   ]
  },
  {
   "cell_type": "code",
   "execution_count": 11,
   "metadata": {},
   "outputs": [
    {
     "data": {
      "text/html": [
       "<div>\n",
       "<style scoped>\n",
       "    .dataframe tbody tr th:only-of-type {\n",
       "        vertical-align: middle;\n",
       "    }\n",
       "\n",
       "    .dataframe tbody tr th {\n",
       "        vertical-align: top;\n",
       "    }\n",
       "\n",
       "    .dataframe thead th {\n",
       "        text-align: right;\n",
       "    }\n",
       "</style>\n",
       "<table border=\"1\" class=\"dataframe\">\n",
       "  <thead>\n",
       "    <tr style=\"text-align: right;\">\n",
       "      <th></th>\n",
       "      <th>Rating</th>\n",
       "      <th>Content</th>\n",
       "      <th>Date</th>\n",
       "    </tr>\n",
       "  </thead>\n",
       "  <tbody>\n",
       "    <tr>\n",
       "      <th>0</th>\n",
       "      <td>4</td>\n",
       "      <td>It just works!</td>\n",
       "      <td>2017-08-14</td>\n",
       "    </tr>\n",
       "    <tr>\n",
       "      <th>1</th>\n",
       "      <td>3</td>\n",
       "      <td>В целом удобноное приложение...из минусов хотя...</td>\n",
       "      <td>2017-08-14</td>\n",
       "    </tr>\n",
       "    <tr>\n",
       "      <th>2</th>\n",
       "      <td>4</td>\n",
       "      <td>Отлично все</td>\n",
       "      <td>2017-08-14</td>\n",
       "    </tr>\n",
       "    <tr>\n",
       "      <th>3</th>\n",
       "      <td>4</td>\n",
       "      <td>Стал зависать на 1% работы антивируса. Дальше ...</td>\n",
       "      <td>2017-08-14</td>\n",
       "    </tr>\n",
       "    <tr>\n",
       "      <th>4</th>\n",
       "      <td>4</td>\n",
       "      <td>Очень удобно, работает быстро.</td>\n",
       "      <td>2017-08-14</td>\n",
       "    </tr>\n",
       "  </tbody>\n",
       "</table>\n",
       "</div>"
      ],
      "text/plain": [
       "   Rating                                            Content        Date\n",
       "0       4                                     It just works!  2017-08-14\n",
       "1       3  В целом удобноное приложение...из минусов хотя...  2017-08-14\n",
       "2       4                                        Отлично все  2017-08-14\n",
       "3       4  Стал зависать на 1% работы антивируса. Дальше ...  2017-08-14\n",
       "4       4                     Очень удобно, работает быстро.  2017-08-14"
      ]
     },
     "execution_count": 11,
     "metadata": {},
     "output_type": "execute_result"
    }
   ],
   "source": [
    "otzivy_za_leto.head()"
   ]
  },
  {
   "cell_type": "code",
   "execution_count": 12,
   "metadata": {},
   "outputs": [
    {
     "data": {
      "text/plain": [
       "array([4, 3, 1, 2, 0])"
      ]
     },
     "execution_count": 12,
     "metadata": {},
     "output_type": "execute_result"
    }
   ],
   "source": [
    "otzivy_za_leto.Rating.unique()"
   ]
  },
  {
   "cell_type": "code",
   "execution_count": 13,
   "metadata": {},
   "outputs": [
    {
     "data": {
      "text/plain": [
       "5"
      ]
     },
     "execution_count": 13,
     "metadata": {},
     "output_type": "execute_result"
    }
   ],
   "source": [
    "num_classes = len(otzivy_za_leto[\"Rating\"].unique())\n",
    "num_classes"
   ]
  },
  {
   "cell_type": "code",
   "execution_count": 14,
   "metadata": {},
   "outputs": [],
   "source": [
    "vfunc = np.vectorize(preprocess_text)"
   ]
  },
  {
   "cell_type": "code",
   "execution_count": 15,
   "metadata": {},
   "outputs": [
    {
     "name": "stdout",
     "output_type": "stream",
     "text": [
      "CPU times: user 370 ms, sys: 39.7 ms, total: 409 ms\n",
      "Wall time: 409 ms\n"
     ]
    },
    {
     "data": {
      "text/html": [
       "<div>\n",
       "<style scoped>\n",
       "    .dataframe tbody tr th:only-of-type {\n",
       "        vertical-align: middle;\n",
       "    }\n",
       "\n",
       "    .dataframe tbody tr th {\n",
       "        vertical-align: top;\n",
       "    }\n",
       "\n",
       "    .dataframe thead th {\n",
       "        text-align: right;\n",
       "    }\n",
       "</style>\n",
       "<table border=\"1\" class=\"dataframe\">\n",
       "  <thead>\n",
       "    <tr style=\"text-align: right;\">\n",
       "      <th></th>\n",
       "      <th>Rating</th>\n",
       "      <th>Content</th>\n",
       "      <th>Date</th>\n",
       "      <th>text</th>\n",
       "    </tr>\n",
       "  </thead>\n",
       "  <tbody>\n",
       "    <tr>\n",
       "      <th>0</th>\n",
       "      <td>4</td>\n",
       "      <td>It just works!</td>\n",
       "      <td>2017-08-14</td>\n",
       "      <td>it just works</td>\n",
       "    </tr>\n",
       "    <tr>\n",
       "      <th>1</th>\n",
       "      <td>3</td>\n",
       "      <td>В целом удобноное приложение...из минусов хотя...</td>\n",
       "      <td>2017-08-14</td>\n",
       "      <td>в целом удобноное приложение из минусов хотят ...</td>\n",
       "    </tr>\n",
       "    <tr>\n",
       "      <th>2</th>\n",
       "      <td>4</td>\n",
       "      <td>Отлично все</td>\n",
       "      <td>2017-08-14</td>\n",
       "      <td>отлично все</td>\n",
       "    </tr>\n",
       "    <tr>\n",
       "      <th>3</th>\n",
       "      <td>4</td>\n",
       "      <td>Стал зависать на 1% работы антивируса. Дальше ...</td>\n",
       "      <td>2017-08-14</td>\n",
       "      <td>стал зависать на 1 работы антивируса дальше ни...</td>\n",
       "    </tr>\n",
       "    <tr>\n",
       "      <th>4</th>\n",
       "      <td>4</td>\n",
       "      <td>Очень удобно, работает быстро.</td>\n",
       "      <td>2017-08-14</td>\n",
       "      <td>очень удобно работает быстро</td>\n",
       "    </tr>\n",
       "  </tbody>\n",
       "</table>\n",
       "</div>"
      ],
      "text/plain": [
       "   Rating                                            Content        Date  \\\n",
       "0       4                                     It just works!  2017-08-14   \n",
       "1       3  В целом удобноное приложение...из минусов хотя...  2017-08-14   \n",
       "2       4                                        Отлично все  2017-08-14   \n",
       "3       4  Стал зависать на 1% работы антивируса. Дальше ...  2017-08-14   \n",
       "4       4                     Очень удобно, работает быстро.  2017-08-14   \n",
       "\n",
       "                                                text  \n",
       "0                                      it just works  \n",
       "1  в целом удобноное приложение из минусов хотят ...  \n",
       "2                                        отлично все  \n",
       "3  стал зависать на 1 работы антивируса дальше ни...  \n",
       "4                       очень удобно работает быстро  "
      ]
     },
     "execution_count": 15,
     "metadata": {},
     "output_type": "execute_result"
    }
   ],
   "source": [
    "%%time\n",
    "otzivy_za_leto[\"text\"] = vfunc(otzivy_za_leto.Content)\n",
    "otzivy_za_leto.head()"
   ]
  },
  {
   "cell_type": "code",
   "execution_count": 16,
   "metadata": {},
   "outputs": [],
   "source": [
    "train_corpus = \" \".join(otzivy_za_leto[\"text\"])\n",
    "train_corpus = train_corpus.lower()"
   ]
  },
  {
   "cell_type": "code",
   "execution_count": 17,
   "metadata": {},
   "outputs": [
    {
     "data": {
      "text/plain": [
       "1136568"
      ]
     },
     "execution_count": 17,
     "metadata": {},
     "output_type": "execute_result"
    }
   ],
   "source": [
    "len(train_corpus)"
   ]
  },
  {
   "cell_type": "code",
   "execution_count": 18,
   "metadata": {},
   "outputs": [
    {
     "data": {
      "text/plain": [
       "'it just works в целом удобноное приложение из минусов хотят слишком большой доступ к персональным данным в телефоне приходится пользоваться в ограниченном режиме отлично все стал зависать на 1 работы антивируса дальше никуда ранее больше года пользовался нормально очень удобно работает быстро всё удобно норм очень удобное приложение все устраивает у меня работает все четко в отличии от банкоматов которые вечно зависают и тупят очень все хорошо все ок все нормально кроме того что уведомление нельзя удалять не стартует без доступа к gps sms звонкам и адресной книге филиал фсб одним словом очень удобно работает замечательно подвисаний нет очень удобно очень удобная штука отличное приложение удобно практично очень удобное приложение для оплаты платежей и переводов удобно и быстро очень удобное приложение вот можно было бы транспортные карты пополнять через приложение так вообще замечательно было бы жаль что история всех движений под семью замками хорошее приложение удобно и без лишних хлоп'"
      ]
     },
     "execution_count": 18,
     "metadata": {},
     "output_type": "execute_result"
    }
   ],
   "source": [
    "train_corpus[:1000]"
   ]
  },
  {
   "cell_type": "code",
   "execution_count": 19,
   "metadata": {},
   "outputs": [],
   "source": [
    "train_corpus_filepath = \"train_corpus.txt\"\n",
    "with open(train_corpus_filepath, \"wt\") as out:\n",
    "    out.write(train_corpus)"
   ]
  },
  {
   "cell_type": "code",
   "execution_count": 20,
   "metadata": {},
   "outputs": [],
   "source": [
    "# for i in range(20):\n",
    "#     print(otzivy_za_leto.iloc[i][\"Content\"],\"\\n\", otzivy_za_leto.iloc[i][\"text\"], \"\\n\\n\")"
   ]
  },
  {
   "cell_type": "code",
   "execution_count": 21,
   "metadata": {},
   "outputs": [],
   "source": [
    "bpe_model = yttm.BPE.train(data=train_corpus_filepath, vocab_size=max_words, model=\"model.bpe\")"
   ]
  },
  {
   "cell_type": "code",
   "execution_count": 22,
   "metadata": {},
   "outputs": [
    {
     "name": "stdout",
     "output_type": "stream",
     "text": [
      "[1686, 310, 531, 710, 11, 322, 29, 169]\n",
      "['▁привет', '▁как', '▁дела', '▁ма', 'р', 'ты', 'ш', 'ка']\n",
      "['привет как дела мартышка']\n"
     ]
    }
   ],
   "source": [
    "tst_text = \"привет как дела мартышка\"\n",
    "encoded = bpe_model.encode(tst_text)\n",
    "encoded2 = bpe_model.encode(tst_text, output_type=yttm.OutputType.SUBWORD)\n",
    "print(encoded)\n",
    "print(encoded2)\n",
    "print(bpe_model.decode(encoded))"
   ]
  },
  {
   "cell_type": "code",
   "execution_count": 23,
   "metadata": {},
   "outputs": [
    {
     "name": "stdout",
     "output_type": "stream",
     "text": [
      "0\n",
      "\t'it just works'\n",
      "\t[1259, 42, 4, 73, 1103, 42, 1133, 1632, 64, 43]\n",
      "\t['it just works']\n",
      "\t\n",
      "\n",
      "1\n",
      "\t'в целом удобноное приложение из минусов хотят слишком большой доступ к персональным данным в телефоне приходится пользоваться в ограниченном режиме'\n",
      "\t[119, 745, 153, 308, 147, 306, 862, 976, 615, 10, 1653, 876, 30, 439, 141, 516, 12, 525, 145, 671, 825, 671, 119, 609, 496, 492, 119, 966, 578, 20, 325, 360, 379]\n",
      "\t['в целом удобноное приложение из минусов хотят слишком большой доступ к персональным данным в телефоне приходится пользоваться в ограниченном режиме']\n",
      "\t\n",
      "\n",
      "2\n",
      "\t'отлично все'\n",
      "\t[193, 163]\n",
      "\t['отлично все']\n",
      "\t\n",
      "\n",
      "3\n",
      "\t'стал зависать на 1 работы антивируса дальше никуда ранее больше года пользовался нормально'\n",
      "\t[1201, 827, 1162, 162, 485, 1440, 644, 1229, 268, 1738, 156, 618, 770, 1546, 1809, 418]\n",
      "\t['стал зависать на 1 работы антивируса дальше никуда ранее больше года пользовался нормально']\n",
      "\t\n",
      "\n",
      "4\n",
      "\t'очень удобно работает быстро'\n",
      "\t[170, 153, 225, 294]\n",
      "\t['очень удобно работает быстро']\n",
      "\t\n",
      "\n",
      "5\n",
      "\t'всё удобно норм'\n",
      "\t[213, 153, 466]\n",
      "\t['всё удобно норм']\n",
      "\t\n",
      "\n",
      "6\n",
      "\t'очень удобное приложение'\n",
      "\t[170, 234, 147]\n",
      "\t['очень удобное приложение']\n",
      "\t\n",
      "\n",
      "7\n",
      "\t'все устраивает'\n",
      "\t[163, 359]\n",
      "\t['все устраивает']\n",
      "\t\n",
      "\n",
      "8\n",
      "\t'у меня работает все четко в отличии от банкоматов которые вечно зависают и тупят'\n",
      "\t[126, 296, 225, 163, 1451, 119, 187, 214, 9, 164, 1041, 663, 1374, 517, 180, 827, 8, 504, 133, 847, 23, 10]\n",
      "\t['у меня работает все четко в отличии от банкоматов которые вечно зависают и тупят']\n",
      "\t\n",
      "\n",
      "9\n",
      "\t'очень все хорошо'\n",
      "\t[170, 163, 263]\n",
      "\t['очень все хорошо']\n",
      "\t\n",
      "\n"
     ]
    }
   ],
   "source": [
    "for i in range(10):\n",
    "    encoded = bpe_model.encode(otzivy_za_leto.iloc[i][\"text\"])\n",
    "    print(i, \"\\'\" + otzivy_za_leto.iloc[i][\"text\"] + \"\\'\", encoded, bpe_model.decode(encoded), \"\\n\", sep=\"\\n\\t\")"
   ]
  },
  {
   "cell_type": "code",
   "execution_count": 24,
   "metadata": {},
   "outputs": [],
   "source": [
    "def text_to_sequence(text, maxlen):\n",
    "    result = []\n",
    "#     tokens = word_tokenize(text.lower())\n",
    "    tokens = bpe_model.encode(text.lower())\n",
    "#     tokens_filtered = [word for word in tokens if word.isalnum()]\n",
    "    for word in tokens:\n",
    "#         if word in vocabulary:\n",
    "#             result.append(vocabulary[word])\n",
    "        result.append(word)\n",
    "    padding = [0]*(maxlen-len(result))\n",
    "    if len(padding) >= 1:\n",
    "        padding[-1] = 2 # <BOS> begin of sentence token\n",
    "    return padding + result[-maxlen:]"
   ]
  },
  {
   "cell_type": "code",
   "execution_count": 25,
   "metadata": {},
   "outputs": [
    {
     "name": "stdout",
     "output_type": "stream",
     "text": [
      "it just works [0, 0, 0, 0, 0, 0, 0, 0, 0, 0, 0, 0, 0, 0, 0, 0, 0, 0, 0, 0, 0, 0, 0, 0, 0, 0, 0, 0, 0, 0, 0, 0, 0, 0, 0, 0, 0, 0, 0, 0, 0, 0, 0, 0, 0, 0, 0, 0, 0, 0, 0, 0, 0, 0, 0, 0, 0, 0, 0, 0, 0, 0, 0, 0, 0, 0, 0, 0, 0, 0, 0, 0, 0, 0, 0, 0, 0, 0, 0, 0, 0, 0, 0, 0, 0, 0, 0, 0, 0, 0, 0, 0, 0, 0, 0, 0, 0, 0, 0, 0, 0, 0, 0, 0, 0, 0, 0, 0, 0, 0, 0, 0, 0, 0, 0, 0, 0, 0, 0, 0, 0, 0, 0, 0, 0, 0, 0, 0, 0, 0, 0, 0, 0, 0, 0, 0, 0, 0, 0, 2, 1259, 42, 4, 73, 1103, 42, 1133, 1632, 64, 43]\n",
      "в целом удобноное приложение из минусов хотят слишком большой доступ к персональным данным в телефоне приходится пользоваться в ограниченном режиме [0, 0, 0, 0, 0, 0, 0, 0, 0, 0, 0, 0, 0, 0, 0, 0, 0, 0, 0, 0, 0, 0, 0, 0, 0, 0, 0, 0, 0, 0, 0, 0, 0, 0, 0, 0, 0, 0, 0, 0, 0, 0, 0, 0, 0, 0, 0, 0, 0, 0, 0, 0, 0, 0, 0, 0, 0, 0, 0, 0, 0, 0, 0, 0, 0, 0, 0, 0, 0, 0, 0, 0, 0, 0, 0, 0, 0, 0, 0, 0, 0, 0, 0, 0, 0, 0, 0, 0, 0, 0, 0, 0, 0, 0, 0, 0, 0, 0, 0, 0, 0, 0, 0, 0, 0, 0, 0, 0, 0, 0, 0, 0, 0, 0, 0, 0, 2, 119, 745, 153, 308, 147, 306, 862, 976, 615, 10, 1653, 876, 30, 439, 141, 516, 12, 525, 145, 671, 825, 671, 119, 609, 496, 492, 119, 966, 578, 20, 325, 360, 379]\n",
      "отлично все [0, 0, 0, 0, 0, 0, 0, 0, 0, 0, 0, 0, 0, 0, 0, 0, 0, 0, 0, 0, 0, 0, 0, 0, 0, 0, 0, 0, 0, 0, 0, 0, 0, 0, 0, 0, 0, 0, 0, 0, 0, 0, 0, 0, 0, 0, 0, 0, 0, 0, 0, 0, 0, 0, 0, 0, 0, 0, 0, 0, 0, 0, 0, 0, 0, 0, 0, 0, 0, 0, 0, 0, 0, 0, 0, 0, 0, 0, 0, 0, 0, 0, 0, 0, 0, 0, 0, 0, 0, 0, 0, 0, 0, 0, 0, 0, 0, 0, 0, 0, 0, 0, 0, 0, 0, 0, 0, 0, 0, 0, 0, 0, 0, 0, 0, 0, 0, 0, 0, 0, 0, 0, 0, 0, 0, 0, 0, 0, 0, 0, 0, 0, 0, 0, 0, 0, 0, 0, 0, 0, 0, 0, 0, 0, 0, 0, 0, 2, 193, 163]\n",
      "стал зависать на 1 работы антивируса дальше никуда ранее больше года пользовался нормально [0, 0, 0, 0, 0, 0, 0, 0, 0, 0, 0, 0, 0, 0, 0, 0, 0, 0, 0, 0, 0, 0, 0, 0, 0, 0, 0, 0, 0, 0, 0, 0, 0, 0, 0, 0, 0, 0, 0, 0, 0, 0, 0, 0, 0, 0, 0, 0, 0, 0, 0, 0, 0, 0, 0, 0, 0, 0, 0, 0, 0, 0, 0, 0, 0, 0, 0, 0, 0, 0, 0, 0, 0, 0, 0, 0, 0, 0, 0, 0, 0, 0, 0, 0, 0, 0, 0, 0, 0, 0, 0, 0, 0, 0, 0, 0, 0, 0, 0, 0, 0, 0, 0, 0, 0, 0, 0, 0, 0, 0, 0, 0, 0, 0, 0, 0, 0, 0, 0, 0, 0, 0, 0, 0, 0, 0, 0, 0, 0, 0, 0, 0, 0, 2, 1201, 827, 1162, 162, 485, 1440, 644, 1229, 268, 1738, 156, 618, 770, 1546, 1809, 418]\n",
      "очень удобно работает быстро [0, 0, 0, 0, 0, 0, 0, 0, 0, 0, 0, 0, 0, 0, 0, 0, 0, 0, 0, 0, 0, 0, 0, 0, 0, 0, 0, 0, 0, 0, 0, 0, 0, 0, 0, 0, 0, 0, 0, 0, 0, 0, 0, 0, 0, 0, 0, 0, 0, 0, 0, 0, 0, 0, 0, 0, 0, 0, 0, 0, 0, 0, 0, 0, 0, 0, 0, 0, 0, 0, 0, 0, 0, 0, 0, 0, 0, 0, 0, 0, 0, 0, 0, 0, 0, 0, 0, 0, 0, 0, 0, 0, 0, 0, 0, 0, 0, 0, 0, 0, 0, 0, 0, 0, 0, 0, 0, 0, 0, 0, 0, 0, 0, 0, 0, 0, 0, 0, 0, 0, 0, 0, 0, 0, 0, 0, 0, 0, 0, 0, 0, 0, 0, 0, 0, 0, 0, 0, 0, 0, 0, 0, 0, 0, 0, 2, 170, 153, 225, 294]\n",
      "всё удобно норм [0, 0, 0, 0, 0, 0, 0, 0, 0, 0, 0, 0, 0, 0, 0, 0, 0, 0, 0, 0, 0, 0, 0, 0, 0, 0, 0, 0, 0, 0, 0, 0, 0, 0, 0, 0, 0, 0, 0, 0, 0, 0, 0, 0, 0, 0, 0, 0, 0, 0, 0, 0, 0, 0, 0, 0, 0, 0, 0, 0, 0, 0, 0, 0, 0, 0, 0, 0, 0, 0, 0, 0, 0, 0, 0, 0, 0, 0, 0, 0, 0, 0, 0, 0, 0, 0, 0, 0, 0, 0, 0, 0, 0, 0, 0, 0, 0, 0, 0, 0, 0, 0, 0, 0, 0, 0, 0, 0, 0, 0, 0, 0, 0, 0, 0, 0, 0, 0, 0, 0, 0, 0, 0, 0, 0, 0, 0, 0, 0, 0, 0, 0, 0, 0, 0, 0, 0, 0, 0, 0, 0, 0, 0, 0, 0, 0, 2, 213, 153, 466]\n",
      "очень удобное приложение [0, 0, 0, 0, 0, 0, 0, 0, 0, 0, 0, 0, 0, 0, 0, 0, 0, 0, 0, 0, 0, 0, 0, 0, 0, 0, 0, 0, 0, 0, 0, 0, 0, 0, 0, 0, 0, 0, 0, 0, 0, 0, 0, 0, 0, 0, 0, 0, 0, 0, 0, 0, 0, 0, 0, 0, 0, 0, 0, 0, 0, 0, 0, 0, 0, 0, 0, 0, 0, 0, 0, 0, 0, 0, 0, 0, 0, 0, 0, 0, 0, 0, 0, 0, 0, 0, 0, 0, 0, 0, 0, 0, 0, 0, 0, 0, 0, 0, 0, 0, 0, 0, 0, 0, 0, 0, 0, 0, 0, 0, 0, 0, 0, 0, 0, 0, 0, 0, 0, 0, 0, 0, 0, 0, 0, 0, 0, 0, 0, 0, 0, 0, 0, 0, 0, 0, 0, 0, 0, 0, 0, 0, 0, 0, 0, 0, 2, 170, 234, 147]\n",
      "все устраивает [0, 0, 0, 0, 0, 0, 0, 0, 0, 0, 0, 0, 0, 0, 0, 0, 0, 0, 0, 0, 0, 0, 0, 0, 0, 0, 0, 0, 0, 0, 0, 0, 0, 0, 0, 0, 0, 0, 0, 0, 0, 0, 0, 0, 0, 0, 0, 0, 0, 0, 0, 0, 0, 0, 0, 0, 0, 0, 0, 0, 0, 0, 0, 0, 0, 0, 0, 0, 0, 0, 0, 0, 0, 0, 0, 0, 0, 0, 0, 0, 0, 0, 0, 0, 0, 0, 0, 0, 0, 0, 0, 0, 0, 0, 0, 0, 0, 0, 0, 0, 0, 0, 0, 0, 0, 0, 0, 0, 0, 0, 0, 0, 0, 0, 0, 0, 0, 0, 0, 0, 0, 0, 0, 0, 0, 0, 0, 0, 0, 0, 0, 0, 0, 0, 0, 0, 0, 0, 0, 0, 0, 0, 0, 0, 0, 0, 0, 2, 163, 359]\n",
      "у меня работает все четко в отличии от банкоматов которые вечно зависают и тупят [0, 0, 0, 0, 0, 0, 0, 0, 0, 0, 0, 0, 0, 0, 0, 0, 0, 0, 0, 0, 0, 0, 0, 0, 0, 0, 0, 0, 0, 0, 0, 0, 0, 0, 0, 0, 0, 0, 0, 0, 0, 0, 0, 0, 0, 0, 0, 0, 0, 0, 0, 0, 0, 0, 0, 0, 0, 0, 0, 0, 0, 0, 0, 0, 0, 0, 0, 0, 0, 0, 0, 0, 0, 0, 0, 0, 0, 0, 0, 0, 0, 0, 0, 0, 0, 0, 0, 0, 0, 0, 0, 0, 0, 0, 0, 0, 0, 0, 0, 0, 0, 0, 0, 0, 0, 0, 0, 0, 0, 0, 0, 0, 0, 0, 0, 0, 0, 0, 0, 0, 0, 0, 0, 0, 0, 0, 0, 2, 126, 296, 225, 163, 1451, 119, 187, 214, 9, 164, 1041, 663, 1374, 517, 180, 827, 8, 504, 133, 847, 23, 10]\n",
      "очень все хорошо [0, 0, 0, 0, 0, 0, 0, 0, 0, 0, 0, 0, 0, 0, 0, 0, 0, 0, 0, 0, 0, 0, 0, 0, 0, 0, 0, 0, 0, 0, 0, 0, 0, 0, 0, 0, 0, 0, 0, 0, 0, 0, 0, 0, 0, 0, 0, 0, 0, 0, 0, 0, 0, 0, 0, 0, 0, 0, 0, 0, 0, 0, 0, 0, 0, 0, 0, 0, 0, 0, 0, 0, 0, 0, 0, 0, 0, 0, 0, 0, 0, 0, 0, 0, 0, 0, 0, 0, 0, 0, 0, 0, 0, 0, 0, 0, 0, 0, 0, 0, 0, 0, 0, 0, 0, 0, 0, 0, 0, 0, 0, 0, 0, 0, 0, 0, 0, 0, 0, 0, 0, 0, 0, 0, 0, 0, 0, 0, 0, 0, 0, 0, 0, 0, 0, 0, 0, 0, 0, 0, 0, 0, 0, 0, 0, 0, 2, 170, 163, 263]\n"
     ]
    }
   ],
   "source": [
    "for i in range(10):\n",
    "    text = otzivy_za_leto.iloc[i][\"text\"]\n",
    "    seq = text_to_sequence(text, max_len)\n",
    "    print(text, seq)"
   ]
  },
  {
   "cell_type": "code",
   "execution_count": 26,
   "metadata": {},
   "outputs": [],
   "source": [
    "x_train = np.asarray([text_to_sequence(text, max_len) for text in otzivy_za_leto[\"text\"]], dtype=np.int32)"
   ]
  },
  {
   "cell_type": "code",
   "execution_count": 27,
   "metadata": {},
   "outputs": [
    {
     "data": {
      "text/plain": [
       "array([   0,    0,    0,    0,    0,    0,    0,    0,    0,    0,    0,\n",
       "          0,    0,    0,    0,    0,    0,    0,    0,    0,    0,    0,\n",
       "          0,    0,    0,    0,    0,    0,    0,    0,    0,    0,    0,\n",
       "          0,    0,    0,    0,    0,    0,    0,    0,    0,    0,    0,\n",
       "          0,    0,    0,    0,    0,    0,    0,    0,    0,    0,    0,\n",
       "          0,    0,    0,    0,    0,    0,    0,    0,    0,    0,    0,\n",
       "          0,    0,    0,    0,    0,    0,    0,    0,    0,    0,    0,\n",
       "          0,    0,    0,    0,    0,    0,    0,    0,    0,    0,    0,\n",
       "          0,    0,    0,    0,    0,    2,  119,  293, 1305, 1480,  271,\n",
       "        538,  402,  164, 1323,  173, 1441, 1605,  131,  978,  204,  335,\n",
       "        133,  178,  320,  126,  659,  134,  547,  123,  670,   20,  341,\n",
       "       1386,  141,  980,   30,  131, 1996,    7, 1097,  452,  273,  562,\n",
       "        820,  349,  125,   17,  463,   29,  486,  198,  611, 1197,  134,\n",
       "        228, 1906, 1625,  439,  141, 1733,   20], dtype=int32)"
      ]
     },
     "execution_count": 27,
     "metadata": {},
     "output_type": "execute_result"
    }
   ],
   "source": [
    "x_train[-15]"
   ]
  },
  {
   "cell_type": "code",
   "execution_count": 28,
   "metadata": {},
   "outputs": [
    {
     "data": {
      "text/plain": [
       "['<PAD>',\n",
       " '<UNK>',\n",
       " '<BOS>',\n",
       " '<EOS>',\n",
       " '▁',\n",
       " 'о',\n",
       " 'е',\n",
       " 'н',\n",
       " 'а',\n",
       " 'и',\n",
       " 'т',\n",
       " 'р',\n",
       " 'с',\n",
       " 'л',\n",
       " 'в',\n",
       " 'п',\n",
       " 'д',\n",
       " 'у',\n",
       " 'б',\n",
       " 'к',\n",
       " 'м',\n",
       " 'ь',\n",
       " 'ч',\n",
       " 'я',\n",
       " 'ж',\n",
       " 'з',\n",
       " 'ы',\n",
       " 'г',\n",
       " 'х',\n",
       " 'ш',\n",
       " 'й',\n",
       " 'ю',\n",
       " 'ц',\n",
       " 'ф',\n",
       " 'ё',\n",
       " 'э',\n",
       " 'щ',\n",
       " 'o',\n",
       " 'e',\n",
       " 'i',\n",
       " 'a',\n",
       " 'r',\n",
       " 't',\n",
       " 's',\n",
       " 'm',\n",
       " 'n',\n",
       " '0',\n",
       " 'u',\n",
       " '2',\n",
       " '5',\n",
       " '1',\n",
       " 'l',\n",
       " 'd',\n",
       " 'p',\n",
       " '3',\n",
       " '4',\n",
       " 'z',\n",
       " 'g',\n",
       " 'y',\n",
       " 'c',\n",
       " 'h',\n",
       " '6',\n",
       " 'f',\n",
       " 'x',\n",
       " 'k',\n",
       " 'w',\n",
       " '7',\n",
       " 'b',\n",
       " 'v',\n",
       " '9',\n",
       " '8',\n",
       " 'q',\n",
       " 'ъ',\n",
       " 'j',\n",
       " 'ј',\n",
       " 'і',\n",
       " '好',\n",
       " 'い',\n",
       " 'د',\n",
       " 'ج',\n",
       " 'ա',\n",
       " 'ө',\n",
       " 'š',\n",
       " 'č',\n",
       " 'è',\n",
       " '软',\n",
       " '的',\n",
       " '用',\n",
       " '物',\n",
       " '挺',\n",
       " '很',\n",
       " '件',\n",
       " 'っ',\n",
       " 'だ',\n",
       " 'ぜ',\n",
       " 'こ',\n",
       " 'か',\n",
       " 'ي',\n",
       " 'ا',\n",
       " 'պ',\n",
       " 'ո',\n",
       " 'յ',\n",
       " 'հ',\n",
       " 'կ',\n",
       " 'է',\n",
       " 'џ',\n",
       " 'ў',\n",
       " 'ћ',\n",
       " 'ї',\n",
       " 'є',\n",
       " 'ѓ',\n",
       " 'ђ',\n",
       " 'ω',\n",
       " 'ö',\n",
       " 'ó',\n",
       " 'ä',\n",
       " '▁п',\n",
       " 'но',\n",
       " 'ен',\n",
       " '▁в',\n",
       " '▁н',\n",
       " '▁о',\n",
       " '▁пр',\n",
       " '▁с',\n",
       " 'ра',\n",
       " 'ло',\n",
       " '▁у',\n",
       " 'то',\n",
       " 'ет',\n",
       " 'ени',\n",
       " 'до',\n",
       " '▁при',\n",
       " '▁по',\n",
       " '▁и',\n",
       " 'та',\n",
       " '▁не',\n",
       " 'лож',\n",
       " 'ложени',\n",
       " '▁приложени',\n",
       " 'ер',\n",
       " 'ть',\n",
       " '▁к',\n",
       " 'бно',\n",
       " '▁вс',\n",
       " 'ро',\n",
       " 'ль',\n",
       " '▁м',\n",
       " '▁приложение',\n",
       " 'ли',\n",
       " '▁удо',\n",
       " 'бо',\n",
       " 'за',\n",
       " 'хо',\n",
       " '▁удобно',\n",
       " 'ва',\n",
       " '▁б',\n",
       " '▁ра',\n",
       " 'те',\n",
       " 'ся',\n",
       " 'ень',\n",
       " 'ла',\n",
       " 'ст',\n",
       " '▁на',\n",
       " '▁все',\n",
       " '▁от',\n",
       " '▁про',\n",
       " '▁оч',\n",
       " 'ле',\n",
       " 'да',\n",
       " 'ка',\n",
       " '▁очень',\n",
       " '▁за',\n",
       " 'ко',\n",
       " 'го',\n",
       " 'во',\n",
       " 'ви',\n",
       " '▁ч',\n",
       " 'ру',\n",
       " 'на',\n",
       " '▁д',\n",
       " 'чно',\n",
       " 'ан',\n",
       " 'ди',\n",
       " 'ти',\n",
       " '▁но',\n",
       " 'не',\n",
       " '▁хо',\n",
       " '▁отли',\n",
       " 'ас',\n",
       " '▁до',\n",
       " '▁мо',\n",
       " '▁рабо',\n",
       " 'ре',\n",
       " '▁отлично',\n",
       " '▁ка',\n",
       " '▁то',\n",
       " 'ны',\n",
       " '▁бы',\n",
       " 'ни',\n",
       " '▁работа']"
      ]
     },
     "execution_count": 28,
     "metadata": {},
     "output_type": "execute_result"
    }
   ],
   "source": [
    "bpe_model.vocab()[:200]"
   ]
  },
  {
   "cell_type": "code",
   "execution_count": 29,
   "metadata": {},
   "outputs": [
    {
     "data": {
      "text/plain": [
       "['<PAD><PAD><PAD><PAD><PAD><PAD><PAD><PAD><PAD><PAD><PAD><PAD><PAD><PAD><PAD><PAD><PAD><PAD><PAD><PAD><PAD><PAD><PAD><PAD><PAD><PAD><PAD><PAD><PAD><PAD><PAD><PAD><PAD><PAD><PAD><PAD><PAD><PAD><PAD><PAD><PAD><PAD><PAD><PAD><PAD><PAD><PAD><PAD><PAD><PAD><PAD><PAD><PAD><PAD><PAD><PAD><PAD><PAD><PAD><PAD><PAD><PAD><PAD><PAD><PAD><PAD><PAD><PAD><PAD><PAD><PAD><PAD><PAD><PAD><PAD><PAD><PAD><PAD><PAD><PAD><PAD><PAD><PAD><PAD><PAD><PAD><PAD><PAD><PAD><PAD><PAD><PAD><PAD><BOS> введите необходимость вводить пароль от личного кабинета при установки приложения иначе утрата телефона с сим картой к которой привязан мобильный банк даёт возможность злоумышленникам моментально получить полный доступ к средствам']"
      ]
     },
     "execution_count": 29,
     "metadata": {},
     "output_type": "execute_result"
    }
   ],
   "source": [
    "bpe_model.decode(x_train[-15].tolist())"
   ]
  },
  {
   "cell_type": "code",
   "execution_count": 30,
   "metadata": {},
   "outputs": [],
   "source": [
    "y_train = keras.utils.to_categorical(otzivy_za_leto[\"Rating\"], num_classes)"
   ]
  },
  {
   "cell_type": "code",
   "execution_count": 31,
   "metadata": {},
   "outputs": [
    {
     "name": "stdout",
     "output_type": "stream",
     "text": [
      "0 4 [0.0, 0.0, 0.0, 0.0, 1.0]\n",
      "1 3 [0.0, 0.0, 0.0, 1.0, 0.0]\n",
      "2 4 [0.0, 0.0, 0.0, 0.0, 1.0]\n",
      "3 4 [0.0, 0.0, 0.0, 0.0, 1.0]\n",
      "4 4 [0.0, 0.0, 0.0, 0.0, 1.0]\n",
      "5 4 [0.0, 0.0, 0.0, 0.0, 1.0]\n",
      "6 4 [0.0, 0.0, 0.0, 0.0, 1.0]\n",
      "7 4 [0.0, 0.0, 0.0, 0.0, 1.0]\n",
      "8 4 [0.0, 0.0, 0.0, 0.0, 1.0]\n",
      "9 4 [0.0, 0.0, 0.0, 0.0, 1.0]\n",
      "10 4 [0.0, 0.0, 0.0, 0.0, 1.0]\n",
      "11 4 [0.0, 0.0, 0.0, 0.0, 1.0]\n",
      "12 1 [0.0, 1.0, 0.0, 0.0, 0.0]\n",
      "13 4 [0.0, 0.0, 0.0, 0.0, 1.0]\n",
      "14 4 [0.0, 0.0, 0.0, 0.0, 1.0]\n",
      "15 4 [0.0, 0.0, 0.0, 0.0, 1.0]\n",
      "16 4 [0.0, 0.0, 0.0, 0.0, 1.0]\n",
      "17 4 [0.0, 0.0, 0.0, 0.0, 1.0]\n",
      "18 4 [0.0, 0.0, 0.0, 0.0, 1.0]\n",
      "19 4 [0.0, 0.0, 0.0, 0.0, 1.0]\n"
     ]
    }
   ],
   "source": [
    "for i, rec in enumerate(y_train[:20].tolist()):\n",
    "    print(i, otzivy_za_leto.iloc[i][\"Rating\"], rec)"
   ]
  },
  {
   "cell_type": "code",
   "execution_count": 32,
   "metadata": {},
   "outputs": [
    {
     "name": "stdout",
     "output_type": "stream",
     "text": [
      "WARNING:tensorflow:Layer GRU_1 will not use cuDNN kernel since it doesn't meet the cuDNN kernel criteria. It will use generic GPU kernel as fallback when running on GPU\n",
      "WARNING:tensorflow:Layer GRU_1 will not use cuDNN kernel since it doesn't meet the cuDNN kernel criteria. It will use generic GPU kernel as fallback when running on GPU\n",
      "WARNING:tensorflow:Layer GRU_1 will not use cuDNN kernel since it doesn't meet the cuDNN kernel criteria. It will use generic GPU kernel as fallback when running on GPU\n"
     ]
    }
   ],
   "source": [
    "keras.backend.clear_session()\n",
    "\n",
    "\n",
    "\n",
    "X_input = tf.keras.layers.Input(shape=(max_len,), name=\"X\")\n",
    "Embed_ = tf.keras.layers.Embedding(input_dim=max_words, output_dim=embed_vec_len, name=\"Embed_\")(X_input)\n",
    "Drop1 = tf.keras.layers.Dropout(0.2)(Embed_)\n",
    "BGRU_1 = tf.keras.layers.Bidirectional(tf.keras.layers.GRU(16, return_sequences=False, dropout=0.25, recurrent_dropout=0.25, activation=\"relu\", implementation=2, name=\"GRU_1\", stateful=False), name=\"BGRU_1\")(Drop1)\n",
    "Drop2 = tf.keras.layers.Dropout(0.3)(BGRU_1)\n",
    "Dense_1 = tf.keras.layers.Dense(units=16, activation='relu', name=\"Dense_1\")(Drop2)\n",
    "Drop3 = tf.keras.layers.Dropout(0.4)(Dense_1)\n",
    "Dense_2 = tf.keras.layers.Dense(units=16, activation='relu', name=\"Dense_2\")(Dense_1)\n",
    "Drop4 = tf.keras.layers.Dropout(0.5)(Dense_2)\n",
    "\n",
    "y_output = tf.keras.layers.Dense(units=num_classes, activation=\"softmax\", name=\"y\")(Dense_2)\n",
    "\n",
    "model = tf.keras.models.Model(inputs=[X_input], outputs=[y_output], name=\"my_model\")\n",
    "model.compile(loss='categorical_crossentropy', optimizer='adam', metrics=['accuracy'])"
   ]
  },
  {
   "cell_type": "code",
   "execution_count": 33,
   "metadata": {},
   "outputs": [
    {
     "name": "stdout",
     "output_type": "stream",
     "text": [
      "Model: \"my_model\"\n",
      "_________________________________________________________________\n",
      "Layer (type)                 Output Shape              Param #   \n",
      "=================================================================\n",
      "X (InputLayer)               [(None, 150)]             0         \n",
      "_________________________________________________________________\n",
      "Embed_ (Embedding)           (None, 150, 50)           100000    \n",
      "_________________________________________________________________\n",
      "dropout (Dropout)            (None, 150, 50)           0         \n",
      "_________________________________________________________________\n",
      "BGRU_1 (Bidirectional)       (None, 32)                6528      \n",
      "_________________________________________________________________\n",
      "dropout_1 (Dropout)          (None, 32)                0         \n",
      "_________________________________________________________________\n",
      "Dense_1 (Dense)              (None, 16)                528       \n",
      "_________________________________________________________________\n",
      "Dense_2 (Dense)              (None, 16)                272       \n",
      "_________________________________________________________________\n",
      "y (Dense)                    (None, 5)                 85        \n",
      "=================================================================\n",
      "Total params: 107,413\n",
      "Trainable params: 107,413\n",
      "Non-trainable params: 0\n",
      "_________________________________________________________________\n"
     ]
    }
   ],
   "source": [
    "model.summary()"
   ]
  },
  {
   "cell_type": "code",
   "execution_count": 34,
   "metadata": {},
   "outputs": [
    {
     "data": {
      "image/png": "[encoded data removed]",
      "text/plain": [
       "<IPython.core.display.Image object>"
      ]
     },
     "execution_count": 34,
     "metadata": {},
     "output_type": "execute_result"
    }
   ],
   "source": [
    "tf.keras.utils.plot_model(model)"
   ]
  },
  {
   "cell_type": "code",
   "execution_count": 35,
   "metadata": {},
   "outputs": [
    {
     "name": "stdout",
     "output_type": "stream",
     "text": [
      "WARNING:tensorflow:`period` argument is deprecated. Please use `save_freq` to specify the frequency in number of batches seen.\n",
      "Epoch 1/99150\n",
      "11/11 [==============================] - ETA: 0s - loss: 1.5722 - accuracy: 0.2502\n",
      "Epoch 00001: val_accuracy improved from -inf to 0.59802, saving model to best_model.h5\n",
      "11/11 [==============================] - 4s 381ms/step - loss: 1.5722 - accuracy: 0.2502 - val_loss: 1.5477 - val_accuracy: 0.5980 - lr: 0.0010\n",
      "Epoch 2/99150\n",
      "11/11 [==============================] - ETA: 0s - loss: 1.4621 - accuracy: 0.6682\n",
      "Epoch 00002: val_accuracy improved from 0.59802 to 0.62270, saving model to best_model.h5\n",
      "11/11 [==============================] - 4s 353ms/step - loss: 1.4621 - accuracy: 0.6682 - val_loss: 1.4544 - val_accuracy: 0.6227 - lr: 0.0010\n",
      "Epoch 3/99150\n",
      "11/11 [==============================] - ETA: 0s - loss: 1.2940 - accuracy: 0.7264\n",
      "Epoch 00003: val_accuracy did not improve from 0.62270\n",
      "11/11 [==============================] - 4s 350ms/step - loss: 1.2940 - accuracy: 0.7264 - val_loss: 1.3459 - val_accuracy: 0.6227 - lr: 0.0010\n",
      "Epoch 4/99150\n",
      "11/11 [==============================] - ETA: 0s - loss: 1.1031 - accuracy: 0.7269\n",
      "Epoch 00004: val_accuracy did not improve from 0.62270\n",
      "11/11 [==============================] - 4s 353ms/step - loss: 1.1031 - accuracy: 0.7269 - val_loss: 1.2900 - val_accuracy: 0.6227 - lr: 0.0010\n",
      "Epoch 5/99150\n",
      "11/11 [==============================] - ETA: 0s - loss: 0.9701 - accuracy: 0.7269\n",
      "Epoch 00005: val_accuracy did not improve from 0.62270\n",
      "11/11 [==============================] - 4s 353ms/step - loss: 0.9701 - accuracy: 0.7269 - val_loss: 1.1963 - val_accuracy: 0.6227 - lr: 0.0010\n",
      "Epoch 6/99150\n",
      "11/11 [==============================] - ETA: 0s - loss: 0.8712 - accuracy: 0.7269\n",
      "Epoch 00006: val_accuracy did not improve from 0.62270\n",
      "11/11 [==============================] - 4s 356ms/step - loss: 0.8712 - accuracy: 0.7269 - val_loss: 1.0401 - val_accuracy: 0.6227 - lr: 0.0010\n",
      "Epoch 7/99150\n",
      "11/11 [==============================] - ETA: 0s - loss: 0.7945 - accuracy: 0.7269\n",
      "Epoch 00007: val_accuracy did not improve from 0.62270\n",
      "11/11 [==============================] - 4s 350ms/step - loss: 0.7945 - accuracy: 0.7269 - val_loss: 0.9577 - val_accuracy: 0.6227 - lr: 0.0010\n",
      "Epoch 8/99150\n",
      "11/11 [==============================] - ETA: 0s - loss: 0.7489 - accuracy: 0.7269\n",
      "Epoch 00008: val_accuracy did not improve from 0.62270\n",
      "11/11 [==============================] - 4s 349ms/step - loss: 0.7489 - accuracy: 0.7269 - val_loss: 0.9034 - val_accuracy: 0.6227 - lr: 0.0010\n",
      "Epoch 9/99150\n",
      "11/11 [==============================] - ETA: 0s - loss: 0.7165 - accuracy: 0.7268\n",
      "Epoch 00009: val_accuracy did not improve from 0.62270\n",
      "11/11 [==============================] - 4s 351ms/step - loss: 0.7165 - accuracy: 0.7268 - val_loss: 0.8688 - val_accuracy: 0.6227 - lr: 0.0010\n",
      "Epoch 10/99150\n",
      "11/11 [==============================] - ETA: 0s - loss: 0.7042 - accuracy: 0.7290\n",
      "Epoch 00010: val_accuracy improved from 0.62270 to 0.62754, saving model to best_model.h5\n",
      "11/11 [==============================] - 4s 356ms/step - loss: 0.7042 - accuracy: 0.7290 - val_loss: 0.8645 - val_accuracy: 0.6275 - lr: 0.0010\n",
      "Epoch 11/99150\n",
      "11/11 [==============================] - ETA: 0s - loss: 0.6838 - accuracy: 0.7349\n",
      "Epoch 00011: val_accuracy improved from 0.62754 to 0.65126, saving model to best_model.h5\n",
      "11/11 [==============================] - 4s 350ms/step - loss: 0.6838 - accuracy: 0.7349 - val_loss: 0.8631 - val_accuracy: 0.6513 - lr: 0.0010\n",
      "Epoch 12/99150\n",
      "11/11 [==============================] - ETA: 0s - loss: 0.6660 - accuracy: 0.7483\n",
      "Epoch 00012: val_accuracy improved from 0.65126 to 0.69676, saving model to best_model.h5\n",
      "11/11 [==============================] - 4s 352ms/step - loss: 0.6660 - accuracy: 0.7483 - val_loss: 0.8267 - val_accuracy: 0.6968 - lr: 0.0010\n",
      "Epoch 13/99150\n",
      "11/11 [==============================] - ETA: 0s - loss: 0.6525 - accuracy: 0.7638\n",
      "Epoch 00013: val_accuracy improved from 0.69676 to 0.71467, saving model to best_model.h5\n",
      "11/11 [==============================] - 4s 355ms/step - loss: 0.6525 - accuracy: 0.7638 - val_loss: 0.8102 - val_accuracy: 0.7147 - lr: 0.0010\n",
      "Epoch 14/99150\n",
      "11/11 [==============================] - ETA: 0s - loss: 0.6395 - accuracy: 0.7709\n",
      "Epoch 00014: val_accuracy improved from 0.71467 to 0.72435, saving model to best_model.h5\n",
      "11/11 [==============================] - 4s 351ms/step - loss: 0.6395 - accuracy: 0.7709 - val_loss: 0.7939 - val_accuracy: 0.7243 - lr: 0.0010\n",
      "Epoch 15/99150\n",
      "11/11 [==============================] - ETA: 0s - loss: 0.6298 - accuracy: 0.7710\n",
      "Epoch 00015: val_accuracy improved from 0.72435 to 0.72580, saving model to best_model.h5\n",
      "11/11 [==============================] - 4s 354ms/step - loss: 0.6298 - accuracy: 0.7710 - val_loss: 0.7998 - val_accuracy: 0.7258 - lr: 0.0010\n",
      "Epoch 16/99150\n",
      "11/11 [==============================] - ETA: 0s - loss: 0.6187 - accuracy: 0.7765\n",
      "Epoch 00016: val_accuracy improved from 0.72580 to 0.73427, saving model to best_model.h5\n",
      "11/11 [==============================] - 4s 354ms/step - loss: 0.6187 - accuracy: 0.7765 - val_loss: 0.7799 - val_accuracy: 0.7343 - lr: 0.0010\n",
      "Epoch 17/99150\n",
      "11/11 [==============================] - ETA: 0s - loss: 0.6123 - accuracy: 0.7814\n",
      "Epoch 00017: val_accuracy improved from 0.73427 to 0.73959, saving model to best_model.h5\n",
      "11/11 [==============================] - 4s 358ms/step - loss: 0.6123 - accuracy: 0.7814 - val_loss: 0.7795 - val_accuracy: 0.7396 - lr: 0.0010\n",
      "Epoch 18/99150\n",
      "11/11 [==============================] - ETA: 0s - loss: 0.6052 - accuracy: 0.7825\n",
      "Epoch 00018: val_accuracy did not improve from 0.73959\n",
      "11/11 [==============================] - 4s 351ms/step - loss: 0.6052 - accuracy: 0.7825 - val_loss: 0.7828 - val_accuracy: 0.7396 - lr: 0.0010\n",
      "Epoch 19/99150\n",
      "11/11 [==============================] - ETA: 0s - loss: 0.6026 - accuracy: 0.7822\n",
      "Epoch 00019: val_accuracy improved from 0.73959 to 0.74322, saving model to best_model.h5\n",
      "11/11 [==============================] - 4s 355ms/step - loss: 0.6026 - accuracy: 0.7822 - val_loss: 0.7723 - val_accuracy: 0.7432 - lr: 0.0010\n",
      "Epoch 20/99150\n",
      "11/11 [==============================] - ETA: 0s - loss: 0.5941 - accuracy: 0.7868\n",
      "Epoch 00020: val_accuracy did not improve from 0.74322\n",
      "11/11 [==============================] - 4s 350ms/step - loss: 0.5941 - accuracy: 0.7868 - val_loss: 0.7744 - val_accuracy: 0.7430 - lr: 0.0010\n",
      "Epoch 21/99150\n",
      "11/11 [==============================] - ETA: 0s - loss: 0.5952 - accuracy: 0.7854\n",
      "Epoch 00021: val_accuracy improved from 0.74322 to 0.74371, saving model to best_model.h5\n",
      "11/11 [==============================] - 4s 365ms/step - loss: 0.5952 - accuracy: 0.7854 - val_loss: 0.7702 - val_accuracy: 0.7437 - lr: 0.0010\n",
      "Epoch 22/99150\n",
      "11/11 [==============================] - ETA: 0s - loss: 0.5873 - accuracy: 0.7879\n",
      "Epoch 00022: val_accuracy improved from 0.74371 to 0.74492, saving model to best_model.h5\n",
      "11/11 [==============================] - 4s 354ms/step - loss: 0.5873 - accuracy: 0.7879 - val_loss: 0.7655 - val_accuracy: 0.7449 - lr: 0.0010\n",
      "Epoch 23/99150\n",
      "11/11 [==============================] - ETA: 0s - loss: 0.5851 - accuracy: 0.7877\n",
      "Epoch 00023: val_accuracy did not improve from 0.74492\n",
      "11/11 [==============================] - 4s 356ms/step - loss: 0.5851 - accuracy: 0.7877 - val_loss: 0.7691 - val_accuracy: 0.7439 - lr: 0.0010\n",
      "Epoch 24/99150\n",
      "11/11 [==============================] - ETA: 0s - loss: 0.5811 - accuracy: 0.7890\n",
      "Epoch 00024: val_accuracy did not improve from 0.74492\n",
      "11/11 [==============================] - 4s 352ms/step - loss: 0.5811 - accuracy: 0.7890 - val_loss: 0.7767 - val_accuracy: 0.7430 - lr: 0.0010\n",
      "Epoch 25/99150\n",
      "11/11 [==============================] - ETA: 0s - loss: 0.5814 - accuracy: 0.7874\n",
      "Epoch 00025: val_accuracy improved from 0.74492 to 0.74540, saving model to best_model.h5\n",
      "11/11 [==============================] - 4s 356ms/step - loss: 0.5814 - accuracy: 0.7874 - val_loss: 0.7702 - val_accuracy: 0.7454 - lr: 0.0010\n",
      "Epoch 26/99150\n",
      "11/11 [==============================] - ETA: 0s - loss: 0.5745 - accuracy: 0.7908\n",
      "Epoch 00026: val_accuracy did not improve from 0.74540\n",
      "11/11 [==============================] - 4s 351ms/step - loss: 0.5745 - accuracy: 0.7908 - val_loss: 0.7715 - val_accuracy: 0.7439 - lr: 0.0010\n"
     ]
    },
    {
     "name": "stdout",
     "output_type": "stream",
     "text": [
      "Epoch 27/99150\n",
      "11/11 [==============================] - ETA: 0s - loss: 0.5732 - accuracy: 0.7913\n",
      "Epoch 00027: val_accuracy improved from 0.74540 to 0.74564, saving model to best_model.h5\n",
      "11/11 [==============================] - 4s 352ms/step - loss: 0.5732 - accuracy: 0.7913 - val_loss: 0.7804 - val_accuracy: 0.7456 - lr: 0.0010\n",
      "Epoch 28/99150\n",
      "11/11 [==============================] - ETA: 0s - loss: 0.5716 - accuracy: 0.7920\n",
      "Epoch 00028: val_accuracy improved from 0.74564 to 0.74782, saving model to best_model.h5\n",
      "11/11 [==============================] - 4s 356ms/step - loss: 0.5716 - accuracy: 0.7920 - val_loss: 0.7735 - val_accuracy: 0.7478 - lr: 0.0010\n",
      "Epoch 29/99150\n",
      "11/11 [==============================] - ETA: 0s - loss: 0.5671 - accuracy: 0.7929\n",
      "Epoch 00029: val_accuracy did not improve from 0.74782\n",
      "11/11 [==============================] - 4s 353ms/step - loss: 0.5671 - accuracy: 0.7929 - val_loss: 0.7767 - val_accuracy: 0.7466 - lr: 0.0010\n",
      "Epoch 30/99150\n",
      "11/11 [==============================] - ETA: 0s - loss: 0.5657 - accuracy: 0.7929\n",
      "Epoch 00030: val_accuracy did not improve from 0.74782\n",
      "11/11 [==============================] - 4s 351ms/step - loss: 0.5657 - accuracy: 0.7929 - val_loss: 0.7726 - val_accuracy: 0.7461 - lr: 0.0010\n",
      "Epoch 31/99150\n",
      "11/11 [==============================] - ETA: 0s - loss: 0.5615 - accuracy: 0.7940\n",
      "Epoch 00031: val_accuracy did not improve from 0.74782\n",
      "11/11 [==============================] - 4s 354ms/step - loss: 0.5615 - accuracy: 0.7940 - val_loss: 0.7847 - val_accuracy: 0.7437 - lr: 0.0010\n",
      "Epoch 32/99150\n",
      "11/11 [==============================] - ETA: 0s - loss: 0.5590 - accuracy: 0.7954\n",
      "Epoch 00032: val_accuracy did not improve from 0.74782\n",
      "11/11 [==============================] - 4s 354ms/step - loss: 0.5590 - accuracy: 0.7954 - val_loss: 0.7833 - val_accuracy: 0.7432 - lr: 0.0010\n",
      "Epoch 33/99150\n",
      "11/11 [==============================] - ETA: 0s - loss: 0.5584 - accuracy: 0.7963\n",
      "Epoch 00033: val_accuracy did not improve from 0.74782\n",
      "11/11 [==============================] - 4s 353ms/step - loss: 0.5584 - accuracy: 0.7963 - val_loss: 0.7905 - val_accuracy: 0.7415 - lr: 0.0010\n",
      "Epoch 34/99150\n",
      "11/11 [==============================] - ETA: 0s - loss: 0.5558 - accuracy: 0.7970\n",
      "Epoch 00034: val_accuracy did not improve from 0.74782\n",
      "11/11 [==============================] - 4s 354ms/step - loss: 0.5558 - accuracy: 0.7970 - val_loss: 0.7874 - val_accuracy: 0.7456 - lr: 0.0010\n",
      "Epoch 35/99150\n",
      "11/11 [==============================] - ETA: 0s - loss: 0.5558 - accuracy: 0.7957\n",
      "Epoch 00035: val_accuracy did not improve from 0.74782\n",
      "11/11 [==============================] - 4s 352ms/step - loss: 0.5558 - accuracy: 0.7957 - val_loss: 0.8019 - val_accuracy: 0.7408 - lr: 0.0010\n",
      "Epoch 36/99150\n",
      "11/11 [==============================] - ETA: 0s - loss: 0.5538 - accuracy: 0.7984\n",
      "Epoch 00036: val_accuracy did not improve from 0.74782\n",
      "11/11 [==============================] - 4s 349ms/step - loss: 0.5538 - accuracy: 0.7984 - val_loss: 0.8011 - val_accuracy: 0.7418 - lr: 0.0010\n",
      "Epoch 37/99150\n",
      "11/11 [==============================] - ETA: 0s - loss: 0.5523 - accuracy: 0.7982\n",
      "Epoch 00037: val_accuracy did not improve from 0.74782\n",
      "11/11 [==============================] - 4s 356ms/step - loss: 0.5523 - accuracy: 0.7982 - val_loss: 0.7877 - val_accuracy: 0.7394 - lr: 0.0010\n",
      "Epoch 38/99150\n",
      "11/11 [==============================] - ETA: 0s - loss: 0.5460 - accuracy: 0.8000\n",
      "Epoch 00038: val_accuracy did not improve from 0.74782\n",
      "\n",
      "Epoch 00038: ReduceLROnPlateau reducing learning rate to 0.0007500000356230885.\n",
      "11/11 [==============================] - 4s 350ms/step - loss: 0.5460 - accuracy: 0.8000 - val_loss: 0.8016 - val_accuracy: 0.7420 - lr: 0.0010\n",
      "Epoch 39/99150\n",
      "11/11 [==============================] - ETA: 0s - loss: 0.5460 - accuracy: 0.7993\n",
      "Epoch 00039: val_accuracy did not improve from 0.74782\n",
      "11/11 [==============================] - 4s 349ms/step - loss: 0.5460 - accuracy: 0.7993 - val_loss: 0.8054 - val_accuracy: 0.7418 - lr: 7.5000e-04\n",
      "Epoch 40/99150\n",
      "11/11 [==============================] - ETA: 0s - loss: 0.5445 - accuracy: 0.8010\n",
      "Epoch 00040: val_accuracy did not improve from 0.74782\n",
      "11/11 [==============================] - 4s 351ms/step - loss: 0.5445 - accuracy: 0.8010 - val_loss: 0.8021 - val_accuracy: 0.7408 - lr: 7.5000e-04\n",
      "Epoch 41/99150\n",
      "11/11 [==============================] - ETA: 0s - loss: 0.5450 - accuracy: 0.8011\n",
      "Epoch 00041: val_accuracy did not improve from 0.74782\n",
      "11/11 [==============================] - 4s 353ms/step - loss: 0.5450 - accuracy: 0.8011 - val_loss: 0.7950 - val_accuracy: 0.7401 - lr: 7.5000e-04\n",
      "Epoch 42/99150\n",
      "11/11 [==============================] - ETA: 0s - loss: 0.5418 - accuracy: 0.8026\n",
      "Epoch 00042: val_accuracy did not improve from 0.74782\n",
      "11/11 [==============================] - 4s 351ms/step - loss: 0.5418 - accuracy: 0.8026 - val_loss: 0.8072 - val_accuracy: 0.7391 - lr: 7.5000e-04\n",
      "Epoch 43/99150\n",
      "11/11 [==============================] - ETA: 0s - loss: 0.5405 - accuracy: 0.7997\n",
      "Epoch 00043: val_accuracy did not improve from 0.74782\n",
      "11/11 [==============================] - 4s 353ms/step - loss: 0.5405 - accuracy: 0.7997 - val_loss: 0.8091 - val_accuracy: 0.7406 - lr: 7.5000e-04\n",
      "Epoch 44/99150\n",
      "11/11 [==============================] - ETA: 0s - loss: 0.5425 - accuracy: 0.8028\n",
      "Epoch 00044: val_accuracy did not improve from 0.74782\n",
      "11/11 [==============================] - 4s 356ms/step - loss: 0.5425 - accuracy: 0.8028 - val_loss: 0.8239 - val_accuracy: 0.7398 - lr: 7.5000e-04\n",
      "Epoch 45/99150\n",
      "11/11 [==============================] - ETA: 0s - loss: 0.5386 - accuracy: 0.8027\n",
      "Epoch 00045: val_accuracy did not improve from 0.74782\n",
      "11/11 [==============================] - 4s 355ms/step - loss: 0.5386 - accuracy: 0.8027 - val_loss: 0.8067 - val_accuracy: 0.7377 - lr: 7.5000e-04\n",
      "Epoch 46/99150\n",
      "11/11 [==============================] - ETA: 0s - loss: 0.5375 - accuracy: 0.8033\n",
      "Epoch 00046: val_accuracy did not improve from 0.74782\n",
      "11/11 [==============================] - 4s 349ms/step - loss: 0.5375 - accuracy: 0.8033 - val_loss: 0.8064 - val_accuracy: 0.7386 - lr: 7.5000e-04\n",
      "Epoch 47/99150\n",
      "11/11 [==============================] - ETA: 0s - loss: 0.5374 - accuracy: 0.8030\n",
      "Epoch 00047: val_accuracy did not improve from 0.74782\n",
      "11/11 [==============================] - 4s 351ms/step - loss: 0.5374 - accuracy: 0.8030 - val_loss: 0.8164 - val_accuracy: 0.7374 - lr: 7.5000e-04\n",
      "Epoch 48/99150\n",
      "11/11 [==============================] - ETA: 0s - loss: 0.5349 - accuracy: 0.8054\n",
      "Epoch 00048: val_accuracy did not improve from 0.74782\n",
      "\n",
      "Epoch 00048: ReduceLROnPlateau reducing learning rate to 0.0005625000048894435.\n",
      "11/11 [==============================] - 4s 352ms/step - loss: 0.5349 - accuracy: 0.8054 - val_loss: 0.8085 - val_accuracy: 0.7389 - lr: 7.5000e-04\n",
      "Epoch 49/99150\n",
      "11/11 [==============================] - ETA: 0s - loss: 0.5360 - accuracy: 0.8033\n",
      "Epoch 00049: val_accuracy did not improve from 0.74782\n",
      "11/11 [==============================] - 4s 353ms/step - loss: 0.5360 - accuracy: 0.8033 - val_loss: 0.8312 - val_accuracy: 0.7377 - lr: 5.6250e-04\n",
      "Epoch 50/99150\n",
      "11/11 [==============================] - ETA: 0s - loss: 0.5284 - accuracy: 0.8052\n",
      "Epoch 00050: val_accuracy did not improve from 0.74782\n",
      "11/11 [==============================] - 4s 350ms/step - loss: 0.5284 - accuracy: 0.8052 - val_loss: 0.8163 - val_accuracy: 0.7394 - lr: 5.6250e-04\n",
      "Epoch 51/99150\n",
      "11/11 [==============================] - ETA: 0s - loss: 0.5305 - accuracy: 0.8058\n",
      "Epoch 00051: val_accuracy did not improve from 0.74782\n",
      "11/11 [==============================] - 4s 350ms/step - loss: 0.5305 - accuracy: 0.8058 - val_loss: 0.8178 - val_accuracy: 0.7389 - lr: 5.6250e-04\n",
      "Epoch 52/99150\n",
      "11/11 [==============================] - ETA: 0s - loss: 0.5281 - accuracy: 0.8077\n",
      "Epoch 00052: val_accuracy did not improve from 0.74782\n",
      "11/11 [==============================] - 4s 350ms/step - loss: 0.5281 - accuracy: 0.8077 - val_loss: 0.8263 - val_accuracy: 0.7379 - lr: 5.6250e-04\n",
      "Epoch 53/99150\n",
      "11/11 [==============================] - ETA: 0s - loss: 0.5315 - accuracy: 0.8046\n",
      "Epoch 00053: val_accuracy did not improve from 0.74782\n",
      "11/11 [==============================] - 4s 352ms/step - loss: 0.5315 - accuracy: 0.8046 - val_loss: 0.8165 - val_accuracy: 0.7377 - lr: 5.6250e-04\n"
     ]
    },
    {
     "name": "stdout",
     "output_type": "stream",
     "text": [
      "Epoch 54/99150\n",
      "11/11 [==============================] - ETA: 0s - loss: 0.5298 - accuracy: 0.8059\n",
      "Epoch 00054: val_accuracy did not improve from 0.74782\n",
      "11/11 [==============================] - 4s 352ms/step - loss: 0.5298 - accuracy: 0.8059 - val_loss: 0.8333 - val_accuracy: 0.7360 - lr: 5.6250e-04\n",
      "Epoch 55/99150\n",
      "11/11 [==============================] - ETA: 0s - loss: 0.5286 - accuracy: 0.8057\n",
      "Epoch 00055: val_accuracy did not improve from 0.74782\n",
      "11/11 [==============================] - 4s 351ms/step - loss: 0.5286 - accuracy: 0.8057 - val_loss: 0.8294 - val_accuracy: 0.7355 - lr: 5.6250e-04\n",
      "Epoch 56/99150\n",
      "11/11 [==============================] - ETA: 0s - loss: 0.5272 - accuracy: 0.8075\n",
      "Epoch 00056: val_accuracy did not improve from 0.74782\n",
      "11/11 [==============================] - 4s 354ms/step - loss: 0.5272 - accuracy: 0.8075 - val_loss: 0.8352 - val_accuracy: 0.7372 - lr: 5.6250e-04\n",
      "Epoch 57/99150\n",
      "11/11 [==============================] - ETA: 0s - loss: 0.5233 - accuracy: 0.8080\n",
      "Epoch 00057: val_accuracy did not improve from 0.74782\n",
      "11/11 [==============================] - 4s 352ms/step - loss: 0.5233 - accuracy: 0.8080 - val_loss: 0.8358 - val_accuracy: 0.7364 - lr: 5.6250e-04\n",
      "Epoch 58/99150\n",
      "11/11 [==============================] - ETA: 0s - loss: 0.5244 - accuracy: 0.8102\n",
      "Epoch 00058: val_accuracy did not improve from 0.74782\n",
      "\n",
      "Epoch 00058: ReduceLROnPlateau reducing learning rate to 0.0004218749818392098.\n",
      "11/11 [==============================] - 4s 351ms/step - loss: 0.5244 - accuracy: 0.8102 - val_loss: 0.8379 - val_accuracy: 0.7369 - lr: 5.6250e-04\n",
      "Epoch 59/99150\n",
      "11/11 [==============================] - ETA: 0s - loss: 0.5244 - accuracy: 0.8095\n",
      "Epoch 00059: val_accuracy did not improve from 0.74782\n",
      "11/11 [==============================] - 4s 352ms/step - loss: 0.5244 - accuracy: 0.8095 - val_loss: 0.8302 - val_accuracy: 0.7374 - lr: 4.2187e-04\n",
      "Epoch 60/99150\n",
      "11/11 [==============================] - ETA: 0s - loss: 0.5252 - accuracy: 0.8093\n",
      "Epoch 00060: val_accuracy did not improve from 0.74782\n",
      "11/11 [==============================] - 4s 353ms/step - loss: 0.5252 - accuracy: 0.8093 - val_loss: 0.8368 - val_accuracy: 0.7362 - lr: 4.2187e-04\n",
      "Epoch 61/99150\n",
      "11/11 [==============================] - ETA: 0s - loss: 0.5220 - accuracy: 0.8099\n",
      "Epoch 00061: val_accuracy did not improve from 0.74782\n",
      "11/11 [==============================] - 4s 375ms/step - loss: 0.5220 - accuracy: 0.8099 - val_loss: 0.8429 - val_accuracy: 0.7364 - lr: 4.2187e-04\n",
      "Epoch 62/99150\n",
      "11/11 [==============================] - ETA: 0s - loss: 0.5237 - accuracy: 0.8088\n",
      "Epoch 00062: val_accuracy did not improve from 0.74782\n",
      "11/11 [==============================] - 4s 356ms/step - loss: 0.5237 - accuracy: 0.8088 - val_loss: 0.8354 - val_accuracy: 0.7369 - lr: 4.2187e-04\n",
      "Epoch 63/99150\n",
      "11/11 [==============================] - ETA: 0s - loss: 0.5233 - accuracy: 0.8110\n",
      "Epoch 00063: val_accuracy did not improve from 0.74782\n",
      "11/11 [==============================] - 4s 351ms/step - loss: 0.5233 - accuracy: 0.8110 - val_loss: 0.8371 - val_accuracy: 0.7379 - lr: 4.2187e-04\n",
      "Epoch 64/99150\n",
      "11/11 [==============================] - ETA: 0s - loss: 0.5221 - accuracy: 0.8088\n",
      "Epoch 00064: val_accuracy did not improve from 0.74782\n",
      "11/11 [==============================] - 4s 350ms/step - loss: 0.5221 - accuracy: 0.8088 - val_loss: 0.8352 - val_accuracy: 0.7381 - lr: 4.2187e-04\n",
      "Epoch 65/99150\n",
      "11/11 [==============================] - ETA: 0s - loss: 0.5212 - accuracy: 0.8090\n",
      "Epoch 00065: val_accuracy did not improve from 0.74782\n",
      "11/11 [==============================] - 4s 351ms/step - loss: 0.5212 - accuracy: 0.8090 - val_loss: 0.8274 - val_accuracy: 0.7374 - lr: 4.2187e-04\n",
      "Epoch 66/99150\n",
      "11/11 [==============================] - ETA: 0s - loss: 0.5204 - accuracy: 0.8090\n",
      "Epoch 00066: val_accuracy did not improve from 0.74782\n",
      "11/11 [==============================] - 4s 347ms/step - loss: 0.5204 - accuracy: 0.8090 - val_loss: 0.8357 - val_accuracy: 0.7381 - lr: 4.2187e-04\n",
      "Epoch 67/99150\n",
      "11/11 [==============================] - ETA: 0s - loss: 0.5200 - accuracy: 0.8099\n",
      "Epoch 00067: val_accuracy did not improve from 0.74782\n",
      "11/11 [==============================] - 4s 354ms/step - loss: 0.5200 - accuracy: 0.8099 - val_loss: 0.8312 - val_accuracy: 0.7384 - lr: 4.2187e-04\n",
      "Epoch 68/99150\n",
      "11/11 [==============================] - ETA: 0s - loss: 0.5186 - accuracy: 0.8097\n",
      "Epoch 00068: val_accuracy did not improve from 0.74782\n",
      "\n",
      "Epoch 00068: ReduceLROnPlateau reducing learning rate to 0.00031640623637940735.\n",
      "11/11 [==============================] - 4s 351ms/step - loss: 0.5186 - accuracy: 0.8097 - val_loss: 0.8389 - val_accuracy: 0.7360 - lr: 4.2187e-04\n",
      "Epoch 69/99150\n",
      "11/11 [==============================] - ETA: 0s - loss: 0.5191 - accuracy: 0.8087\n",
      "Epoch 00069: val_accuracy did not improve from 0.74782\n",
      "11/11 [==============================] - 4s 356ms/step - loss: 0.5191 - accuracy: 0.8087 - val_loss: 0.8356 - val_accuracy: 0.7360 - lr: 3.1641e-04\n",
      "Epoch 70/99150\n",
      "11/11 [==============================] - ETA: 0s - loss: 0.5194 - accuracy: 0.8116\n",
      "Epoch 00070: val_accuracy did not improve from 0.74782\n",
      "11/11 [==============================] - 4s 350ms/step - loss: 0.5194 - accuracy: 0.8116 - val_loss: 0.8410 - val_accuracy: 0.7360 - lr: 3.1641e-04\n",
      "Epoch 71/99150\n",
      "11/11 [==============================] - ETA: 0s - loss: 0.5178 - accuracy: 0.8093\n",
      "Epoch 00071: val_accuracy did not improve from 0.74782\n",
      "11/11 [==============================] - 4s 350ms/step - loss: 0.5178 - accuracy: 0.8093 - val_loss: 0.8368 - val_accuracy: 0.7364 - lr: 3.1641e-04\n",
      "Epoch 72/99150\n",
      "11/11 [==============================] - ETA: 0s - loss: 0.5209 - accuracy: 0.8106\n",
      "Epoch 00072: val_accuracy did not improve from 0.74782\n",
      "11/11 [==============================] - 4s 355ms/step - loss: 0.5209 - accuracy: 0.8106 - val_loss: 0.8407 - val_accuracy: 0.7364 - lr: 3.1641e-04\n",
      "Epoch 73/99150\n",
      "11/11 [==============================] - ETA: 0s - loss: 0.5151 - accuracy: 0.8104\n",
      "Epoch 00073: val_accuracy did not improve from 0.74782\n",
      "11/11 [==============================] - 4s 349ms/step - loss: 0.5151 - accuracy: 0.8104 - val_loss: 0.8436 - val_accuracy: 0.7367 - lr: 3.1641e-04\n",
      "Epoch 74/99150\n",
      "11/11 [==============================] - ETA: 0s - loss: 0.5165 - accuracy: 0.8102\n",
      "Epoch 00074: val_accuracy did not improve from 0.74782\n",
      "11/11 [==============================] - 4s 352ms/step - loss: 0.5165 - accuracy: 0.8102 - val_loss: 0.8434 - val_accuracy: 0.7379 - lr: 3.1641e-04\n",
      "Epoch 75/99150\n",
      "11/11 [==============================] - ETA: 0s - loss: 0.5188 - accuracy: 0.8118\n",
      "Epoch 00075: val_accuracy did not improve from 0.74782\n",
      "11/11 [==============================] - 4s 357ms/step - loss: 0.5188 - accuracy: 0.8118 - val_loss: 0.8480 - val_accuracy: 0.7364 - lr: 3.1641e-04\n",
      "Epoch 76/99150\n",
      "11/11 [==============================] - ETA: 0s - loss: 0.5161 - accuracy: 0.8113\n",
      "Epoch 00076: val_accuracy did not improve from 0.74782\n",
      "11/11 [==============================] - 4s 352ms/step - loss: 0.5161 - accuracy: 0.8113 - val_loss: 0.8439 - val_accuracy: 0.7367 - lr: 3.1641e-04\n",
      "Epoch 77/99150\n",
      "11/11 [==============================] - ETA: 0s - loss: 0.5156 - accuracy: 0.8118\n",
      "Epoch 00077: val_accuracy did not improve from 0.74782\n",
      "11/11 [==============================] - 4s 355ms/step - loss: 0.5156 - accuracy: 0.8118 - val_loss: 0.8446 - val_accuracy: 0.7369 - lr: 3.1641e-04\n",
      "Epoch 78/99150\n",
      "11/11 [==============================] - ETA: 0s - loss: 0.5146 - accuracy: 0.8124\n",
      "Epoch 00078: val_accuracy did not improve from 0.74782\n",
      "Restoring model weights from the end of the best epoch.\n",
      "\n",
      "Epoch 00078: ReduceLROnPlateau reducing learning rate to 0.00023730468819849193.\n",
      "11/11 [==============================] - 4s 350ms/step - loss: 0.5146 - accuracy: 0.8124 - val_loss: 0.8491 - val_accuracy: 0.7374 - lr: 3.1641e-04\n",
      "Epoch 00078: early stopping\n"
     ]
    }
   ],
   "source": [
    "checkpoint = tf.keras.callbacks.ModelCheckpoint('best_model.h5',\n",
    "                            monitor=val_acc_name,\n",
    "                            save_best_only=True,\n",
    "                            period=1,\n",
    "                            verbose=1)\n",
    "\n",
    "early_stopping_callback = tf.keras.callbacks.EarlyStopping(monitor=val_acc_name, \n",
    "                                        min_delta=1e-9, \n",
    "                                        patience=50, \n",
    "                                        verbose=1, \n",
    "                                        mode='auto', \n",
    "                                        baseline=None, \n",
    "                                        restore_best_weights=True)\n",
    "learning_rate_reduction = tf.keras.callbacks.ReduceLROnPlateau(monitor=val_acc_name,\n",
    "                                           patience=10,\n",
    "                                           verbose=1,\n",
    "                                           factor=0.75,\n",
    "                                           min_lr=0.00000001)\n",
    "\n",
    "history = model.fit(x_train, y_train,\n",
    "                    batch_size=batch_size,\n",
    "                    epochs=epochs,\n",
    "                    verbose=1,\n",
    "                    validation_split=0.2,\n",
    "                    shuffle=True,\n",
    "                    callbacks=[checkpoint, early_stopping_callback, learning_rate_reduction])"
   ]
  },
  {
   "cell_type": "code",
   "execution_count": 36,
   "metadata": {},
   "outputs": [
    {
     "data": {
      "image/png": "[encoded data removed]",
      "text/plain": [
       "<Figure size 432x288 with 1 Axes>"
      ]
     },
     "metadata": {
      "needs_background": "light"
     },
     "output_type": "display_data"
    },
    {
     "data": {
      "image/png": "[encoded data removed]",
      "text/plain": [
       "<Figure size 432x288 with 1 Axes>"
      ]
     },
     "metadata": {
      "needs_background": "light"
     },
     "output_type": "display_data"
    }
   ],
   "source": [
    "plt.figure()\n",
    "plt.plot(history.history['loss'], label='train loss')\n",
    "plt.plot(history.history['val_loss'], label='validation loss')\n",
    "plt.xlabel('Эпоха обучения')\n",
    "plt.ylabel('Значение функции потерь')\n",
    "plt.legend()\n",
    "\n",
    "plt.figure()\n",
    "plt.plot(history.history[acc_name], label='train accuracy')\n",
    "plt.plot(history.history[val_acc_name], label='validation accuracy')\n",
    "plt.xlabel('Эпоха обучения')\n",
    "plt.ylabel('Доля верных ответов')\n",
    "plt.legend()\n",
    "\n",
    "plt.show()"
   ]
  },
  {
   "cell_type": "code",
   "execution_count": null,
   "metadata": {},
   "outputs": [],
   "source": []
  }
 ],
 "metadata": {
  "kernelspec": {
   "display_name": "Python 3",
   "language": "python",
   "name": "python3"
  },
  "language_info": {
   "codemirror_mode": {
    "name": "ipython",
    "version": 3
   },
   "file_extension": ".py",
   "mimetype": "text/x-python",
   "name": "python",
   "nbconvert_exporter": "python",
   "pygments_lexer": "ipython3",
   "version": "3.7.3"
  }
 },
 "nbformat": 4,
 "nbformat_minor": 2
}
