{
 "cells": [
  {
   "cell_type": "code",
   "execution_count": 1,
   "metadata": {},
   "outputs": [],
   "source": [
    "import pandas as pd\n",
    "import numpy as np\n",
    "from string import punctuation\n",
    "from stop_words import get_stop_words\n",
    "from pymorphy2 import MorphAnalyzer\n",
    "from string import punctuation\n",
    "import re\n",
    "import nltk\n",
    "from nltk.tokenize import word_tokenize\n",
    "from nltk.probability import FreqDist\n",
    "import tensorflow as tf\n",
    "from tensorflow import keras\n",
    "import matplotlib.pyplot as plt\n",
    "from gensim.models import Word2Vec\n",
    "import multiprocessing\n",
    "import youtokentome as yttm\n",
    "from sklearn.model_selection import train_test_split"
   ]
  },
  {
   "cell_type": "code",
   "execution_count": 2,
   "metadata": {},
   "outputs": [
    {
     "data": {
      "text/plain": [
       "'2.2.0'"
      ]
     },
     "execution_count": 2,
     "metadata": {},
     "output_type": "execute_result"
    }
   ],
   "source": [
    "tf.__version__"
   ]
  },
  {
   "cell_type": "code",
   "execution_count": 3,
   "metadata": {},
   "outputs": [
    {
     "data": {
      "text/plain": [
       "'2.3.0-tf'"
      ]
     },
     "execution_count": 3,
     "metadata": {},
     "output_type": "execute_result"
    }
   ],
   "source": [
    "keras.__version__"
   ]
  },
  {
   "cell_type": "code",
   "execution_count": 4,
   "metadata": {},
   "outputs": [],
   "source": [
    "if tf.__version__.startswith(\"1.\"):\n",
    "    val_acc_name = \"val_acc\"\n",
    "    acc_name = \"acc\"\n",
    "else:\n",
    "    val_acc_name = \"val_accuracy\"\n",
    "    acc_name = \"accuracy\""
   ]
  },
  {
   "cell_type": "code",
   "execution_count": 5,
   "metadata": {},
   "outputs": [],
   "source": [
    "max_words = 2000\n",
    "max_len = 50\n",
    "\n",
    "# Training\n",
    "epochs = 99150\n",
    "batch_size = 512\n",
    "embed_vec_len = 50"
   ]
  },
  {
   "cell_type": "code",
   "execution_count": 6,
   "metadata": {},
   "outputs": [],
   "source": [
    "exclude = set(punctuation)"
   ]
  },
  {
   "cell_type": "code",
   "execution_count": 7,
   "metadata": {},
   "outputs": [],
   "source": [
    "def preprocess_text(txt):\n",
    "    txt = str(txt)\n",
    "    txt = re.sub(r'( )+', \" \", re.sub(r'[^\\w\\s]', \" \", txt)).strip()\n",
    "    txt = \"\".join(c if c not in exclude else \" \" for c in txt)\n",
    "    txt = re.sub(r'( )+', \" \", re.sub(r'[^\\w\\s]', \" \", txt)).strip()\n",
    "    txt = txt.lower()\n",
    "#     txt = re.sub(\"\\sне\", \"не\", txt)\n",
    "    return txt"
   ]
  },
  {
   "cell_type": "code",
   "execution_count": 8,
   "metadata": {},
   "outputs": [
    {
     "data": {
      "text/html": [
       "<div>\n",
       "<style scoped>\n",
       "    .dataframe tbody tr th:only-of-type {\n",
       "        vertical-align: middle;\n",
       "    }\n",
       "\n",
       "    .dataframe tbody tr th {\n",
       "        vertical-align: top;\n",
       "    }\n",
       "\n",
       "    .dataframe thead th {\n",
       "        text-align: right;\n",
       "    }\n",
       "</style>\n",
       "<table border=\"1\" class=\"dataframe\">\n",
       "  <thead>\n",
       "    <tr style=\"text-align: right;\">\n",
       "      <th></th>\n",
       "      <th>Rating</th>\n",
       "      <th>Content</th>\n",
       "      <th>Date</th>\n",
       "    </tr>\n",
       "  </thead>\n",
       "  <tbody>\n",
       "    <tr>\n",
       "      <th>0</th>\n",
       "      <td>5</td>\n",
       "      <td>It just works!</td>\n",
       "      <td>2017-08-14</td>\n",
       "    </tr>\n",
       "    <tr>\n",
       "      <th>1</th>\n",
       "      <td>4</td>\n",
       "      <td>В целом удобноное приложение...из минусов хотя...</td>\n",
       "      <td>2017-08-14</td>\n",
       "    </tr>\n",
       "    <tr>\n",
       "      <th>2</th>\n",
       "      <td>5</td>\n",
       "      <td>Отлично все</td>\n",
       "      <td>2017-08-14</td>\n",
       "    </tr>\n",
       "    <tr>\n",
       "      <th>3</th>\n",
       "      <td>5</td>\n",
       "      <td>Стал зависать на 1% работы антивируса. Дальше ...</td>\n",
       "      <td>2017-08-14</td>\n",
       "    </tr>\n",
       "    <tr>\n",
       "      <th>4</th>\n",
       "      <td>5</td>\n",
       "      <td>Очень удобно, работает быстро.</td>\n",
       "      <td>2017-08-14</td>\n",
       "    </tr>\n",
       "  </tbody>\n",
       "</table>\n",
       "</div>"
      ],
      "text/plain": [
       "   Rating                                            Content        Date\n",
       "0       5                                     It just works!  2017-08-14\n",
       "1       4  В целом удобноное приложение...из минусов хотя...  2017-08-14\n",
       "2       5                                        Отлично все  2017-08-14\n",
       "3       5  Стал зависать на 1% работы антивируса. Дальше ...  2017-08-14\n",
       "4       5                     Очень удобно, работает быстро.  2017-08-14"
      ]
     },
     "execution_count": 8,
     "metadata": {},
     "output_type": "execute_result"
    }
   ],
   "source": [
    "otzivy_za_leto = pd.read_excel(\"../Lesson_05/отзывы за лето.xls\", )\n",
    "otzivy_za_leto.head()"
   ]
  },
  {
   "cell_type": "code",
   "execution_count": 9,
   "metadata": {},
   "outputs": [
    {
     "data": {
      "text/plain": [
       "array([5, 4, 2, 3, 1])"
      ]
     },
     "execution_count": 9,
     "metadata": {},
     "output_type": "execute_result"
    }
   ],
   "source": [
    "otzivy_za_leto.Rating.unique()"
   ]
  },
  {
   "cell_type": "code",
   "execution_count": 10,
   "metadata": {},
   "outputs": [],
   "source": [
    "# for to_categorical usage\n",
    "otzivy_za_leto.Rating = otzivy_za_leto.Rating - 1"
   ]
  },
  {
   "cell_type": "code",
   "execution_count": 11,
   "metadata": {},
   "outputs": [
    {
     "data": {
      "text/html": [
       "<div>\n",
       "<style scoped>\n",
       "    .dataframe tbody tr th:only-of-type {\n",
       "        vertical-align: middle;\n",
       "    }\n",
       "\n",
       "    .dataframe tbody tr th {\n",
       "        vertical-align: top;\n",
       "    }\n",
       "\n",
       "    .dataframe thead th {\n",
       "        text-align: right;\n",
       "    }\n",
       "</style>\n",
       "<table border=\"1\" class=\"dataframe\">\n",
       "  <thead>\n",
       "    <tr style=\"text-align: right;\">\n",
       "      <th></th>\n",
       "      <th>Rating</th>\n",
       "      <th>Content</th>\n",
       "      <th>Date</th>\n",
       "    </tr>\n",
       "  </thead>\n",
       "  <tbody>\n",
       "    <tr>\n",
       "      <th>0</th>\n",
       "      <td>4</td>\n",
       "      <td>It just works!</td>\n",
       "      <td>2017-08-14</td>\n",
       "    </tr>\n",
       "    <tr>\n",
       "      <th>1</th>\n",
       "      <td>3</td>\n",
       "      <td>В целом удобноное приложение...из минусов хотя...</td>\n",
       "      <td>2017-08-14</td>\n",
       "    </tr>\n",
       "    <tr>\n",
       "      <th>2</th>\n",
       "      <td>4</td>\n",
       "      <td>Отлично все</td>\n",
       "      <td>2017-08-14</td>\n",
       "    </tr>\n",
       "    <tr>\n",
       "      <th>3</th>\n",
       "      <td>4</td>\n",
       "      <td>Стал зависать на 1% работы антивируса. Дальше ...</td>\n",
       "      <td>2017-08-14</td>\n",
       "    </tr>\n",
       "    <tr>\n",
       "      <th>4</th>\n",
       "      <td>4</td>\n",
       "      <td>Очень удобно, работает быстро.</td>\n",
       "      <td>2017-08-14</td>\n",
       "    </tr>\n",
       "  </tbody>\n",
       "</table>\n",
       "</div>"
      ],
      "text/plain": [
       "   Rating                                            Content        Date\n",
       "0       4                                     It just works!  2017-08-14\n",
       "1       3  В целом удобноное приложение...из минусов хотя...  2017-08-14\n",
       "2       4                                        Отлично все  2017-08-14\n",
       "3       4  Стал зависать на 1% работы антивируса. Дальше ...  2017-08-14\n",
       "4       4                     Очень удобно, работает быстро.  2017-08-14"
      ]
     },
     "execution_count": 11,
     "metadata": {},
     "output_type": "execute_result"
    }
   ],
   "source": [
    "otzivy_za_leto.head()"
   ]
  },
  {
   "cell_type": "code",
   "execution_count": 12,
   "metadata": {},
   "outputs": [
    {
     "data": {
      "text/plain": [
       "array([4, 3, 1, 2, 0])"
      ]
     },
     "execution_count": 12,
     "metadata": {},
     "output_type": "execute_result"
    }
   ],
   "source": [
    "otzivy_za_leto.Rating.unique()"
   ]
  },
  {
   "cell_type": "code",
   "execution_count": null,
   "metadata": {},
   "outputs": [],
   "source": []
  },
  {
   "cell_type": "code",
   "execution_count": 13,
   "metadata": {},
   "outputs": [],
   "source": [
    "vfunc = np.vectorize(preprocess_text)"
   ]
  },
  {
   "cell_type": "code",
   "execution_count": 14,
   "metadata": {},
   "outputs": [
    {
     "name": "stdout",
     "output_type": "stream",
     "text": [
      "CPU times: user 348 ms, sys: 52 ms, total: 400 ms\n",
      "Wall time: 400 ms\n"
     ]
    },
    {
     "data": {
      "text/html": [
       "<div>\n",
       "<style scoped>\n",
       "    .dataframe tbody tr th:only-of-type {\n",
       "        vertical-align: middle;\n",
       "    }\n",
       "\n",
       "    .dataframe tbody tr th {\n",
       "        vertical-align: top;\n",
       "    }\n",
       "\n",
       "    .dataframe thead th {\n",
       "        text-align: right;\n",
       "    }\n",
       "</style>\n",
       "<table border=\"1\" class=\"dataframe\">\n",
       "  <thead>\n",
       "    <tr style=\"text-align: right;\">\n",
       "      <th></th>\n",
       "      <th>Rating</th>\n",
       "      <th>Content</th>\n",
       "      <th>Date</th>\n",
       "      <th>text</th>\n",
       "    </tr>\n",
       "  </thead>\n",
       "  <tbody>\n",
       "    <tr>\n",
       "      <th>0</th>\n",
       "      <td>4</td>\n",
       "      <td>It just works!</td>\n",
       "      <td>2017-08-14</td>\n",
       "      <td>it just works</td>\n",
       "    </tr>\n",
       "    <tr>\n",
       "      <th>1</th>\n",
       "      <td>3</td>\n",
       "      <td>В целом удобноное приложение...из минусов хотя...</td>\n",
       "      <td>2017-08-14</td>\n",
       "      <td>в целом удобноное приложение из минусов хотят ...</td>\n",
       "    </tr>\n",
       "    <tr>\n",
       "      <th>2</th>\n",
       "      <td>4</td>\n",
       "      <td>Отлично все</td>\n",
       "      <td>2017-08-14</td>\n",
       "      <td>отлично все</td>\n",
       "    </tr>\n",
       "    <tr>\n",
       "      <th>3</th>\n",
       "      <td>4</td>\n",
       "      <td>Стал зависать на 1% работы антивируса. Дальше ...</td>\n",
       "      <td>2017-08-14</td>\n",
       "      <td>стал зависать на 1 работы антивируса дальше ни...</td>\n",
       "    </tr>\n",
       "    <tr>\n",
       "      <th>4</th>\n",
       "      <td>4</td>\n",
       "      <td>Очень удобно, работает быстро.</td>\n",
       "      <td>2017-08-14</td>\n",
       "      <td>очень удобно работает быстро</td>\n",
       "    </tr>\n",
       "  </tbody>\n",
       "</table>\n",
       "</div>"
      ],
      "text/plain": [
       "   Rating                                            Content        Date  \\\n",
       "0       4                                     It just works!  2017-08-14   \n",
       "1       3  В целом удобноное приложение...из минусов хотя...  2017-08-14   \n",
       "2       4                                        Отлично все  2017-08-14   \n",
       "3       4  Стал зависать на 1% работы антивируса. Дальше ...  2017-08-14   \n",
       "4       4                     Очень удобно, работает быстро.  2017-08-14   \n",
       "\n",
       "                                                text  \n",
       "0                                      it just works  \n",
       "1  в целом удобноное приложение из минусов хотят ...  \n",
       "2                                        отлично все  \n",
       "3  стал зависать на 1 работы антивируса дальше ни...  \n",
       "4                       очень удобно работает быстро  "
      ]
     },
     "execution_count": 14,
     "metadata": {},
     "output_type": "execute_result"
    }
   ],
   "source": [
    "%%time\n",
    "otzivy_za_leto[\"text\"] = vfunc(otzivy_za_leto.Content)\n",
    "otzivy_za_leto.head()"
   ]
  },
  {
   "cell_type": "code",
   "execution_count": 15,
   "metadata": {},
   "outputs": [],
   "source": [
    "train_corpus = \" \".join(otzivy_za_leto[\"text\"])\n",
    "train_corpus = train_corpus.lower()"
   ]
  },
  {
   "cell_type": "code",
   "execution_count": 16,
   "metadata": {},
   "outputs": [
    {
     "data": {
      "text/plain": [
       "1136568"
      ]
     },
     "execution_count": 16,
     "metadata": {},
     "output_type": "execute_result"
    }
   ],
   "source": [
    "len(train_corpus)"
   ]
  },
  {
   "cell_type": "code",
   "execution_count": 17,
   "metadata": {},
   "outputs": [
    {
     "data": {
      "text/plain": [
       "'it just works в целом удобноное приложение из минусов хотят слишком большой доступ к персональным данным в телефоне приходится пользоваться в ограниченном режиме отлично все стал зависать на 1 работы антивируса дальше никуда ранее больше года пользовался нормально очень удобно работает быстро всё удобно норм очень удобное приложение все устраивает у меня работает все четко в отличии от банкоматов которые вечно зависают и тупят очень все хорошо все ок все нормально кроме того что уведомление нельзя удалять не стартует без доступа к gps sms звонкам и адресной книге филиал фсб одним словом очень удобно работает замечательно подвисаний нет очень удобно очень удобная штука отличное приложение удобно практично очень удобное приложение для оплаты платежей и переводов удобно и быстро очень удобное приложение вот можно было бы транспортные карты пополнять через приложение так вообще замечательно было бы жаль что история всех движений под семью замками хорошее приложение удобно и без лишних хлоп'"
      ]
     },
     "execution_count": 17,
     "metadata": {},
     "output_type": "execute_result"
    }
   ],
   "source": [
    "train_corpus[:1000]"
   ]
  },
  {
   "cell_type": "code",
   "execution_count": 18,
   "metadata": {},
   "outputs": [],
   "source": [
    "train_corpus_filepath = \"train_corpus.txt\"\n",
    "with open(train_corpus_filepath, \"wt\") as out:\n",
    "    out.write(train_corpus)"
   ]
  },
  {
   "cell_type": "code",
   "execution_count": 19,
   "metadata": {},
   "outputs": [],
   "source": [
    "# for i in range(20):\n",
    "#     print(otzivy_za_leto.iloc[i][\"Content\"],\"\\n\", otzivy_za_leto.iloc[i][\"text\"], \"\\n\\n\")"
   ]
  },
  {
   "cell_type": "code",
   "execution_count": 20,
   "metadata": {},
   "outputs": [],
   "source": [
    "bpe_model = yttm.BPE.train(data=train_corpus_filepath, vocab_size=max_words, model=\"model.bpe\")"
   ]
  },
  {
   "cell_type": "code",
   "execution_count": 21,
   "metadata": {},
   "outputs": [
    {
     "name": "stdout",
     "output_type": "stream",
     "text": [
      "[1686, 310, 531, 710, 11, 322, 29, 169]\n",
      "['▁привет', '▁как', '▁дела', '▁ма', 'р', 'ты', 'ш', 'ка']\n",
      "['привет как дела мартышка']\n"
     ]
    }
   ],
   "source": [
    "tst_text = \"привет как дела мартышка\"\n",
    "encoded = bpe_model.encode(tst_text)\n",
    "encoded2 = bpe_model.encode(tst_text, output_type=yttm.OutputType.SUBWORD)\n",
    "print(encoded)\n",
    "print(encoded2)\n",
    "print(bpe_model.decode(encoded))"
   ]
  },
  {
   "cell_type": "code",
   "execution_count": 22,
   "metadata": {},
   "outputs": [
    {
     "name": "stdout",
     "output_type": "stream",
     "text": [
      "0\n",
      "\t'it just works'\n",
      "\t[1259, 42, 4, 73, 1103, 42, 1133, 1632, 64, 43]\n",
      "\t['it just works']\n",
      "\t\n",
      "\n",
      "1\n",
      "\t'в целом удобноное приложение из минусов хотят слишком большой доступ к персональным данным в телефоне приходится пользоваться в ограниченном режиме'\n",
      "\t[119, 745, 153, 308, 147, 306, 862, 976, 615, 10, 1653, 876, 30, 439, 141, 516, 12, 525, 145, 671, 825, 671, 119, 609, 496, 492, 119, 966, 578, 20, 325, 360, 379]\n",
      "\t['в целом удобноное приложение из минусов хотят слишком большой доступ к персональным данным в телефоне приходится пользоваться в ограниченном режиме']\n",
      "\t\n",
      "\n",
      "2\n",
      "\t'отлично все'\n",
      "\t[193, 163]\n",
      "\t['отлично все']\n",
      "\t\n",
      "\n",
      "3\n",
      "\t'стал зависать на 1 работы антивируса дальше никуда ранее больше года пользовался нормально'\n",
      "\t[1201, 827, 1162, 162, 485, 1440, 644, 1229, 268, 1738, 156, 618, 770, 1546, 1809, 418]\n",
      "\t['стал зависать на 1 работы антивируса дальше никуда ранее больше года пользовался нормально']\n",
      "\t\n",
      "\n",
      "4\n",
      "\t'очень удобно работает быстро'\n",
      "\t[170, 153, 225, 294]\n",
      "\t['очень удобно работает быстро']\n",
      "\t\n",
      "\n",
      "5\n",
      "\t'всё удобно норм'\n",
      "\t[213, 153, 466]\n",
      "\t['всё удобно норм']\n",
      "\t\n",
      "\n",
      "6\n",
      "\t'очень удобное приложение'\n",
      "\t[170, 234, 147]\n",
      "\t['очень удобное приложение']\n",
      "\t\n",
      "\n",
      "7\n",
      "\t'все устраивает'\n",
      "\t[163, 359]\n",
      "\t['все устраивает']\n",
      "\t\n",
      "\n",
      "8\n",
      "\t'у меня работает все четко в отличии от банкоматов которые вечно зависают и тупят'\n",
      "\t[126, 296, 225, 163, 1451, 119, 187, 214, 9, 164, 1041, 663, 1374, 517, 180, 827, 8, 504, 133, 847, 23, 10]\n",
      "\t['у меня работает все четко в отличии от банкоматов которые вечно зависают и тупят']\n",
      "\t\n",
      "\n",
      "9\n",
      "\t'очень все хорошо'\n",
      "\t[170, 163, 263]\n",
      "\t['очень все хорошо']\n",
      "\t\n",
      "\n"
     ]
    }
   ],
   "source": [
    "for i in range(10):\n",
    "    encoded = bpe_model.encode(otzivy_za_leto.iloc[i][\"text\"])\n",
    "    print(i, \"\\'\" + otzivy_za_leto.iloc[i][\"text\"] + \"\\'\", encoded, bpe_model.decode(encoded), \"\\n\", sep=\"\\n\\t\")"
   ]
  },
  {
   "cell_type": "code",
   "execution_count": 23,
   "metadata": {},
   "outputs": [],
   "source": [
    "def text_to_sequence(text, maxlen):\n",
    "    result = []\n",
    "#     tokens = word_tokenize(text.lower())\n",
    "    tokens = bpe_model.encode(text.lower())\n",
    "#     tokens_filtered = [word for word in tokens if word.isalnum()]\n",
    "    for word in tokens:\n",
    "#         if word in vocabulary:\n",
    "#             result.append(vocabulary[word])\n",
    "        result.append(word)\n",
    "    padding = [0]*(maxlen-len(result))\n",
    "    if len(padding) >= 1:\n",
    "        padding[-1] = 2 # <BOS> begin of sentence token\n",
    "    return padding + result[-maxlen:]"
   ]
  },
  {
   "cell_type": "code",
   "execution_count": 24,
   "metadata": {},
   "outputs": [
    {
     "name": "stdout",
     "output_type": "stream",
     "text": [
      "it just works [0, 0, 0, 0, 0, 0, 0, 0, 0, 0, 0, 0, 0, 0, 0, 0, 0, 0, 0, 0, 0, 0, 0, 0, 0, 0, 0, 0, 0, 0, 0, 0, 0, 0, 0, 0, 0, 0, 0, 2, 1259, 42, 4, 73, 1103, 42, 1133, 1632, 64, 43]\n",
      "в целом удобноное приложение из минусов хотят слишком большой доступ к персональным данным в телефоне приходится пользоваться в ограниченном режиме [0, 0, 0, 0, 0, 0, 0, 0, 0, 0, 0, 0, 0, 0, 0, 0, 2, 119, 745, 153, 308, 147, 306, 862, 976, 615, 10, 1653, 876, 30, 439, 141, 516, 12, 525, 145, 671, 825, 671, 119, 609, 496, 492, 119, 966, 578, 20, 325, 360, 379]\n",
      "отлично все [0, 0, 0, 0, 0, 0, 0, 0, 0, 0, 0, 0, 0, 0, 0, 0, 0, 0, 0, 0, 0, 0, 0, 0, 0, 0, 0, 0, 0, 0, 0, 0, 0, 0, 0, 0, 0, 0, 0, 0, 0, 0, 0, 0, 0, 0, 0, 2, 193, 163]\n",
      "стал зависать на 1 работы антивируса дальше никуда ранее больше года пользовался нормально [0, 0, 0, 0, 0, 0, 0, 0, 0, 0, 0, 0, 0, 0, 0, 0, 0, 0, 0, 0, 0, 0, 0, 0, 0, 0, 0, 0, 0, 0, 0, 0, 0, 2, 1201, 827, 1162, 162, 485, 1440, 644, 1229, 268, 1738, 156, 618, 770, 1546, 1809, 418]\n",
      "очень удобно работает быстро [0, 0, 0, 0, 0, 0, 0, 0, 0, 0, 0, 0, 0, 0, 0, 0, 0, 0, 0, 0, 0, 0, 0, 0, 0, 0, 0, 0, 0, 0, 0, 0, 0, 0, 0, 0, 0, 0, 0, 0, 0, 0, 0, 0, 0, 2, 170, 153, 225, 294]\n",
      "всё удобно норм [0, 0, 0, 0, 0, 0, 0, 0, 0, 0, 0, 0, 0, 0, 0, 0, 0, 0, 0, 0, 0, 0, 0, 0, 0, 0, 0, 0, 0, 0, 0, 0, 0, 0, 0, 0, 0, 0, 0, 0, 0, 0, 0, 0, 0, 0, 2, 213, 153, 466]\n",
      "очень удобное приложение [0, 0, 0, 0, 0, 0, 0, 0, 0, 0, 0, 0, 0, 0, 0, 0, 0, 0, 0, 0, 0, 0, 0, 0, 0, 0, 0, 0, 0, 0, 0, 0, 0, 0, 0, 0, 0, 0, 0, 0, 0, 0, 0, 0, 0, 0, 2, 170, 234, 147]\n",
      "все устраивает [0, 0, 0, 0, 0, 0, 0, 0, 0, 0, 0, 0, 0, 0, 0, 0, 0, 0, 0, 0, 0, 0, 0, 0, 0, 0, 0, 0, 0, 0, 0, 0, 0, 0, 0, 0, 0, 0, 0, 0, 0, 0, 0, 0, 0, 0, 0, 2, 163, 359]\n",
      "у меня работает все четко в отличии от банкоматов которые вечно зависают и тупят [0, 0, 0, 0, 0, 0, 0, 0, 0, 0, 0, 0, 0, 0, 0, 0, 0, 0, 0, 0, 0, 0, 0, 0, 0, 0, 0, 2, 126, 296, 225, 163, 1451, 119, 187, 214, 9, 164, 1041, 663, 1374, 517, 180, 827, 8, 504, 133, 847, 23, 10]\n",
      "очень все хорошо [0, 0, 0, 0, 0, 0, 0, 0, 0, 0, 0, 0, 0, 0, 0, 0, 0, 0, 0, 0, 0, 0, 0, 0, 0, 0, 0, 0, 0, 0, 0, 0, 0, 0, 0, 0, 0, 0, 0, 0, 0, 0, 0, 0, 0, 0, 2, 170, 163, 263]\n"
     ]
    }
   ],
   "source": [
    "for i in range(10):\n",
    "    text = otzivy_za_leto.iloc[i][\"text\"]\n",
    "    seq = text_to_sequence(text, max_len)\n",
    "    print(text, seq)"
   ]
  },
  {
   "cell_type": "code",
   "execution_count": 25,
   "metadata": {},
   "outputs": [
    {
     "data": {
      "text/plain": [
       "20659"
      ]
     },
     "execution_count": 25,
     "metadata": {},
     "output_type": "execute_result"
    }
   ],
   "source": [
    "len(otzivy_za_leto)"
   ]
  },
  {
   "cell_type": "code",
   "execution_count": 26,
   "metadata": {},
   "outputs": [
    {
     "data": {
      "text/html": [
       "<div>\n",
       "<style scoped>\n",
       "    .dataframe tbody tr th:only-of-type {\n",
       "        vertical-align: middle;\n",
       "    }\n",
       "\n",
       "    .dataframe tbody tr th {\n",
       "        vertical-align: top;\n",
       "    }\n",
       "\n",
       "    .dataframe thead th {\n",
       "        text-align: right;\n",
       "    }\n",
       "</style>\n",
       "<table border=\"1\" class=\"dataframe\">\n",
       "  <thead>\n",
       "    <tr style=\"text-align: right;\">\n",
       "      <th></th>\n",
       "      <th>Rating</th>\n",
       "      <th>Content</th>\n",
       "      <th>Date</th>\n",
       "      <th>text</th>\n",
       "      <th>target</th>\n",
       "    </tr>\n",
       "  </thead>\n",
       "  <tbody>\n",
       "    <tr>\n",
       "      <th>0</th>\n",
       "      <td>4</td>\n",
       "      <td>It just works!</td>\n",
       "      <td>2017-08-14</td>\n",
       "      <td>it just works</td>\n",
       "      <td>True</td>\n",
       "    </tr>\n",
       "    <tr>\n",
       "      <th>2</th>\n",
       "      <td>4</td>\n",
       "      <td>Отлично все</td>\n",
       "      <td>2017-08-14</td>\n",
       "      <td>отлично все</td>\n",
       "      <td>True</td>\n",
       "    </tr>\n",
       "    <tr>\n",
       "      <th>3</th>\n",
       "      <td>4</td>\n",
       "      <td>Стал зависать на 1% работы антивируса. Дальше ...</td>\n",
       "      <td>2017-08-14</td>\n",
       "      <td>стал зависать на 1 работы антивируса дальше ни...</td>\n",
       "      <td>True</td>\n",
       "    </tr>\n",
       "    <tr>\n",
       "      <th>4</th>\n",
       "      <td>4</td>\n",
       "      <td>Очень удобно, работает быстро.</td>\n",
       "      <td>2017-08-14</td>\n",
       "      <td>очень удобно работает быстро</td>\n",
       "      <td>True</td>\n",
       "    </tr>\n",
       "    <tr>\n",
       "      <th>5</th>\n",
       "      <td>4</td>\n",
       "      <td>Всё удобно норм 👍👍👍</td>\n",
       "      <td>2017-08-14</td>\n",
       "      <td>всё удобно норм</td>\n",
       "      <td>True</td>\n",
       "    </tr>\n",
       "  </tbody>\n",
       "</table>\n",
       "</div>"
      ],
      "text/plain": [
       "   Rating                                            Content        Date  \\\n",
       "0       4                                     It just works!  2017-08-14   \n",
       "2       4                                        Отлично все  2017-08-14   \n",
       "3       4  Стал зависать на 1% работы антивируса. Дальше ...  2017-08-14   \n",
       "4       4                     Очень удобно, работает быстро.  2017-08-14   \n",
       "5       4                                Всё удобно норм 👍👍👍  2017-08-14   \n",
       "\n",
       "                                                text  target  \n",
       "0                                      it just works    True  \n",
       "2                                        отлично все    True  \n",
       "3  стал зависать на 1 работы антивируса дальше ни...    True  \n",
       "4                       очень удобно работает быстро    True  \n",
       "5                                    всё удобно норм    True  "
      ]
     },
     "execution_count": 26,
     "metadata": {},
     "output_type": "execute_result"
    }
   ],
   "source": [
    "otzivy_za_leto = otzivy_za_leto[otzivy_za_leto['Rating'] != 3]\n",
    "otzivy_za_leto['target'] = otzivy_za_leto['Rating'] > 3\n",
    "otzivy_za_leto.head()"
   ]
  },
  {
   "cell_type": "code",
   "execution_count": 27,
   "metadata": {},
   "outputs": [
    {
     "data": {
      "text/plain": [
       "18521"
      ]
     },
     "execution_count": 27,
     "metadata": {},
     "output_type": "execute_result"
    }
   ],
   "source": [
    "len(otzivy_za_leto)"
   ]
  },
  {
   "cell_type": "code",
   "execution_count": 28,
   "metadata": {},
   "outputs": [
    {
     "data": {
      "text/html": [
       "<div>\n",
       "<style scoped>\n",
       "    .dataframe tbody tr th:only-of-type {\n",
       "        vertical-align: middle;\n",
       "    }\n",
       "\n",
       "    .dataframe tbody tr th {\n",
       "        vertical-align: top;\n",
       "    }\n",
       "\n",
       "    .dataframe thead th {\n",
       "        text-align: right;\n",
       "    }\n",
       "</style>\n",
       "<table border=\"1\" class=\"dataframe\">\n",
       "  <thead>\n",
       "    <tr style=\"text-align: right;\">\n",
       "      <th></th>\n",
       "      <th>Rating</th>\n",
       "      <th>Content</th>\n",
       "      <th>Date</th>\n",
       "      <th>text</th>\n",
       "      <th>target</th>\n",
       "    </tr>\n",
       "  </thead>\n",
       "  <tbody>\n",
       "    <tr>\n",
       "      <th>0</th>\n",
       "      <td>4</td>\n",
       "      <td>It just works!</td>\n",
       "      <td>2017-08-14</td>\n",
       "      <td>it just works</td>\n",
       "      <td>1</td>\n",
       "    </tr>\n",
       "    <tr>\n",
       "      <th>2</th>\n",
       "      <td>4</td>\n",
       "      <td>Отлично все</td>\n",
       "      <td>2017-08-14</td>\n",
       "      <td>отлично все</td>\n",
       "      <td>1</td>\n",
       "    </tr>\n",
       "    <tr>\n",
       "      <th>3</th>\n",
       "      <td>4</td>\n",
       "      <td>Стал зависать на 1% работы антивируса. Дальше ...</td>\n",
       "      <td>2017-08-14</td>\n",
       "      <td>стал зависать на 1 работы антивируса дальше ни...</td>\n",
       "      <td>1</td>\n",
       "    </tr>\n",
       "    <tr>\n",
       "      <th>4</th>\n",
       "      <td>4</td>\n",
       "      <td>Очень удобно, работает быстро.</td>\n",
       "      <td>2017-08-14</td>\n",
       "      <td>очень удобно работает быстро</td>\n",
       "      <td>1</td>\n",
       "    </tr>\n",
       "    <tr>\n",
       "      <th>5</th>\n",
       "      <td>4</td>\n",
       "      <td>Всё удобно норм 👍👍👍</td>\n",
       "      <td>2017-08-14</td>\n",
       "      <td>всё удобно норм</td>\n",
       "      <td>1</td>\n",
       "    </tr>\n",
       "    <tr>\n",
       "      <th>6</th>\n",
       "      <td>4</td>\n",
       "      <td>Очень удобное приложение.</td>\n",
       "      <td>2017-08-14</td>\n",
       "      <td>очень удобное приложение</td>\n",
       "      <td>1</td>\n",
       "    </tr>\n",
       "    <tr>\n",
       "      <th>7</th>\n",
       "      <td>4</td>\n",
       "      <td>Все устраивает</td>\n",
       "      <td>2017-08-14</td>\n",
       "      <td>все устраивает</td>\n",
       "      <td>1</td>\n",
       "    </tr>\n",
       "    <tr>\n",
       "      <th>8</th>\n",
       "      <td>4</td>\n",
       "      <td>У меня работает все четко. В отличии от банком...</td>\n",
       "      <td>2017-08-14</td>\n",
       "      <td>у меня работает все четко в отличии от банкома...</td>\n",
       "      <td>1</td>\n",
       "    </tr>\n",
       "    <tr>\n",
       "      <th>9</th>\n",
       "      <td>4</td>\n",
       "      <td>Очень все хорошо👍</td>\n",
       "      <td>2017-08-14</td>\n",
       "      <td>очень все хорошо</td>\n",
       "      <td>1</td>\n",
       "    </tr>\n",
       "    <tr>\n",
       "      <th>10</th>\n",
       "      <td>4</td>\n",
       "      <td>Все ок!</td>\n",
       "      <td>2017-08-14</td>\n",
       "      <td>все ок</td>\n",
       "      <td>1</td>\n",
       "    </tr>\n",
       "    <tr>\n",
       "      <th>11</th>\n",
       "      <td>4</td>\n",
       "      <td>Все нормально, кроме того что уведомление нель...</td>\n",
       "      <td>2017-08-14</td>\n",
       "      <td>все нормально кроме того что уведомление нельз...</td>\n",
       "      <td>1</td>\n",
       "    </tr>\n",
       "    <tr>\n",
       "      <th>12</th>\n",
       "      <td>1</td>\n",
       "      <td>Не стартует без доступа к gps, sms, звонкам и ...</td>\n",
       "      <td>2017-08-14</td>\n",
       "      <td>не стартует без доступа к gps sms звонкам и ад...</td>\n",
       "      <td>0</td>\n",
       "    </tr>\n",
       "    <tr>\n",
       "      <th>13</th>\n",
       "      <td>4</td>\n",
       "      <td>Очень удобно, работает замечательно, подвисани...</td>\n",
       "      <td>2017-08-14</td>\n",
       "      <td>очень удобно работает замечательно подвисаний нет</td>\n",
       "      <td>1</td>\n",
       "    </tr>\n",
       "    <tr>\n",
       "      <th>14</th>\n",
       "      <td>4</td>\n",
       "      <td>Очень удобно</td>\n",
       "      <td>2017-08-14</td>\n",
       "      <td>очень удобно</td>\n",
       "      <td>1</td>\n",
       "    </tr>\n",
       "    <tr>\n",
       "      <th>15</th>\n",
       "      <td>4</td>\n",
       "      <td>Очень удобная штука</td>\n",
       "      <td>2017-08-14</td>\n",
       "      <td>очень удобная штука</td>\n",
       "      <td>1</td>\n",
       "    </tr>\n",
       "  </tbody>\n",
       "</table>\n",
       "</div>"
      ],
      "text/plain": [
       "    Rating                                            Content        Date  \\\n",
       "0        4                                     It just works!  2017-08-14   \n",
       "2        4                                        Отлично все  2017-08-14   \n",
       "3        4  Стал зависать на 1% работы антивируса. Дальше ...  2017-08-14   \n",
       "4        4                     Очень удобно, работает быстро.  2017-08-14   \n",
       "5        4                                Всё удобно норм 👍👍👍  2017-08-14   \n",
       "6        4                          Очень удобное приложение.  2017-08-14   \n",
       "7        4                                     Все устраивает  2017-08-14   \n",
       "8        4  У меня работает все четко. В отличии от банком...  2017-08-14   \n",
       "9        4                                  Очень все хорошо👍  2017-08-14   \n",
       "10       4                                            Все ок!  2017-08-14   \n",
       "11       4  Все нормально, кроме того что уведомление нель...  2017-08-14   \n",
       "12       1  Не стартует без доступа к gps, sms, звонкам и ...  2017-08-14   \n",
       "13       4  Очень удобно, работает замечательно, подвисани...  2017-08-14   \n",
       "14       4                                       Очень удобно  2017-08-14   \n",
       "15       4                                Очень удобная штука  2017-08-14   \n",
       "\n",
       "                                                 text  target  \n",
       "0                                       it just works       1  \n",
       "2                                         отлично все       1  \n",
       "3   стал зависать на 1 работы антивируса дальше ни...       1  \n",
       "4                        очень удобно работает быстро       1  \n",
       "5                                     всё удобно норм       1  \n",
       "6                            очень удобное приложение       1  \n",
       "7                                      все устраивает       1  \n",
       "8   у меня работает все четко в отличии от банкома...       1  \n",
       "9                                    очень все хорошо       1  \n",
       "10                                             все ок       1  \n",
       "11  все нормально кроме того что уведомление нельз...       1  \n",
       "12  не стартует без доступа к gps sms звонкам и ад...       0  \n",
       "13  очень удобно работает замечательно подвисаний нет       1  \n",
       "14                                       очень удобно       1  \n",
       "15                                очень удобная штука       1  "
      ]
     },
     "execution_count": 28,
     "metadata": {},
     "output_type": "execute_result"
    }
   ],
   "source": [
    "otzivy_za_leto['target'] = otzivy_za_leto['target'].astype(int)\n",
    "otzivy_za_leto.head(15)"
   ]
  },
  {
   "cell_type": "code",
   "execution_count": 29,
   "metadata": {},
   "outputs": [
    {
     "data": {
      "text/plain": [
       "2"
      ]
     },
     "execution_count": 29,
     "metadata": {},
     "output_type": "execute_result"
    }
   ],
   "source": [
    "num_classes = len(otzivy_za_leto[\"target\"].unique())\n",
    "num_classes"
   ]
  },
  {
   "cell_type": "code",
   "execution_count": 30,
   "metadata": {},
   "outputs": [],
   "source": [
    "x_train = np.asarray([text_to_sequence(text, max_len) for text in otzivy_za_leto[\"text\"]], dtype=np.int32)"
   ]
  },
  {
   "cell_type": "code",
   "execution_count": 31,
   "metadata": {},
   "outputs": [
    {
     "data": {
      "text/plain": [
       "array([  0,   0,   0,   0,   0,   0,   0,   0,   0,   0,   0,   0,   0,\n",
       "         0,   0,   0,   0,   0,   0,   0,   0,   0,   0,   0,   0,   0,\n",
       "         0,   0,   0,   0,   0,   0,   0,   0,   0,   0,   0,   0,   0,\n",
       "         0,   0,   0,   0,   0,   0,   2, 428,   7, 159, 172], dtype=int32)"
      ]
     },
     "execution_count": 31,
     "metadata": {},
     "output_type": "execute_result"
    }
   ],
   "source": [
    "x_train[-15]"
   ]
  },
  {
   "cell_type": "code",
   "execution_count": 32,
   "metadata": {},
   "outputs": [
    {
     "data": {
      "text/plain": [
       "['<PAD>',\n",
       " '<UNK>',\n",
       " '<BOS>',\n",
       " '<EOS>',\n",
       " '▁',\n",
       " 'о',\n",
       " 'е',\n",
       " 'н',\n",
       " 'а',\n",
       " 'и',\n",
       " 'т',\n",
       " 'р',\n",
       " 'с',\n",
       " 'л',\n",
       " 'в',\n",
       " 'п',\n",
       " 'д',\n",
       " 'у',\n",
       " 'б',\n",
       " 'к',\n",
       " 'м',\n",
       " 'ь',\n",
       " 'ч',\n",
       " 'я',\n",
       " 'ж',\n",
       " 'з',\n",
       " 'ы',\n",
       " 'г',\n",
       " 'х',\n",
       " 'ш',\n",
       " 'й',\n",
       " 'ю',\n",
       " 'ц',\n",
       " 'ф',\n",
       " 'ё',\n",
       " 'э',\n",
       " 'щ',\n",
       " 'o',\n",
       " 'e',\n",
       " 'i',\n",
       " 'a',\n",
       " 'r',\n",
       " 't',\n",
       " 's',\n",
       " 'm',\n",
       " 'n',\n",
       " '0',\n",
       " 'u',\n",
       " '2',\n",
       " '5',\n",
       " '1',\n",
       " 'l',\n",
       " 'd',\n",
       " 'p',\n",
       " '3',\n",
       " '4',\n",
       " 'z',\n",
       " 'g',\n",
       " 'y',\n",
       " 'c',\n",
       " 'h',\n",
       " '6',\n",
       " 'f',\n",
       " 'x',\n",
       " 'k',\n",
       " 'w',\n",
       " '7',\n",
       " 'b',\n",
       " 'v',\n",
       " '9',\n",
       " '8',\n",
       " 'q',\n",
       " 'ъ',\n",
       " 'j',\n",
       " 'ј',\n",
       " 'і',\n",
       " '好',\n",
       " 'い',\n",
       " 'د',\n",
       " 'ج',\n",
       " 'ա',\n",
       " 'ө',\n",
       " 'š',\n",
       " 'č',\n",
       " 'è',\n",
       " '软',\n",
       " '的',\n",
       " '用',\n",
       " '物',\n",
       " '挺',\n",
       " '很',\n",
       " '件',\n",
       " 'っ',\n",
       " 'だ',\n",
       " 'ぜ',\n",
       " 'こ',\n",
       " 'か',\n",
       " 'ي',\n",
       " 'ا',\n",
       " 'պ',\n",
       " 'ո',\n",
       " 'յ',\n",
       " 'հ',\n",
       " 'կ',\n",
       " 'է',\n",
       " 'џ',\n",
       " 'ў',\n",
       " 'ћ',\n",
       " 'ї',\n",
       " 'є',\n",
       " 'ѓ',\n",
       " 'ђ',\n",
       " 'ω',\n",
       " 'ö',\n",
       " 'ó',\n",
       " 'ä',\n",
       " '▁п',\n",
       " 'но',\n",
       " 'ен',\n",
       " '▁в',\n",
       " '▁н',\n",
       " '▁о',\n",
       " '▁пр',\n",
       " '▁с',\n",
       " 'ра',\n",
       " 'ло',\n",
       " '▁у',\n",
       " 'то',\n",
       " 'ет',\n",
       " 'ени',\n",
       " 'до',\n",
       " '▁при',\n",
       " '▁по',\n",
       " '▁и',\n",
       " 'та',\n",
       " '▁не',\n",
       " 'лож',\n",
       " 'ложени',\n",
       " '▁приложени',\n",
       " 'ер',\n",
       " 'ть',\n",
       " '▁к',\n",
       " 'бно',\n",
       " '▁вс',\n",
       " 'ро',\n",
       " 'ль',\n",
       " '▁м',\n",
       " '▁приложение',\n",
       " 'ли',\n",
       " '▁удо',\n",
       " 'бо',\n",
       " 'за',\n",
       " 'хо',\n",
       " '▁удобно',\n",
       " 'ва',\n",
       " '▁б',\n",
       " '▁ра',\n",
       " 'те',\n",
       " 'ся',\n",
       " 'ень',\n",
       " 'ла',\n",
       " 'ст',\n",
       " '▁на',\n",
       " '▁все',\n",
       " '▁от',\n",
       " '▁про',\n",
       " '▁оч',\n",
       " 'ле',\n",
       " 'да',\n",
       " 'ка',\n",
       " '▁очень',\n",
       " '▁за',\n",
       " 'ко',\n",
       " 'го',\n",
       " 'во',\n",
       " 'ви',\n",
       " '▁ч',\n",
       " 'ру',\n",
       " 'на',\n",
       " '▁д',\n",
       " 'чно',\n",
       " 'ан',\n",
       " 'ди',\n",
       " 'ти',\n",
       " '▁но',\n",
       " 'не',\n",
       " '▁хо',\n",
       " '▁отли',\n",
       " 'ас',\n",
       " '▁до',\n",
       " '▁мо',\n",
       " '▁рабо',\n",
       " 'ре',\n",
       " '▁отлично',\n",
       " '▁ка',\n",
       " '▁то',\n",
       " 'ны',\n",
       " '▁бы',\n",
       " 'ни',\n",
       " '▁работа']"
      ]
     },
     "execution_count": 32,
     "metadata": {},
     "output_type": "execute_result"
    }
   ],
   "source": [
    "bpe_model.vocab()[:200]"
   ]
  },
  {
   "cell_type": "code",
   "execution_count": 33,
   "metadata": {},
   "outputs": [
    {
     "data": {
      "text/plain": [
       "['<PAD><PAD><PAD><PAD><PAD><PAD><PAD><PAD><PAD><PAD><PAD><PAD><PAD><PAD><PAD><PAD><PAD><PAD><PAD><PAD><PAD><PAD><PAD><PAD><PAD><PAD><PAD><PAD><PAD><PAD><PAD><PAD><PAD><PAD><PAD><PAD><PAD><PAD><PAD><PAD><PAD><PAD><PAD><PAD><PAD><BOS> удобненько']"
      ]
     },
     "execution_count": 33,
     "metadata": {},
     "output_type": "execute_result"
    }
   ],
   "source": [
    "bpe_model.decode(x_train[-15].tolist())"
   ]
  },
  {
   "cell_type": "code",
   "execution_count": 34,
   "metadata": {},
   "outputs": [],
   "source": [
    "y_train = keras.utils.to_categorical(otzivy_za_leto[\"target\"], num_classes)"
   ]
  },
  {
   "cell_type": "code",
   "execution_count": 35,
   "metadata": {},
   "outputs": [
    {
     "name": "stdout",
     "output_type": "stream",
     "text": [
      "0 1 [0.0, 1.0]\n",
      "1 1 [0.0, 1.0]\n",
      "2 1 [0.0, 1.0]\n",
      "3 1 [0.0, 1.0]\n",
      "4 1 [0.0, 1.0]\n",
      "5 1 [0.0, 1.0]\n",
      "6 1 [0.0, 1.0]\n",
      "7 1 [0.0, 1.0]\n",
      "8 1 [0.0, 1.0]\n",
      "9 1 [0.0, 1.0]\n",
      "10 1 [0.0, 1.0]\n",
      "11 0 [1.0, 0.0]\n",
      "12 1 [0.0, 1.0]\n",
      "13 1 [0.0, 1.0]\n",
      "14 1 [0.0, 1.0]\n",
      "15 1 [0.0, 1.0]\n",
      "16 1 [0.0, 1.0]\n",
      "17 1 [0.0, 1.0]\n",
      "18 1 [0.0, 1.0]\n",
      "19 1 [0.0, 1.0]\n"
     ]
    }
   ],
   "source": [
    "for i, rec in enumerate(y_train[:20].tolist()):\n",
    "    print(i, otzivy_za_leto.iloc[i][\"target\"], rec)"
   ]
  },
  {
   "cell_type": "code",
   "execution_count": 36,
   "metadata": {},
   "outputs": [
    {
     "name": "stdout",
     "output_type": "stream",
     "text": [
      "WARNING:tensorflow:Layer GRU_1 will not use cuDNN kernel since it doesn't meet the cuDNN kernel criteria. It will use generic GPU kernel as fallback when running on GPU\n",
      "WARNING:tensorflow:Layer GRU_1 will not use cuDNN kernel since it doesn't meet the cuDNN kernel criteria. It will use generic GPU kernel as fallback when running on GPU\n",
      "WARNING:tensorflow:Layer GRU_1 will not use cuDNN kernel since it doesn't meet the cuDNN kernel criteria. It will use generic GPU kernel as fallback when running on GPU\n"
     ]
    }
   ],
   "source": [
    "keras.backend.clear_session()\n",
    "\n",
    "\n",
    "\n",
    "X_input = tf.keras.layers.Input(shape=(max_len,), name=\"X\")\n",
    "Embed_ = tf.keras.layers.Embedding(input_dim=max_words, output_dim=embed_vec_len, name=\"Embed_\")(X_input)\n",
    "Drop1 = tf.keras.layers.Dropout(0.2)(Embed_)\n",
    "BGRU_1 = tf.keras.layers.Bidirectional(tf.keras.layers.GRU(16, return_sequences=False, dropout=0.25, recurrent_dropout=0.25, activation=\"relu\", implementation=2, name=\"GRU_1\", stateful=False), name=\"BGRU_1\")(Drop1)\n",
    "Drop2 = tf.keras.layers.Dropout(0.3)(BGRU_1)\n",
    "Dense_1 = tf.keras.layers.Dense(units=16, activation='relu', name=\"Dense_1\")(Drop2)\n",
    "Drop3 = tf.keras.layers.Dropout(0.4)(Dense_1)\n",
    "Dense_2 = tf.keras.layers.Dense(units=16, activation='relu', name=\"Dense_2\")(Dense_1)\n",
    "Drop4 = tf.keras.layers.Dropout(0.5)(Dense_2)\n",
    "\n",
    "y_output = tf.keras.layers.Dense(units=num_classes, activation=\"softmax\", name=\"y\")(Dense_2)\n",
    "\n",
    "model = tf.keras.models.Model(inputs=[X_input], outputs=[y_output], name=\"my_model\")\n",
    "model.compile(loss='categorical_crossentropy', optimizer='adam', metrics=['accuracy'])"
   ]
  },
  {
   "cell_type": "code",
   "execution_count": 37,
   "metadata": {},
   "outputs": [
    {
     "name": "stdout",
     "output_type": "stream",
     "text": [
      "Model: \"my_model\"\n",
      "_________________________________________________________________\n",
      "Layer (type)                 Output Shape              Param #   \n",
      "=================================================================\n",
      "X (InputLayer)               [(None, 50)]              0         \n",
      "_________________________________________________________________\n",
      "Embed_ (Embedding)           (None, 50, 50)            100000    \n",
      "_________________________________________________________________\n",
      "dropout (Dropout)            (None, 50, 50)            0         \n",
      "_________________________________________________________________\n",
      "BGRU_1 (Bidirectional)       (None, 32)                6528      \n",
      "_________________________________________________________________\n",
      "dropout_1 (Dropout)          (None, 32)                0         \n",
      "_________________________________________________________________\n",
      "Dense_1 (Dense)              (None, 16)                528       \n",
      "_________________________________________________________________\n",
      "Dense_2 (Dense)              (None, 16)                272       \n",
      "_________________________________________________________________\n",
      "y (Dense)                    (None, 2)                 34        \n",
      "=================================================================\n",
      "Total params: 107,362\n",
      "Trainable params: 107,362\n",
      "Non-trainable params: 0\n",
      "_________________________________________________________________\n"
     ]
    }
   ],
   "source": [
    "model.summary()"
   ]
  },
  {
   "cell_type": "code",
   "execution_count": 38,
   "metadata": {},
   "outputs": [
    {
     "data": {
      "image/png": "[encoded data removed]",
      "text/plain": [
       "<IPython.core.display.Image object>"
      ]
     },
     "execution_count": 38,
     "metadata": {},
     "output_type": "execute_result"
    }
   ],
   "source": [
    "tf.keras.utils.plot_model(model)"
   ]
  },
  {
   "cell_type": "code",
   "execution_count": 39,
   "metadata": {},
   "outputs": [
    {
     "name": "stdout",
     "output_type": "stream",
     "text": [
      "WARNING:tensorflow:`period` argument is deprecated. Please use `save_freq` to specify the frequency in number of batches seen.\n",
      "Epoch 1/99150\n",
      "29/29 [==============================] - ETA: 0s - loss: 0.6123 - accuracy: 0.8099\n",
      "Epoch 00001: val_accuracy improved from -inf to 0.68961, saving model to best_model.h5\n",
      "29/29 [==============================] - 4s 132ms/step - loss: 0.6123 - accuracy: 0.8099 - val_loss: 0.5910 - val_accuracy: 0.6896 - lr: 0.0010\n",
      "Epoch 2/99150\n",
      "29/29 [==============================] - ETA: 0s - loss: 0.4334 - accuracy: 0.8120\n",
      "Epoch 00002: val_accuracy did not improve from 0.68961\n",
      "29/29 [==============================] - 3s 118ms/step - loss: 0.4334 - accuracy: 0.8120 - val_loss: 0.5568 - val_accuracy: 0.6896 - lr: 0.0010\n",
      "Epoch 3/99150\n",
      "29/29 [==============================] - ETA: 0s - loss: 0.3283 - accuracy: 0.8120\n",
      "Epoch 00003: val_accuracy did not improve from 0.68961\n",
      "29/29 [==============================] - 3s 118ms/step - loss: 0.3283 - accuracy: 0.8120 - val_loss: 0.3994 - val_accuracy: 0.6896 - lr: 0.0010\n",
      "Epoch 4/99150\n",
      "29/29 [==============================] - ETA: 0s - loss: 0.2557 - accuracy: 0.8120\n",
      "Epoch 00004: val_accuracy did not improve from 0.68961\n",
      "29/29 [==============================] - 3s 120ms/step - loss: 0.2557 - accuracy: 0.8120 - val_loss: 0.3557 - val_accuracy: 0.6896 - lr: 0.0010\n",
      "Epoch 5/99150\n",
      "29/29 [==============================] - ETA: 0s - loss: 0.2234 - accuracy: 0.8931\n",
      "Epoch 00005: val_accuracy improved from 0.68961 to 0.88556, saving model to best_model.h5\n",
      "29/29 [==============================] - 3s 120ms/step - loss: 0.2234 - accuracy: 0.8931 - val_loss: 0.3183 - val_accuracy: 0.8856 - lr: 0.0010\n",
      "Epoch 6/99150\n",
      "29/29 [==============================] - ETA: 0s - loss: 0.1915 - accuracy: 0.9351\n",
      "Epoch 00006: val_accuracy improved from 0.88556 to 0.90445, saving model to best_model.h5\n",
      "29/29 [==============================] - 4s 121ms/step - loss: 0.1915 - accuracy: 0.9351 - val_loss: 0.2752 - val_accuracy: 0.9045 - lr: 0.0010\n",
      "Epoch 7/99150\n",
      "29/29 [==============================] - ETA: 0s - loss: 0.1604 - accuracy: 0.9411\n",
      "Epoch 00007: val_accuracy improved from 0.90445 to 0.91228, saving model to best_model.h5\n",
      "29/29 [==============================] - 4s 121ms/step - loss: 0.1604 - accuracy: 0.9411 - val_loss: 0.2471 - val_accuracy: 0.9123 - lr: 0.0010\n",
      "Epoch 8/99150\n",
      "29/29 [==============================] - ETA: 0s - loss: 0.1467 - accuracy: 0.9458\n",
      "Epoch 00008: val_accuracy improved from 0.91228 to 0.91687, saving model to best_model.h5\n",
      "29/29 [==============================] - 3s 117ms/step - loss: 0.1467 - accuracy: 0.9458 - val_loss: 0.2390 - val_accuracy: 0.9169 - lr: 0.0010\n",
      "Epoch 9/99150\n",
      "29/29 [==============================] - ETA: 0s - loss: 0.1363 - accuracy: 0.9504\n",
      "Epoch 00009: val_accuracy improved from 0.91687 to 0.92038, saving model to best_model.h5\n",
      "29/29 [==============================] - 4s 121ms/step - loss: 0.1363 - accuracy: 0.9504 - val_loss: 0.2397 - val_accuracy: 0.9204 - lr: 0.0010\n",
      "Epoch 10/99150\n",
      "29/29 [==============================] - ETA: 0s - loss: 0.1296 - accuracy: 0.9540\n",
      "Epoch 00010: val_accuracy did not improve from 0.92038\n",
      "29/29 [==============================] - 3s 118ms/step - loss: 0.1296 - accuracy: 0.9540 - val_loss: 0.2353 - val_accuracy: 0.9198 - lr: 0.0010\n",
      "Epoch 11/99150\n",
      "29/29 [==============================] - ETA: 0s - loss: 0.1259 - accuracy: 0.9557\n",
      "Epoch 00011: val_accuracy did not improve from 0.92038\n",
      "29/29 [==============================] - 3s 116ms/step - loss: 0.1259 - accuracy: 0.9557 - val_loss: 0.2447 - val_accuracy: 0.9196 - lr: 0.0010\n",
      "Epoch 12/99150\n",
      "29/29 [==============================] - ETA: 0s - loss: 0.1215 - accuracy: 0.9565\n",
      "Epoch 00012: val_accuracy did not improve from 0.92038\n",
      "29/29 [==============================] - 3s 118ms/step - loss: 0.1215 - accuracy: 0.9565 - val_loss: 0.2558 - val_accuracy: 0.9177 - lr: 0.0010\n",
      "Epoch 13/99150\n",
      "29/29 [==============================] - ETA: 0s - loss: 0.1168 - accuracy: 0.9600\n",
      "Epoch 00013: val_accuracy improved from 0.92038 to 0.92065, saving model to best_model.h5\n",
      "29/29 [==============================] - 3s 116ms/step - loss: 0.1168 - accuracy: 0.9600 - val_loss: 0.2401 - val_accuracy: 0.9206 - lr: 0.0010\n",
      "Epoch 14/99150\n",
      "29/29 [==============================] - ETA: 0s - loss: 0.1161 - accuracy: 0.9621\n",
      "Epoch 00014: val_accuracy did not improve from 0.92065\n",
      "29/29 [==============================] - 3s 118ms/step - loss: 0.1161 - accuracy: 0.9621 - val_loss: 0.2542 - val_accuracy: 0.9161 - lr: 0.0010\n",
      "Epoch 15/99150\n",
      "29/29 [==============================] - ETA: 0s - loss: 0.1106 - accuracy: 0.9618\n",
      "Epoch 00015: val_accuracy did not improve from 0.92065\n",
      "29/29 [==============================] - 3s 116ms/step - loss: 0.1106 - accuracy: 0.9618 - val_loss: 0.2539 - val_accuracy: 0.9163 - lr: 0.0010\n",
      "Epoch 16/99150\n",
      "29/29 [==============================] - ETA: 0s - loss: 0.1102 - accuracy: 0.9636\n",
      "Epoch 00016: val_accuracy did not improve from 0.92065\n",
      "29/29 [==============================] - 3s 120ms/step - loss: 0.1102 - accuracy: 0.9636 - val_loss: 0.2606 - val_accuracy: 0.9158 - lr: 0.0010\n",
      "Epoch 17/99150\n",
      "29/29 [==============================] - ETA: 0s - loss: 0.1058 - accuracy: 0.9646\n",
      "Epoch 00017: val_accuracy did not improve from 0.92065\n",
      "29/29 [==============================] - 4s 122ms/step - loss: 0.1058 - accuracy: 0.9646 - val_loss: 0.2570 - val_accuracy: 0.9188 - lr: 0.0010\n",
      "Epoch 18/99150\n",
      "29/29 [==============================] - ETA: 0s - loss: 0.1063 - accuracy: 0.9640\n",
      "Epoch 00018: val_accuracy did not improve from 0.92065\n",
      "29/29 [==============================] - 4s 122ms/step - loss: 0.1063 - accuracy: 0.9640 - val_loss: 0.2631 - val_accuracy: 0.9150 - lr: 0.0010\n",
      "Epoch 19/99150\n",
      "29/29 [==============================] - ETA: 0s - loss: 0.1005 - accuracy: 0.9671\n",
      "Epoch 00019: val_accuracy did not improve from 0.92065\n",
      "29/29 [==============================] - 4s 123ms/step - loss: 0.1005 - accuracy: 0.9671 - val_loss: 0.2637 - val_accuracy: 0.9179 - lr: 0.0010\n",
      "Epoch 20/99150\n",
      "29/29 [==============================] - ETA: 0s - loss: 0.1010 - accuracy: 0.9669\n",
      "Epoch 00020: val_accuracy did not improve from 0.92065\n",
      "29/29 [==============================] - 4s 121ms/step - loss: 0.1010 - accuracy: 0.9669 - val_loss: 0.2717 - val_accuracy: 0.9161 - lr: 0.0010\n",
      "Epoch 21/99150\n",
      "29/29 [==============================] - ETA: 0s - loss: 0.0986 - accuracy: 0.9680\n",
      "Epoch 00021: val_accuracy did not improve from 0.92065\n",
      "29/29 [==============================] - 4s 125ms/step - loss: 0.0986 - accuracy: 0.9680 - val_loss: 0.2598 - val_accuracy: 0.9161 - lr: 0.0010\n",
      "Epoch 22/99150\n",
      "29/29 [==============================] - ETA: 0s - loss: 0.0978 - accuracy: 0.9688\n",
      "Epoch 00022: val_accuracy did not improve from 0.92065\n",
      "29/29 [==============================] - 4s 125ms/step - loss: 0.0978 - accuracy: 0.9688 - val_loss: 0.2731 - val_accuracy: 0.9155 - lr: 0.0010\n",
      "Epoch 23/99150\n",
      "29/29 [==============================] - ETA: 0s - loss: 0.0961 - accuracy: 0.9685\n",
      "Epoch 00023: val_accuracy did not improve from 0.92065\n",
      "\n",
      "Epoch 00023: ReduceLROnPlateau reducing learning rate to 0.0007500000356230885.\n",
      "29/29 [==============================] - 4s 122ms/step - loss: 0.0961 - accuracy: 0.9685 - val_loss: 0.2866 - val_accuracy: 0.9107 - lr: 0.0010\n",
      "Epoch 24/99150\n",
      "29/29 [==============================] - ETA: 0s - loss: 0.0910 - accuracy: 0.9702\n",
      "Epoch 00024: val_accuracy did not improve from 0.92065\n",
      "29/29 [==============================] - 4s 125ms/step - loss: 0.0910 - accuracy: 0.9702 - val_loss: 0.2861 - val_accuracy: 0.9123 - lr: 7.5000e-04\n",
      "Epoch 25/99150\n",
      "29/29 [==============================] - ETA: 0s - loss: 0.0920 - accuracy: 0.9703\n",
      "Epoch 00025: val_accuracy did not improve from 0.92065\n",
      "29/29 [==============================] - 4s 122ms/step - loss: 0.0920 - accuracy: 0.9703 - val_loss: 0.2988 - val_accuracy: 0.9115 - lr: 7.5000e-04\n",
      "Epoch 26/99150\n",
      "29/29 [==============================] - ETA: 0s - loss: 0.0932 - accuracy: 0.9701\n",
      "Epoch 00026: val_accuracy did not improve from 0.92065\n",
      "29/29 [==============================] - 4s 122ms/step - loss: 0.0932 - accuracy: 0.9701 - val_loss: 0.2822 - val_accuracy: 0.9134 - lr: 7.5000e-04\n",
      "Epoch 27/99150\n"
     ]
    },
    {
     "name": "stdout",
     "output_type": "stream",
     "text": [
      "29/29 [==============================] - ETA: 0s - loss: 0.0899 - accuracy: 0.9720\n",
      "Epoch 00027: val_accuracy did not improve from 0.92065\n",
      "29/29 [==============================] - 4s 122ms/step - loss: 0.0899 - accuracy: 0.9720 - val_loss: 0.2942 - val_accuracy: 0.9109 - lr: 7.5000e-04\n",
      "Epoch 28/99150\n",
      "29/29 [==============================] - ETA: 0s - loss: 0.0874 - accuracy: 0.9724\n",
      "Epoch 00028: val_accuracy did not improve from 0.92065\n",
      "29/29 [==============================] - 4s 121ms/step - loss: 0.0874 - accuracy: 0.9724 - val_loss: 0.2847 - val_accuracy: 0.9131 - lr: 7.5000e-04\n",
      "Epoch 29/99150\n",
      "29/29 [==============================] - ETA: 0s - loss: 0.0875 - accuracy: 0.9726\n",
      "Epoch 00029: val_accuracy did not improve from 0.92065\n",
      "29/29 [==============================] - 3s 118ms/step - loss: 0.0875 - accuracy: 0.9726 - val_loss: 0.2852 - val_accuracy: 0.9144 - lr: 7.5000e-04\n",
      "Epoch 30/99150\n",
      "29/29 [==============================] - ETA: 0s - loss: 0.0884 - accuracy: 0.9738\n",
      "Epoch 00030: val_accuracy did not improve from 0.92065\n",
      "29/29 [==============================] - 3s 117ms/step - loss: 0.0884 - accuracy: 0.9738 - val_loss: 0.2901 - val_accuracy: 0.9136 - lr: 7.5000e-04\n",
      "Epoch 31/99150\n",
      "29/29 [==============================] - ETA: 0s - loss: 0.0841 - accuracy: 0.9734\n",
      "Epoch 00031: val_accuracy did not improve from 0.92065\n",
      "29/29 [==============================] - 3s 118ms/step - loss: 0.0841 - accuracy: 0.9734 - val_loss: 0.3118 - val_accuracy: 0.9101 - lr: 7.5000e-04\n",
      "Epoch 32/99150\n",
      "29/29 [==============================] - ETA: 0s - loss: 0.0848 - accuracy: 0.9729\n",
      "Epoch 00032: val_accuracy did not improve from 0.92065\n",
      "29/29 [==============================] - 3s 117ms/step - loss: 0.0848 - accuracy: 0.9729 - val_loss: 0.3014 - val_accuracy: 0.9109 - lr: 7.5000e-04\n",
      "Epoch 33/99150\n",
      "29/29 [==============================] - ETA: 0s - loss: 0.0872 - accuracy: 0.9721\n",
      "Epoch 00033: val_accuracy did not improve from 0.92065\n",
      "\n",
      "Epoch 00033: ReduceLROnPlateau reducing learning rate to 0.0005625000048894435.\n",
      "29/29 [==============================] - 3s 120ms/step - loss: 0.0872 - accuracy: 0.9721 - val_loss: 0.2839 - val_accuracy: 0.9123 - lr: 7.5000e-04\n",
      "Epoch 34/99150\n",
      "29/29 [==============================] - ETA: 0s - loss: 0.0826 - accuracy: 0.9749\n",
      "Epoch 00034: val_accuracy did not improve from 0.92065\n",
      "29/29 [==============================] - 3s 118ms/step - loss: 0.0826 - accuracy: 0.9749 - val_loss: 0.3023 - val_accuracy: 0.9112 - lr: 5.6250e-04\n",
      "Epoch 35/99150\n",
      "29/29 [==============================] - ETA: 0s - loss: 0.0819 - accuracy: 0.9756\n",
      "Epoch 00035: val_accuracy did not improve from 0.92065\n",
      "29/29 [==============================] - 3s 119ms/step - loss: 0.0819 - accuracy: 0.9756 - val_loss: 0.2966 - val_accuracy: 0.9134 - lr: 5.6250e-04\n",
      "Epoch 36/99150\n",
      "29/29 [==============================] - ETA: 0s - loss: 0.0792 - accuracy: 0.9752\n",
      "Epoch 00036: val_accuracy did not improve from 0.92065\n",
      "29/29 [==============================] - 3s 117ms/step - loss: 0.0792 - accuracy: 0.9752 - val_loss: 0.3233 - val_accuracy: 0.9085 - lr: 5.6250e-04\n",
      "Epoch 37/99150\n",
      "29/29 [==============================] - ETA: 0s - loss: 0.0801 - accuracy: 0.9764\n",
      "Epoch 00037: val_accuracy did not improve from 0.92065\n",
      "29/29 [==============================] - 3s 119ms/step - loss: 0.0801 - accuracy: 0.9764 - val_loss: 0.3256 - val_accuracy: 0.9085 - lr: 5.6250e-04\n",
      "Epoch 38/99150\n",
      "29/29 [==============================] - ETA: 0s - loss: 0.0784 - accuracy: 0.9759\n",
      "Epoch 00038: val_accuracy did not improve from 0.92065\n",
      "29/29 [==============================] - 3s 118ms/step - loss: 0.0784 - accuracy: 0.9759 - val_loss: 0.3188 - val_accuracy: 0.9090 - lr: 5.6250e-04\n",
      "Epoch 39/99150\n",
      "29/29 [==============================] - ETA: 0s - loss: 0.0778 - accuracy: 0.9759\n",
      "Epoch 00039: val_accuracy did not improve from 0.92065\n",
      "29/29 [==============================] - 3s 118ms/step - loss: 0.0778 - accuracy: 0.9759 - val_loss: 0.3230 - val_accuracy: 0.9082 - lr: 5.6250e-04\n",
      "Epoch 40/99150\n",
      "29/29 [==============================] - ETA: 0s - loss: 0.0801 - accuracy: 0.9748\n",
      "Epoch 00040: val_accuracy did not improve from 0.92065\n",
      "29/29 [==============================] - 3s 119ms/step - loss: 0.0801 - accuracy: 0.9748 - val_loss: 0.3107 - val_accuracy: 0.9115 - lr: 5.6250e-04\n",
      "Epoch 41/99150\n",
      "29/29 [==============================] - ETA: 0s - loss: 0.0789 - accuracy: 0.9756\n",
      "Epoch 00041: val_accuracy did not improve from 0.92065\n",
      "29/29 [==============================] - 3s 119ms/step - loss: 0.0789 - accuracy: 0.9756 - val_loss: 0.3148 - val_accuracy: 0.9101 - lr: 5.6250e-04\n",
      "Epoch 42/99150\n",
      "29/29 [==============================] - ETA: 0s - loss: 0.0750 - accuracy: 0.9771\n",
      "Epoch 00042: val_accuracy did not improve from 0.92065\n",
      "29/29 [==============================] - 3s 119ms/step - loss: 0.0750 - accuracy: 0.9771 - val_loss: 0.3224 - val_accuracy: 0.9088 - lr: 5.6250e-04\n",
      "Epoch 43/99150\n",
      "29/29 [==============================] - ETA: 0s - loss: 0.0736 - accuracy: 0.9771\n",
      "Epoch 00043: val_accuracy did not improve from 0.92065\n",
      "\n",
      "Epoch 00043: ReduceLROnPlateau reducing learning rate to 0.0004218749818392098.\n",
      "29/29 [==============================] - 3s 118ms/step - loss: 0.0736 - accuracy: 0.9771 - val_loss: 0.3280 - val_accuracy: 0.9099 - lr: 5.6250e-04\n",
      "Epoch 44/99150\n",
      "29/29 [==============================] - ETA: 0s - loss: 0.0749 - accuracy: 0.9768\n",
      "Epoch 00044: val_accuracy did not improve from 0.92065\n",
      "29/29 [==============================] - 3s 117ms/step - loss: 0.0749 - accuracy: 0.9768 - val_loss: 0.3347 - val_accuracy: 0.9069 - lr: 4.2187e-04\n",
      "Epoch 45/99150\n",
      "29/29 [==============================] - ETA: 0s - loss: 0.0743 - accuracy: 0.9766\n",
      "Epoch 00045: val_accuracy did not improve from 0.92065\n",
      "29/29 [==============================] - 3s 117ms/step - loss: 0.0743 - accuracy: 0.9766 - val_loss: 0.3403 - val_accuracy: 0.9066 - lr: 4.2187e-04\n",
      "Epoch 46/99150\n",
      "29/29 [==============================] - ETA: 0s - loss: 0.0729 - accuracy: 0.9769\n",
      "Epoch 00046: val_accuracy did not improve from 0.92065\n",
      "29/29 [==============================] - 3s 118ms/step - loss: 0.0729 - accuracy: 0.9769 - val_loss: 0.3307 - val_accuracy: 0.9096 - lr: 4.2187e-04\n",
      "Epoch 47/99150\n",
      "29/29 [==============================] - ETA: 0s - loss: 0.0718 - accuracy: 0.9784\n",
      "Epoch 00047: val_accuracy did not improve from 0.92065\n",
      "29/29 [==============================] - 3s 117ms/step - loss: 0.0718 - accuracy: 0.9784 - val_loss: 0.3423 - val_accuracy: 0.9101 - lr: 4.2187e-04\n",
      "Epoch 48/99150\n",
      "29/29 [==============================] - ETA: 0s - loss: 0.0723 - accuracy: 0.9765\n",
      "Epoch 00048: val_accuracy did not improve from 0.92065\n",
      "29/29 [==============================] - 3s 118ms/step - loss: 0.0723 - accuracy: 0.9765 - val_loss: 0.3309 - val_accuracy: 0.9109 - lr: 4.2187e-04\n",
      "Epoch 49/99150\n",
      "29/29 [==============================] - ETA: 0s - loss: 0.0741 - accuracy: 0.9772\n",
      "Epoch 00049: val_accuracy did not improve from 0.92065\n",
      "29/29 [==============================] - 3s 118ms/step - loss: 0.0741 - accuracy: 0.9772 - val_loss: 0.3364 - val_accuracy: 0.9096 - lr: 4.2187e-04\n",
      "Epoch 50/99150\n",
      "29/29 [==============================] - ETA: 0s - loss: 0.0728 - accuracy: 0.9776\n",
      "Epoch 00050: val_accuracy did not improve from 0.92065\n",
      "29/29 [==============================] - 3s 119ms/step - loss: 0.0728 - accuracy: 0.9776 - val_loss: 0.3247 - val_accuracy: 0.9112 - lr: 4.2187e-04\n",
      "Epoch 51/99150\n",
      "29/29 [==============================] - ETA: 0s - loss: 0.0702 - accuracy: 0.9787\n",
      "Epoch 00051: val_accuracy did not improve from 0.92065\n",
      "29/29 [==============================] - 3s 119ms/step - loss: 0.0702 - accuracy: 0.9787 - val_loss: 0.3366 - val_accuracy: 0.9093 - lr: 4.2187e-04\n",
      "Epoch 52/99150\n",
      "29/29 [==============================] - ETA: 0s - loss: 0.0716 - accuracy: 0.9792\n",
      "Epoch 00052: val_accuracy did not improve from 0.92065\n",
      "29/29 [==============================] - 3s 118ms/step - loss: 0.0716 - accuracy: 0.9792 - val_loss: 0.3381 - val_accuracy: 0.9093 - lr: 4.2187e-04\n",
      "Epoch 53/99150\n",
      "29/29 [==============================] - ETA: 0s - loss: 0.0688 - accuracy: 0.9794\n",
      "Epoch 00053: val_accuracy did not improve from 0.92065\n",
      "\n",
      "Epoch 00053: ReduceLROnPlateau reducing learning rate to 0.00031640623637940735.\n",
      "29/29 [==============================] - 3s 118ms/step - loss: 0.0688 - accuracy: 0.9794 - val_loss: 0.3387 - val_accuracy: 0.9082 - lr: 4.2187e-04\n"
     ]
    },
    {
     "name": "stdout",
     "output_type": "stream",
     "text": [
      "Epoch 54/99150\n",
      "29/29 [==============================] - ETA: 0s - loss: 0.0672 - accuracy: 0.9800\n",
      "Epoch 00054: val_accuracy did not improve from 0.92065\n",
      "29/29 [==============================] - 3s 118ms/step - loss: 0.0672 - accuracy: 0.9800 - val_loss: 0.3472 - val_accuracy: 0.9101 - lr: 3.1641e-04\n",
      "Epoch 55/99150\n",
      "29/29 [==============================] - ETA: 0s - loss: 0.0684 - accuracy: 0.9790\n",
      "Epoch 00055: val_accuracy did not improve from 0.92065\n",
      "29/29 [==============================] - 3s 118ms/step - loss: 0.0684 - accuracy: 0.9790 - val_loss: 0.3490 - val_accuracy: 0.9082 - lr: 3.1641e-04\n",
      "Epoch 56/99150\n",
      "29/29 [==============================] - ETA: 0s - loss: 0.0711 - accuracy: 0.9783\n",
      "Epoch 00056: val_accuracy did not improve from 0.92065\n",
      "29/29 [==============================] - 3s 118ms/step - loss: 0.0711 - accuracy: 0.9783 - val_loss: 0.3416 - val_accuracy: 0.9090 - lr: 3.1641e-04\n",
      "Epoch 57/99150\n",
      "29/29 [==============================] - ETA: 0s - loss: 0.0670 - accuracy: 0.9792\n",
      "Epoch 00057: val_accuracy did not improve from 0.92065\n",
      "29/29 [==============================] - 3s 118ms/step - loss: 0.0670 - accuracy: 0.9792 - val_loss: 0.3542 - val_accuracy: 0.9080 - lr: 3.1641e-04\n",
      "Epoch 58/99150\n",
      "29/29 [==============================] - ETA: 0s - loss: 0.0683 - accuracy: 0.9803\n",
      "Epoch 00058: val_accuracy did not improve from 0.92065\n",
      "29/29 [==============================] - 3s 119ms/step - loss: 0.0683 - accuracy: 0.9803 - val_loss: 0.3512 - val_accuracy: 0.9080 - lr: 3.1641e-04\n",
      "Epoch 59/99150\n",
      "29/29 [==============================] - ETA: 0s - loss: 0.0688 - accuracy: 0.9793\n",
      "Epoch 00059: val_accuracy did not improve from 0.92065\n",
      "29/29 [==============================] - 3s 120ms/step - loss: 0.0688 - accuracy: 0.9793 - val_loss: 0.3524 - val_accuracy: 0.9069 - lr: 3.1641e-04\n",
      "Epoch 60/99150\n",
      "29/29 [==============================] - ETA: 0s - loss: 0.0670 - accuracy: 0.9798\n",
      "Epoch 00060: val_accuracy did not improve from 0.92065\n",
      "29/29 [==============================] - 3s 118ms/step - loss: 0.0670 - accuracy: 0.9798 - val_loss: 0.3455 - val_accuracy: 0.9090 - lr: 3.1641e-04\n",
      "Epoch 61/99150\n",
      "29/29 [==============================] - ETA: 0s - loss: 0.0656 - accuracy: 0.9810\n",
      "Epoch 00061: val_accuracy did not improve from 0.92065\n",
      "29/29 [==============================] - 3s 118ms/step - loss: 0.0656 - accuracy: 0.9810 - val_loss: 0.3543 - val_accuracy: 0.9061 - lr: 3.1641e-04\n",
      "Epoch 62/99150\n",
      "29/29 [==============================] - ETA: 0s - loss: 0.0662 - accuracy: 0.9796\n",
      "Epoch 00062: val_accuracy did not improve from 0.92065\n",
      "29/29 [==============================] - 3s 118ms/step - loss: 0.0662 - accuracy: 0.9796 - val_loss: 0.3573 - val_accuracy: 0.9082 - lr: 3.1641e-04\n",
      "Epoch 63/99150\n",
      "29/29 [==============================] - ETA: 0s - loss: 0.0656 - accuracy: 0.9805\n",
      "Epoch 00063: val_accuracy did not improve from 0.92065\n",
      "Restoring model weights from the end of the best epoch.\n",
      "\n",
      "Epoch 00063: ReduceLROnPlateau reducing learning rate to 0.00023730468819849193.\n",
      "29/29 [==============================] - 3s 119ms/step - loss: 0.0656 - accuracy: 0.9805 - val_loss: 0.3493 - val_accuracy: 0.9099 - lr: 3.1641e-04\n",
      "Epoch 00063: early stopping\n"
     ]
    }
   ],
   "source": [
    "checkpoint = tf.keras.callbacks.ModelCheckpoint('best_model.h5',\n",
    "                            monitor=val_acc_name,\n",
    "                            save_best_only=True,\n",
    "                            period=1,\n",
    "                            verbose=1)\n",
    "\n",
    "early_stopping_callback = tf.keras.callbacks.EarlyStopping(monitor=val_acc_name, \n",
    "                                        min_delta=1e-9, \n",
    "                                        patience=50, \n",
    "                                        verbose=1, \n",
    "                                        mode='auto', \n",
    "                                        baseline=None, \n",
    "                                        restore_best_weights=True)\n",
    "learning_rate_reduction = tf.keras.callbacks.ReduceLROnPlateau(monitor=val_acc_name,\n",
    "                                           patience=10,\n",
    "                                           verbose=1,\n",
    "                                           factor=0.75,\n",
    "                                           min_lr=0.00000001)\n",
    "\n",
    "history = model.fit(x_train, y_train,\n",
    "                    batch_size=batch_size,\n",
    "                    epochs=epochs,\n",
    "                    verbose=1,\n",
    "                    validation_split=0.2,\n",
    "                    shuffle=True,\n",
    "                    callbacks=[checkpoint, early_stopping_callback, learning_rate_reduction])"
   ]
  },
  {
   "cell_type": "code",
   "execution_count": 40,
   "metadata": {},
   "outputs": [
    {
     "data": {
      "image/png": "[encoded data removed]",
      "text/plain": [
       "<Figure size 432x288 with 1 Axes>"
      ]
     },
     "metadata": {
      "needs_background": "light"
     },
     "output_type": "display_data"
    },
    {
     "data": {
      "image/png": "[encoded data removed]",
      "text/plain": [
       "<Figure size 432x288 with 1 Axes>"
      ]
     },
     "metadata": {
      "needs_background": "light"
     },
     "output_type": "display_data"
    }
   ],
   "source": [
    "plt.figure()\n",
    "plt.plot(history.history['loss'], label='train loss')\n",
    "plt.plot(history.history['val_loss'], label='validation loss')\n",
    "plt.xlabel('Эпоха обучения')\n",
    "plt.ylabel('Значение функции потерь')\n",
    "plt.legend()\n",
    "\n",
    "plt.figure()\n",
    "plt.plot(history.history[acc_name], label='train accuracy')\n",
    "plt.plot(history.history[val_acc_name], label='validation accuracy')\n",
    "plt.xlabel('Эпоха обучения')\n",
    "plt.ylabel('Доля верных ответов')\n",
    "plt.legend()\n",
    "\n",
    "plt.show()"
   ]
  },
  {
   "cell_type": "code",
   "execution_count": null,
   "metadata": {},
   "outputs": [],
   "source": []
  }
 ],
 "metadata": {
  "kernelspec": {
   "display_name": "Python 3",
   "language": "python",
   "name": "python3"
  },
  "language_info": {
   "codemirror_mode": {
    "name": "ipython",
    "version": 3
   },
   "file_extension": ".py",
   "mimetype": "text/x-python",
   "name": "python",
   "nbconvert_exporter": "python",
   "pygments_lexer": "ipython3",
   "version": "3.7.3"
  }
 },
 "nbformat": 4,
 "nbformat_minor": 2
}
