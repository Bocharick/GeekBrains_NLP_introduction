{
 "cells": [
  {
   "cell_type": "code",
   "execution_count": 1,
   "metadata": {},
   "outputs": [],
   "source": [
    "import pandas as pd\n",
    "import numpy as np\n",
    "from string import punctuation\n",
    "from stop_words import get_stop_words\n",
    "from pymorphy2 import MorphAnalyzer\n",
    "from string import punctuation\n",
    "import re\n",
    "import nltk\n",
    "from nltk.tokenize import word_tokenize\n",
    "from nltk.probability import FreqDist\n",
    "import tensorflow as tf\n",
    "from tensorflow import keras\n",
    "import matplotlib.pyplot as plt\n",
    "from gensim.models import Word2Vec\n",
    "import multiprocessing"
   ]
  },
  {
   "cell_type": "code",
   "execution_count": 2,
   "metadata": {},
   "outputs": [
    {
     "data": {
      "text/plain": [
       "'2.2.0'"
      ]
     },
     "execution_count": 2,
     "metadata": {},
     "output_type": "execute_result"
    }
   ],
   "source": [
    "tf.__version__"
   ]
  },
  {
   "cell_type": "code",
   "execution_count": 3,
   "metadata": {},
   "outputs": [
    {
     "data": {
      "text/plain": [
       "'2.3.0-tf'"
      ]
     },
     "execution_count": 3,
     "metadata": {},
     "output_type": "execute_result"
    }
   ],
   "source": [
    "keras.__version__"
   ]
  },
  {
   "cell_type": "code",
   "execution_count": 4,
   "metadata": {},
   "outputs": [],
   "source": [
    "if tf.__version__.startswith(\"1.\"):\n",
    "    val_acc_name = \"val_acc\"\n",
    "    acc_name = \"acc\"\n",
    "else:\n",
    "    val_acc_name = \"val_accuracy\"\n",
    "    acc_name = \"accuracy\""
   ]
  },
  {
   "cell_type": "code",
   "execution_count": 5,
   "metadata": {},
   "outputs": [
    {
     "name": "stderr",
     "output_type": "stream",
     "text": [
      "[nltk_data] Downloading package punkt to /home/bocharick/nltk_data...\n",
      "[nltk_data]   Package punkt is already up-to-date!\n"
     ]
    },
    {
     "data": {
      "text/plain": [
       "True"
      ]
     },
     "execution_count": 5,
     "metadata": {},
     "output_type": "execute_result"
    }
   ],
   "source": [
    "nltk.download(\"punkt\")"
   ]
  },
  {
   "cell_type": "code",
   "execution_count": 6,
   "metadata": {},
   "outputs": [],
   "source": [
    "max_words = 2000\n",
    "max_len = 50\n",
    "\n",
    "# Training\n",
    "epochs = 150\n",
    "batch_size = 512"
   ]
  },
  {
   "cell_type": "code",
   "execution_count": 7,
   "metadata": {},
   "outputs": [],
   "source": [
    "sw = set(get_stop_words(\"ru\"))\n",
    "exclude = set(punctuation)\n",
    "morpher = MorphAnalyzer()"
   ]
  },
  {
   "cell_type": "code",
   "execution_count": 8,
   "metadata": {},
   "outputs": [],
   "source": [
    "def preprocess_text(txt):\n",
    "    txt = str(txt)\n",
    "    txt = re.sub(r'( )+', \" \", re.sub(r'[^\\w\\s]', \" \", txt)).strip()\n",
    "    txt = \"\".join(c for c in txt if c not in exclude)\n",
    "    txt = txt.lower()\n",
    "    txt = [morpher.parse(word)[0].normal_form for word in txt.split() if word not in sw]\n",
    "    txt = \" \".join(txt)\n",
    "    txt = re.sub(\"\\sне\", \"не\", txt)\n",
    "    return txt"
   ]
  },
  {
   "cell_type": "code",
   "execution_count": 9,
   "metadata": {},
   "outputs": [],
   "source": [
    "otzivy_za_leto = pd.read_excel(\"отзывы за лето.xls\", )"
   ]
  },
  {
   "cell_type": "code",
   "execution_count": 10,
   "metadata": {},
   "outputs": [
    {
     "data": {
      "text/html": [
       "<div>\n",
       "<style scoped>\n",
       "    .dataframe tbody tr th:only-of-type {\n",
       "        vertical-align: middle;\n",
       "    }\n",
       "\n",
       "    .dataframe tbody tr th {\n",
       "        vertical-align: top;\n",
       "    }\n",
       "\n",
       "    .dataframe thead th {\n",
       "        text-align: right;\n",
       "    }\n",
       "</style>\n",
       "<table border=\"1\" class=\"dataframe\">\n",
       "  <thead>\n",
       "    <tr style=\"text-align: right;\">\n",
       "      <th></th>\n",
       "      <th>Rating</th>\n",
       "      <th>Content</th>\n",
       "      <th>Date</th>\n",
       "    </tr>\n",
       "  </thead>\n",
       "  <tbody>\n",
       "    <tr>\n",
       "      <th>0</th>\n",
       "      <td>5</td>\n",
       "      <td>It just works!</td>\n",
       "      <td>2017-08-14</td>\n",
       "    </tr>\n",
       "    <tr>\n",
       "      <th>1</th>\n",
       "      <td>4</td>\n",
       "      <td>В целом удобноное приложение...из минусов хотя...</td>\n",
       "      <td>2017-08-14</td>\n",
       "    </tr>\n",
       "    <tr>\n",
       "      <th>2</th>\n",
       "      <td>5</td>\n",
       "      <td>Отлично все</td>\n",
       "      <td>2017-08-14</td>\n",
       "    </tr>\n",
       "    <tr>\n",
       "      <th>3</th>\n",
       "      <td>5</td>\n",
       "      <td>Стал зависать на 1% работы антивируса. Дальше ...</td>\n",
       "      <td>2017-08-14</td>\n",
       "    </tr>\n",
       "    <tr>\n",
       "      <th>4</th>\n",
       "      <td>5</td>\n",
       "      <td>Очень удобно, работает быстро.</td>\n",
       "      <td>2017-08-14</td>\n",
       "    </tr>\n",
       "  </tbody>\n",
       "</table>\n",
       "</div>"
      ],
      "text/plain": [
       "   Rating                                            Content        Date\n",
       "0       5                                     It just works!  2017-08-14\n",
       "1       4  В целом удобноное приложение...из минусов хотя...  2017-08-14\n",
       "2       5                                        Отлично все  2017-08-14\n",
       "3       5  Стал зависать на 1% работы антивируса. Дальше ...  2017-08-14\n",
       "4       5                     Очень удобно, работает быстро.  2017-08-14"
      ]
     },
     "execution_count": 10,
     "metadata": {},
     "output_type": "execute_result"
    }
   ],
   "source": [
    "otzivy_za_leto.head()"
   ]
  },
  {
   "cell_type": "code",
   "execution_count": null,
   "metadata": {},
   "outputs": [],
   "source": []
  },
  {
   "cell_type": "code",
   "execution_count": 11,
   "metadata": {},
   "outputs": [
    {
     "name": "stdout",
     "output_type": "stream",
     "text": [
      "Не стартует без доступа к gps, sms, звонкам и адресной книге. Филиал фсб одним словом\n",
      "<class 'str'>\n",
      "стартовать доступ gps sms звонок адресный книга филиал фсб один слово\n"
     ]
    }
   ],
   "source": [
    "text111 = otzivy_za_leto.iloc[12][\"Content\"]\n",
    "print(text111)\n",
    "preprocessed_text111 = preprocess_text(text111)\n",
    "print(type(preprocessed_text111))\n",
    "print(preprocessed_text111)"
   ]
  },
  {
   "cell_type": "code",
   "execution_count": null,
   "metadata": {},
   "outputs": [],
   "source": []
  },
  {
   "cell_type": "code",
   "execution_count": null,
   "metadata": {},
   "outputs": [],
   "source": []
  },
  {
   "cell_type": "code",
   "execution_count": 12,
   "metadata": {},
   "outputs": [
    {
     "data": {
      "text/plain": [
       "array([5, 4, 2, 3, 1])"
      ]
     },
     "execution_count": 12,
     "metadata": {},
     "output_type": "execute_result"
    }
   ],
   "source": [
    "otzivy_za_leto.Rating.unique()"
   ]
  },
  {
   "cell_type": "code",
   "execution_count": 13,
   "metadata": {},
   "outputs": [],
   "source": [
    "# for to_categorical usage\n",
    "otzivy_za_leto.Rating = otzivy_za_leto.Rating - 1"
   ]
  },
  {
   "cell_type": "code",
   "execution_count": 14,
   "metadata": {},
   "outputs": [
    {
     "data": {
      "text/html": [
       "<div>\n",
       "<style scoped>\n",
       "    .dataframe tbody tr th:only-of-type {\n",
       "        vertical-align: middle;\n",
       "    }\n",
       "\n",
       "    .dataframe tbody tr th {\n",
       "        vertical-align: top;\n",
       "    }\n",
       "\n",
       "    .dataframe thead th {\n",
       "        text-align: right;\n",
       "    }\n",
       "</style>\n",
       "<table border=\"1\" class=\"dataframe\">\n",
       "  <thead>\n",
       "    <tr style=\"text-align: right;\">\n",
       "      <th></th>\n",
       "      <th>Rating</th>\n",
       "      <th>Content</th>\n",
       "      <th>Date</th>\n",
       "    </tr>\n",
       "  </thead>\n",
       "  <tbody>\n",
       "    <tr>\n",
       "      <th>0</th>\n",
       "      <td>4</td>\n",
       "      <td>It just works!</td>\n",
       "      <td>2017-08-14</td>\n",
       "    </tr>\n",
       "    <tr>\n",
       "      <th>1</th>\n",
       "      <td>3</td>\n",
       "      <td>В целом удобноное приложение...из минусов хотя...</td>\n",
       "      <td>2017-08-14</td>\n",
       "    </tr>\n",
       "    <tr>\n",
       "      <th>2</th>\n",
       "      <td>4</td>\n",
       "      <td>Отлично все</td>\n",
       "      <td>2017-08-14</td>\n",
       "    </tr>\n",
       "    <tr>\n",
       "      <th>3</th>\n",
       "      <td>4</td>\n",
       "      <td>Стал зависать на 1% работы антивируса. Дальше ...</td>\n",
       "      <td>2017-08-14</td>\n",
       "    </tr>\n",
       "    <tr>\n",
       "      <th>4</th>\n",
       "      <td>4</td>\n",
       "      <td>Очень удобно, работает быстро.</td>\n",
       "      <td>2017-08-14</td>\n",
       "    </tr>\n",
       "  </tbody>\n",
       "</table>\n",
       "</div>"
      ],
      "text/plain": [
       "   Rating                                            Content        Date\n",
       "0       4                                     It just works!  2017-08-14\n",
       "1       3  В целом удобноное приложение...из минусов хотя...  2017-08-14\n",
       "2       4                                        Отлично все  2017-08-14\n",
       "3       4  Стал зависать на 1% работы антивируса. Дальше ...  2017-08-14\n",
       "4       4                     Очень удобно, работает быстро.  2017-08-14"
      ]
     },
     "execution_count": 14,
     "metadata": {},
     "output_type": "execute_result"
    }
   ],
   "source": [
    "otzivy_za_leto.head()"
   ]
  },
  {
   "cell_type": "code",
   "execution_count": 15,
   "metadata": {},
   "outputs": [
    {
     "data": {
      "text/plain": [
       "array([4, 3, 1, 2, 0])"
      ]
     },
     "execution_count": 15,
     "metadata": {},
     "output_type": "execute_result"
    }
   ],
   "source": [
    "otzivy_za_leto.Rating.unique()"
   ]
  },
  {
   "cell_type": "code",
   "execution_count": 16,
   "metadata": {},
   "outputs": [],
   "source": [
    "vfunc = np.vectorize(preprocess_text)"
   ]
  },
  {
   "cell_type": "code",
   "execution_count": 17,
   "metadata": {},
   "outputs": [
    {
     "name": "stdout",
     "output_type": "stream",
     "text": [
      "CPU times: user 9.45 s, sys: 42.2 ms, total: 9.5 s\n",
      "Wall time: 9.5 s\n"
     ]
    },
    {
     "data": {
      "text/html": [
       "<div>\n",
       "<style scoped>\n",
       "    .dataframe tbody tr th:only-of-type {\n",
       "        vertical-align: middle;\n",
       "    }\n",
       "\n",
       "    .dataframe tbody tr th {\n",
       "        vertical-align: top;\n",
       "    }\n",
       "\n",
       "    .dataframe thead th {\n",
       "        text-align: right;\n",
       "    }\n",
       "</style>\n",
       "<table border=\"1\" class=\"dataframe\">\n",
       "  <thead>\n",
       "    <tr style=\"text-align: right;\">\n",
       "      <th></th>\n",
       "      <th>Rating</th>\n",
       "      <th>Content</th>\n",
       "      <th>Date</th>\n",
       "      <th>text</th>\n",
       "    </tr>\n",
       "  </thead>\n",
       "  <tbody>\n",
       "    <tr>\n",
       "      <th>0</th>\n",
       "      <td>4</td>\n",
       "      <td>It just works!</td>\n",
       "      <td>2017-08-14</td>\n",
       "      <td>it just works</td>\n",
       "    </tr>\n",
       "    <tr>\n",
       "      <th>1</th>\n",
       "      <td>3</td>\n",
       "      <td>В целом удобноное приложение...из минусов хотя...</td>\n",
       "      <td>2017-08-14</td>\n",
       "      <td>целое удобноной приложение минус хотеть большо...</td>\n",
       "    </tr>\n",
       "    <tr>\n",
       "      <th>2</th>\n",
       "      <td>4</td>\n",
       "      <td>Отлично все</td>\n",
       "      <td>2017-08-14</td>\n",
       "      <td>отлично</td>\n",
       "    </tr>\n",
       "    <tr>\n",
       "      <th>3</th>\n",
       "      <td>4</td>\n",
       "      <td>Стал зависать на 1% работы антивируса. Дальше ...</td>\n",
       "      <td>2017-08-14</td>\n",
       "      <td>зависать 1 работа антивирус ранее пользоваться...</td>\n",
       "    </tr>\n",
       "    <tr>\n",
       "      <th>4</th>\n",
       "      <td>4</td>\n",
       "      <td>Очень удобно, работает быстро.</td>\n",
       "      <td>2017-08-14</td>\n",
       "      <td>удобно работать быстро</td>\n",
       "    </tr>\n",
       "  </tbody>\n",
       "</table>\n",
       "</div>"
      ],
      "text/plain": [
       "   Rating                                            Content        Date  \\\n",
       "0       4                                     It just works!  2017-08-14   \n",
       "1       3  В целом удобноное приложение...из минусов хотя...  2017-08-14   \n",
       "2       4                                        Отлично все  2017-08-14   \n",
       "3       4  Стал зависать на 1% работы антивируса. Дальше ...  2017-08-14   \n",
       "4       4                     Очень удобно, работает быстро.  2017-08-14   \n",
       "\n",
       "                                                text  \n",
       "0                                      it just works  \n",
       "1  целое удобноной приложение минус хотеть большо...  \n",
       "2                                            отлично  \n",
       "3  зависать 1 работа антивирус ранее пользоваться...  \n",
       "4                             удобно работать быстро  "
      ]
     },
     "execution_count": 17,
     "metadata": {},
     "output_type": "execute_result"
    }
   ],
   "source": [
    "%%time\n",
    "otzivy_za_leto[\"text\"] = vfunc(otzivy_za_leto.Content)\n",
    "otzivy_za_leto.head()"
   ]
  },
  {
   "cell_type": "code",
   "execution_count": 18,
   "metadata": {},
   "outputs": [],
   "source": [
    "train_corpus = \" \".join(otzivy_za_leto[\"text\"])\n",
    "train_corpus = train_corpus.lower()"
   ]
  },
  {
   "cell_type": "code",
   "execution_count": 19,
   "metadata": {},
   "outputs": [],
   "source": [
    "tokens = word_tokenize(train_corpus)"
   ]
  },
  {
   "cell_type": "code",
   "execution_count": 20,
   "metadata": {},
   "outputs": [],
   "source": [
    "tokens_filtered = [word for word in tokens if word.isalnum()]"
   ]
  },
  {
   "cell_type": "code",
   "execution_count": 21,
   "metadata": {},
   "outputs": [],
   "source": [
    "dist = FreqDist(tokens_filtered)\n",
    "tokens_filtered_top = [pair[0] for pair in dist.most_common(max_words-1)]"
   ]
  },
  {
   "cell_type": "code",
   "execution_count": 22,
   "metadata": {},
   "outputs": [
    {
     "data": {
      "text/plain": [
       "['приложение',\n",
       " 'удобно',\n",
       " 'работать',\n",
       " 'удобный',\n",
       " 'отлично',\n",
       " 'нравиться',\n",
       " 'хороший',\n",
       " 'телефон',\n",
       " 'отличный',\n",
       " 'супер',\n",
       " 'обновление',\n",
       " 'быстро',\n",
       " 'пароль',\n",
       " 'пользоваться',\n",
       " 'мочь',\n",
       " 'антивирус',\n",
       " 'сбербанк',\n",
       " 'раз',\n",
       " 'устраивать',\n",
       " 'вход']"
      ]
     },
     "execution_count": 22,
     "metadata": {},
     "output_type": "execute_result"
    }
   ],
   "source": [
    "tokens_filtered_top[:20]"
   ]
  },
  {
   "cell_type": "code",
   "execution_count": 23,
   "metadata": {},
   "outputs": [],
   "source": [
    "vocabulary = {v: k for k, v in dict(enumerate(tokens_filtered_top, 1)).items()}"
   ]
  },
  {
   "cell_type": "code",
   "execution_count": 24,
   "metadata": {},
   "outputs": [],
   "source": [
    "def text_to_sequence(text, maxlen):\n",
    "    result = []\n",
    "    tokens = word_tokenize(text.lower())\n",
    "    tokens_filtered = [word for word in tokens if word.isalnum()]\n",
    "    for word in tokens_filtered:\n",
    "        if word in vocabulary:\n",
    "            result.append(vocabulary[word])\n",
    "    padding = [0]*(maxlen-len(result))\n",
    "    return padding + result[-maxlen:]"
   ]
  },
  {
   "cell_type": "code",
   "execution_count": 25,
   "metadata": {},
   "outputs": [],
   "source": [
    "x_train = np.asarray([text_to_sequence(text, max_len) for text in otzivy_za_leto[\"text\"]], dtype=np.int32)"
   ]
  },
  {
   "cell_type": "code",
   "execution_count": 26,
   "metadata": {},
   "outputs": [
    {
     "data": {
      "text/plain": [
       "array([   0,    0,    0,    0,    0,    0,    0,    0,    0,    0,    0,\n",
       "          0,    0,    0,    0,    0,    0,    0,    0,    0,    0,    0,\n",
       "          0,    0,    0,    0,    0,    0,    0,    0,    0,    0,    0,\n",
       "          0,    0,    0,    0,   96,    1,  124,  172,   93,   69, 1357,\n",
       "        868,    8,   35,   14,  375,  445], dtype=int32)"
      ]
     },
     "execution_count": 26,
     "metadata": {},
     "output_type": "execute_result"
    }
   ],
   "source": [
    "x_train[1]"
   ]
  },
  {
   "cell_type": "code",
   "execution_count": 27,
   "metadata": {},
   "outputs": [
    {
     "data": {
      "text/plain": [
       "array([4, 3, 1, 2, 0])"
      ]
     },
     "execution_count": 27,
     "metadata": {},
     "output_type": "execute_result"
    }
   ],
   "source": [
    "otzivy_za_leto[\"Rating\"].unique()"
   ]
  },
  {
   "cell_type": "code",
   "execution_count": 28,
   "metadata": {},
   "outputs": [
    {
     "data": {
      "text/plain": [
       "5"
      ]
     },
     "execution_count": 28,
     "metadata": {},
     "output_type": "execute_result"
    }
   ],
   "source": [
    "num_classes = len(otzivy_za_leto[\"Rating\"].unique())\n",
    "num_classes"
   ]
  },
  {
   "cell_type": "code",
   "execution_count": 29,
   "metadata": {},
   "outputs": [],
   "source": [
    "y_train = keras.utils.to_categorical(otzivy_za_leto[\"Rating\"], num_classes)"
   ]
  },
  {
   "cell_type": "code",
   "execution_count": 30,
   "metadata": {},
   "outputs": [],
   "source": [
    "keras.backend.clear_session()\n",
    "\n",
    "embed_vec_len = 50\n",
    "\n",
    "X_input = tf.keras.layers.Input(shape=(max_len,), name=\"X\")\n",
    "Embed_ = tf.keras.layers.Embedding(input_dim=max_words, output_dim=embed_vec_len, name=\"Embed_\")(X_input)\n",
    "Conv1_ = tf.keras.layers.Conv1D(filters=embed_vec_len*10, kernel_size=5, activation=\"relu\", name=\"Conv1_\")(Embed_)\n",
    "GlobMaxPool1_ = tf.keras.layers.GlobalMaxPool1D(name=\"GlobMaxPool1\")(Conv1_)\n",
    "Drop1_ = tf.keras.layers.Dropout(0.6)(GlobMaxPool1_)\n",
    "Dense1_ = tf.keras.layers.Dense(32, activation=\"relu\", name=\"Dense1_\")(Drop1_)\n",
    "Drop2_ = tf.keras.layers.Dropout(0.6)(Dense1_)\n",
    "Dense2_ = tf.keras.layers.Dense(32, activation=\"relu\", name=\"Dense2_\")(Drop2_)\n",
    "Drop3_ = tf.keras.layers.Dropout(0.6)(Dense2_)\n",
    "Dense3_ = tf.keras.layers.Dense(32, activation=\"relu\", name=\"Dense3_\")(Drop3_)\n",
    "Drop4_ = tf.keras.layers.Dropout(0.6)(Dense3_)\n",
    "Dense4_ = tf.keras.layers.Dense(32, activation=\"relu\", name=\"Dense4_\")(Drop4_)\n",
    "Drop5_ = tf.keras.layers.Dropout(0.75)(Dense4_)\n",
    "y_output = tf.keras.layers.Dense(num_classes, activation=\"softmax\", name=\"y\")(Drop5_)\n",
    "\n",
    "model = tf.keras.models.Model(inputs=[X_input], outputs=[y_output], name=\"my_model\")\n",
    "model.compile(loss='categorical_crossentropy',\n",
    "              optimizer='adam',\n",
    "              metrics=['accuracy'])"
   ]
  },
  {
   "cell_type": "code",
   "execution_count": 31,
   "metadata": {},
   "outputs": [],
   "source": [
    "# keras.backend.clear_session()\n",
    "\n",
    "# embed_vec_len = 50\n",
    "\n",
    "# X_input = tf.keras.layers.Input(shape=(max_len,), name=\"X\")\n",
    "# Embed_ = tf.keras.layers.Embedding(input_dim=max_words, output_dim=embed_vec_len, name=\"Embed_\")(X_input)\n",
    "# Conv1_ = tf.keras.layers.Conv1D(filters=embed_vec_len, kernel_size=3, activation=\"elu\", name=\"Conv1_\")(Embed_)\n",
    "# BatchNorm1 = tf.keras.layers.BatchNormalization()(Conv1_)\n",
    "# Conv2_ = tf.keras.layers.Conv1D(filters=embed_vec_len, kernel_size=3, activation=\"elu\", name=\"Conv2_\")(BatchNorm1)\n",
    "# BatchNorm2 = tf.keras.layers.BatchNormalization()(Conv2_)\n",
    "# MaxPool1 = tf.keras.layers.MaxPool1D(pool_size=2, strides=1, padding='same')(BatchNorm2)\n",
    "# Drop1_ = tf.keras.layers.Dropout(0.2)(MaxPool1)\n",
    "\n",
    "# Flat1_ = tf.keras.layers.Flatten(name=\"Flatten_1\")(Drop1_)\n",
    "# Dense1_ = tf.keras.layers.Dense(units=256, activation=\"relu\", name=\"Dense_1\")(Flat1_)\n",
    "# Dense2_ = tf.keras.layers.Dense(units=num_classes, activation=None, name=\"Dense_2\")(Dense1_)\n",
    "\n",
    "# model = tf.keras.models.Model(inputs=[X_input], outputs=[Dense2_], name=\"my_model\")\n",
    "# model.compile(loss='categorical_crossentropy',\n",
    "#               optimizer='adam',\n",
    "#               metrics=['accuracy'])"
   ]
  },
  {
   "cell_type": "code",
   "execution_count": 32,
   "metadata": {},
   "outputs": [
    {
     "name": "stdout",
     "output_type": "stream",
     "text": [
      "Model: \"my_model\"\n",
      "_________________________________________________________________\n",
      "Layer (type)                 Output Shape              Param #   \n",
      "=================================================================\n",
      "X (InputLayer)               [(None, 50)]              0         \n",
      "_________________________________________________________________\n",
      "Embed_ (Embedding)           (None, 50, 50)            100000    \n",
      "_________________________________________________________________\n",
      "Conv1_ (Conv1D)              (None, 46, 500)           125500    \n",
      "_________________________________________________________________\n",
      "GlobMaxPool1 (GlobalMaxPooli (None, 500)               0         \n",
      "_________________________________________________________________\n",
      "dropout (Dropout)            (None, 500)               0         \n",
      "_________________________________________________________________\n",
      "Dense1_ (Dense)              (None, 32)                16032     \n",
      "_________________________________________________________________\n",
      "dropout_1 (Dropout)          (None, 32)                0         \n",
      "_________________________________________________________________\n",
      "Dense2_ (Dense)              (None, 32)                1056      \n",
      "_________________________________________________________________\n",
      "dropout_2 (Dropout)          (None, 32)                0         \n",
      "_________________________________________________________________\n",
      "Dense3_ (Dense)              (None, 32)                1056      \n",
      "_________________________________________________________________\n",
      "dropout_3 (Dropout)          (None, 32)                0         \n",
      "_________________________________________________________________\n",
      "Dense4_ (Dense)              (None, 32)                1056      \n",
      "_________________________________________________________________\n",
      "dropout_4 (Dropout)          (None, 32)                0         \n",
      "_________________________________________________________________\n",
      "y (Dense)                    (None, 5)                 165       \n",
      "=================================================================\n",
      "Total params: 244,865\n",
      "Trainable params: 244,865\n",
      "Non-trainable params: 0\n",
      "_________________________________________________________________\n"
     ]
    }
   ],
   "source": [
    "model.summary()"
   ]
  },
  {
   "cell_type": "code",
   "execution_count": 33,
   "metadata": {},
   "outputs": [
    {
     "data": {
      "image/png": "[encoded data removed]",
      "text/plain": [
       "<IPython.core.display.Image object>"
      ]
     },
     "execution_count": 33,
     "metadata": {},
     "output_type": "execute_result"
    }
   ],
   "source": [
    "tf.keras.utils.plot_model(model)"
   ]
  },
  {
   "cell_type": "code",
   "execution_count": 34,
   "metadata": {},
   "outputs": [
    {
     "name": "stdout",
     "output_type": "stream",
     "text": [
      "Epoch 1/150\n",
      "33/33 [==============================] - 1s 26ms/step - loss: 1.4549 - accuracy: 0.4600 - val_loss: 1.2733 - val_accuracy: 0.6227\n",
      "Epoch 2/150\n",
      "33/33 [==============================] - 1s 16ms/step - loss: 1.1881 - accuracy: 0.6729 - val_loss: 1.0296 - val_accuracy: 0.6227\n",
      "Epoch 3/150\n",
      "33/33 [==============================] - 1s 17ms/step - loss: 0.9974 - accuracy: 0.7082 - val_loss: 0.9115 - val_accuracy: 0.6227\n",
      "Epoch 4/150\n",
      "33/33 [==============================] - 1s 17ms/step - loss: 0.8955 - accuracy: 0.7171 - val_loss: 0.8977 - val_accuracy: 0.6227\n",
      "Epoch 5/150\n",
      "33/33 [==============================] - 1s 17ms/step - loss: 0.8417 - accuracy: 0.7223 - val_loss: 0.8764 - val_accuracy: 0.6227\n",
      "Epoch 6/150\n",
      "33/33 [==============================] - 1s 17ms/step - loss: 0.7979 - accuracy: 0.7243 - val_loss: 0.8702 - val_accuracy: 0.6227\n",
      "Epoch 7/150\n",
      "33/33 [==============================] - 1s 18ms/step - loss: 0.7632 - accuracy: 0.7247 - val_loss: 0.8698 - val_accuracy: 0.6227\n",
      "Epoch 8/150\n",
      "33/33 [==============================] - 1s 17ms/step - loss: 0.7571 - accuracy: 0.7252 - val_loss: 0.8716 - val_accuracy: 0.6227\n",
      "Epoch 9/150\n",
      "33/33 [==============================] - 1s 17ms/step - loss: 0.7372 - accuracy: 0.7256 - val_loss: 0.8758 - val_accuracy: 0.6227\n",
      "Epoch 10/150\n",
      "33/33 [==============================] - 1s 19ms/step - loss: 0.7271 - accuracy: 0.7255 - val_loss: 0.8799 - val_accuracy: 0.6227\n",
      "Epoch 11/150\n",
      "33/33 [==============================] - 1s 18ms/step - loss: 0.7188 - accuracy: 0.7257 - val_loss: 0.8863 - val_accuracy: 0.6227\n",
      "Epoch 12/150\n",
      "33/33 [==============================] - 1s 17ms/step - loss: 0.7121 - accuracy: 0.7266 - val_loss: 0.8902 - val_accuracy: 0.6227\n",
      "Epoch 13/150\n",
      "33/33 [==============================] - 1s 18ms/step - loss: 0.7007 - accuracy: 0.7307 - val_loss: 0.8911 - val_accuracy: 0.6227\n",
      "Epoch 14/150\n",
      "33/33 [==============================] - 1s 17ms/step - loss: 0.6952 - accuracy: 0.7303 - val_loss: 0.8879 - val_accuracy: 0.6227\n",
      "Epoch 15/150\n",
      "33/33 [==============================] - 1s 18ms/step - loss: 0.6842 - accuracy: 0.7347 - val_loss: 0.9181 - val_accuracy: 0.6227\n",
      "Epoch 16/150\n",
      "33/33 [==============================] - 1s 17ms/step - loss: 0.6819 - accuracy: 0.7370 - val_loss: 0.9070 - val_accuracy: 0.7326\n",
      "Epoch 17/150\n",
      "33/33 [==============================] - 1s 18ms/step - loss: 0.6740 - accuracy: 0.7402 - val_loss: 0.8899 - val_accuracy: 0.7292\n",
      "Epoch 18/150\n",
      "33/33 [==============================] - 1s 18ms/step - loss: 0.6626 - accuracy: 0.7369 - val_loss: 0.9269 - val_accuracy: 0.7348\n",
      "Epoch 19/150\n",
      "33/33 [==============================] - 1s 17ms/step - loss: 0.6613 - accuracy: 0.7382 - val_loss: 0.9347 - val_accuracy: 0.7328\n",
      "Epoch 20/150\n",
      "33/33 [==============================] - 1s 18ms/step - loss: 0.6529 - accuracy: 0.7397 - val_loss: 0.9378 - val_accuracy: 0.7338\n",
      "Epoch 21/150\n",
      "33/33 [==============================] - 1s 17ms/step - loss: 0.6601 - accuracy: 0.7396 - val_loss: 0.9707 - val_accuracy: 0.7362\n",
      "Epoch 22/150\n",
      "33/33 [==============================] - 1s 17ms/step - loss: 0.6565 - accuracy: 0.7368 - val_loss: 0.9496 - val_accuracy: 0.7333\n",
      "Epoch 23/150\n",
      "33/33 [==============================] - 1s 17ms/step - loss: 0.6468 - accuracy: 0.7464 - val_loss: 0.9502 - val_accuracy: 0.7338\n",
      "Epoch 24/150\n",
      "33/33 [==============================] - 1s 17ms/step - loss: 0.6475 - accuracy: 0.7522 - val_loss: 0.9613 - val_accuracy: 0.7321\n",
      "Epoch 25/150\n",
      "33/33 [==============================] - 1s 17ms/step - loss: 0.6422 - accuracy: 0.7545 - val_loss: 0.9649 - val_accuracy: 0.7345\n",
      "Epoch 26/150\n",
      "33/33 [==============================] - 1s 17ms/step - loss: 0.6358 - accuracy: 0.7587 - val_loss: 0.9728 - val_accuracy: 0.7377\n",
      "Epoch 27/150\n",
      "33/33 [==============================] - 1s 17ms/step - loss: 0.6405 - accuracy: 0.7642 - val_loss: 0.9906 - val_accuracy: 0.7381\n",
      "Epoch 28/150\n",
      "33/33 [==============================] - 1s 17ms/step - loss: 0.6362 - accuracy: 0.7666 - val_loss: 1.0558 - val_accuracy: 0.7394\n",
      "Epoch 29/150\n",
      "33/33 [==============================] - 1s 17ms/step - loss: 0.6282 - accuracy: 0.7727 - val_loss: 1.0426 - val_accuracy: 0.7396\n",
      "Epoch 30/150\n",
      "33/33 [==============================] - 1s 18ms/step - loss: 0.6372 - accuracy: 0.7789 - val_loss: 1.0096 - val_accuracy: 0.7364\n",
      "Epoch 31/150\n",
      "33/33 [==============================] - 1s 17ms/step - loss: 0.6303 - accuracy: 0.7807 - val_loss: 1.0226 - val_accuracy: 0.7355\n",
      "Epoch 32/150\n",
      "33/33 [==============================] - 1s 17ms/step - loss: 0.6296 - accuracy: 0.7837 - val_loss: 1.0162 - val_accuracy: 0.7323\n",
      "Epoch 33/150\n",
      "33/33 [==============================] - 1s 18ms/step - loss: 0.6266 - accuracy: 0.7825 - val_loss: 1.0816 - val_accuracy: 0.7372\n",
      "Epoch 34/150\n",
      "33/33 [==============================] - 1s 17ms/step - loss: 0.6254 - accuracy: 0.7850 - val_loss: 1.0511 - val_accuracy: 0.7360\n",
      "Epoch 35/150\n",
      "33/33 [==============================] - 1s 17ms/step - loss: 0.6231 - accuracy: 0.7848 - val_loss: 1.0364 - val_accuracy: 0.7348\n",
      "Epoch 36/150\n",
      "33/33 [==============================] - 1s 16ms/step - loss: 0.6147 - accuracy: 0.7864 - val_loss: 1.0872 - val_accuracy: 0.7364\n",
      "Epoch 37/150\n",
      "33/33 [==============================] - 1s 17ms/step - loss: 0.6165 - accuracy: 0.7860 - val_loss: 1.1190 - val_accuracy: 0.7369\n",
      "Epoch 38/150\n",
      "33/33 [==============================] - 1s 18ms/step - loss: 0.6193 - accuracy: 0.7863 - val_loss: 1.0923 - val_accuracy: 0.7348\n",
      "Epoch 39/150\n",
      "33/33 [==============================] - 1s 17ms/step - loss: 0.6176 - accuracy: 0.7870 - val_loss: 1.1002 - val_accuracy: 0.7294\n",
      "Epoch 40/150\n",
      "33/33 [==============================] - 1s 16ms/step - loss: 0.6147 - accuracy: 0.7868 - val_loss: 1.1158 - val_accuracy: 0.7331\n",
      "Epoch 41/150\n",
      "33/33 [==============================] - 1s 17ms/step - loss: 0.6118 - accuracy: 0.7864 - val_loss: 1.1109 - val_accuracy: 0.7338\n",
      "Epoch 42/150\n",
      "33/33 [==============================] - 1s 17ms/step - loss: 0.6213 - accuracy: 0.7859 - val_loss: 1.0856 - val_accuracy: 0.7331\n",
      "Epoch 43/150\n",
      "33/33 [==============================] - 1s 17ms/step - loss: 0.6147 - accuracy: 0.7870 - val_loss: 1.1243 - val_accuracy: 0.7364\n",
      "Epoch 44/150\n",
      "33/33 [==============================] - 1s 17ms/step - loss: 0.6118 - accuracy: 0.7873 - val_loss: 1.1833 - val_accuracy: 0.7379\n",
      "Epoch 45/150\n",
      "33/33 [==============================] - 1s 16ms/step - loss: 0.6113 - accuracy: 0.7874 - val_loss: 1.1444 - val_accuracy: 0.7343\n",
      "Epoch 46/150\n",
      "33/33 [==============================] - 1s 17ms/step - loss: 0.6186 - accuracy: 0.7876 - val_loss: 1.1517 - val_accuracy: 0.7362\n",
      "Epoch 47/150\n",
      "33/33 [==============================] - 1s 16ms/step - loss: 0.6107 - accuracy: 0.7880 - val_loss: 1.1599 - val_accuracy: 0.7360\n",
      "Epoch 48/150\n",
      "33/33 [==============================] - 1s 17ms/step - loss: 0.6055 - accuracy: 0.7879 - val_loss: 1.0938 - val_accuracy: 0.7348\n",
      "Epoch 49/150\n",
      "33/33 [==============================] - 1s 17ms/step - loss: 0.6087 - accuracy: 0.7886 - val_loss: 1.1196 - val_accuracy: 0.7364\n",
      "Epoch 50/150\n",
      "33/33 [==============================] - 1s 17ms/step - loss: 0.6099 - accuracy: 0.7880 - val_loss: 1.1965 - val_accuracy: 0.7360\n",
      "Epoch 51/150\n",
      "33/33 [==============================] - 1s 17ms/step - loss: 0.6027 - accuracy: 0.7888 - val_loss: 1.1732 - val_accuracy: 0.7340\n",
      "Epoch 52/150\n",
      "33/33 [==============================] - 1s 16ms/step - loss: 0.6032 - accuracy: 0.7884 - val_loss: 1.1521 - val_accuracy: 0.7357\n",
      "Epoch 53/150\n",
      "33/33 [==============================] - 1s 17ms/step - loss: 0.6076 - accuracy: 0.7896 - val_loss: 1.1727 - val_accuracy: 0.7321\n",
      "Epoch 54/150\n",
      "33/33 [==============================] - 1s 17ms/step - loss: 0.6045 - accuracy: 0.7888 - val_loss: 1.2672 - val_accuracy: 0.7340\n",
      "Epoch 55/150\n",
      "33/33 [==============================] - 1s 17ms/step - loss: 0.5973 - accuracy: 0.7888 - val_loss: 1.2554 - val_accuracy: 0.7328\n",
      "Epoch 56/150\n",
      "33/33 [==============================] - 1s 16ms/step - loss: 0.6088 - accuracy: 0.7896 - val_loss: 1.1992 - val_accuracy: 0.7328\n",
      "Epoch 57/150\n",
      "33/33 [==============================] - 1s 17ms/step - loss: 0.6015 - accuracy: 0.7885 - val_loss: 1.1695 - val_accuracy: 0.7326\n",
      "Epoch 58/150\n"
     ]
    },
    {
     "name": "stdout",
     "output_type": "stream",
     "text": [
      "33/33 [==============================] - 1s 17ms/step - loss: 0.6056 - accuracy: 0.7898 - val_loss: 1.2306 - val_accuracy: 0.7345\n",
      "Epoch 59/150\n",
      "33/33 [==============================] - 1s 17ms/step - loss: 0.6051 - accuracy: 0.7888 - val_loss: 1.1877 - val_accuracy: 0.7318\n",
      "Epoch 60/150\n",
      "33/33 [==============================] - 1s 17ms/step - loss: 0.5981 - accuracy: 0.7897 - val_loss: 1.2277 - val_accuracy: 0.7340\n",
      "Epoch 61/150\n",
      "33/33 [==============================] - 1s 18ms/step - loss: 0.6031 - accuracy: 0.7899 - val_loss: 1.3445 - val_accuracy: 0.7398\n",
      "Epoch 62/150\n",
      "33/33 [==============================] - 1s 17ms/step - loss: 0.6026 - accuracy: 0.7905 - val_loss: 1.1773 - val_accuracy: 0.7355\n",
      "Epoch 63/150\n",
      "33/33 [==============================] - 1s 17ms/step - loss: 0.6085 - accuracy: 0.7897 - val_loss: 1.2329 - val_accuracy: 0.7348\n",
      "Epoch 64/150\n",
      "33/33 [==============================] - 1s 17ms/step - loss: 0.6015 - accuracy: 0.7903 - val_loss: 1.1871 - val_accuracy: 0.7314\n",
      "Epoch 65/150\n",
      "33/33 [==============================] - 1s 17ms/step - loss: 0.5990 - accuracy: 0.7906 - val_loss: 1.2579 - val_accuracy: 0.7333\n",
      "Epoch 66/150\n",
      "33/33 [==============================] - 1s 17ms/step - loss: 0.5950 - accuracy: 0.7907 - val_loss: 1.2866 - val_accuracy: 0.7355\n",
      "Epoch 67/150\n",
      "33/33 [==============================] - 1s 17ms/step - loss: 0.6002 - accuracy: 0.7904 - val_loss: 1.3006 - val_accuracy: 0.7345\n",
      "Epoch 68/150\n",
      "33/33 [==============================] - 1s 17ms/step - loss: 0.5926 - accuracy: 0.7903 - val_loss: 1.2836 - val_accuracy: 0.7333\n",
      "Epoch 69/150\n",
      "33/33 [==============================] - 1s 17ms/step - loss: 0.5919 - accuracy: 0.7908 - val_loss: 1.2948 - val_accuracy: 0.7335\n",
      "Epoch 70/150\n",
      "33/33 [==============================] - 1s 17ms/step - loss: 0.5959 - accuracy: 0.7896 - val_loss: 1.3910 - val_accuracy: 0.7338\n",
      "Epoch 71/150\n",
      "33/33 [==============================] - 1s 17ms/step - loss: 0.5933 - accuracy: 0.7906 - val_loss: 1.3279 - val_accuracy: 0.7335\n",
      "Epoch 72/150\n",
      "33/33 [==============================] - 1s 17ms/step - loss: 0.5873 - accuracy: 0.7917 - val_loss: 1.3349 - val_accuracy: 0.7348\n",
      "Epoch 73/150\n",
      "33/33 [==============================] - 1s 17ms/step - loss: 0.5897 - accuracy: 0.7907 - val_loss: 1.2966 - val_accuracy: 0.7343\n",
      "Epoch 74/150\n",
      "33/33 [==============================] - 1s 18ms/step - loss: 0.5970 - accuracy: 0.7911 - val_loss: 1.3991 - val_accuracy: 0.7364\n",
      "Epoch 75/150\n",
      "33/33 [==============================] - 1s 18ms/step - loss: 0.5891 - accuracy: 0.7914 - val_loss: 1.3662 - val_accuracy: 0.7348\n",
      "Epoch 76/150\n",
      "33/33 [==============================] - 1s 17ms/step - loss: 0.5948 - accuracy: 0.7910 - val_loss: 1.4029 - val_accuracy: 0.7355\n",
      "Epoch 77/150\n",
      "33/33 [==============================] - 1s 17ms/step - loss: 0.5959 - accuracy: 0.7906 - val_loss: 1.3400 - val_accuracy: 0.7323\n",
      "Epoch 78/150\n",
      "33/33 [==============================] - 1s 18ms/step - loss: 0.5886 - accuracy: 0.7912 - val_loss: 1.3250 - val_accuracy: 0.7304\n",
      "Epoch 79/150\n",
      "33/33 [==============================] - 1s 17ms/step - loss: 0.5943 - accuracy: 0.7919 - val_loss: 1.4092 - val_accuracy: 0.7340\n",
      "Epoch 80/150\n",
      "33/33 [==============================] - 1s 17ms/step - loss: 0.5932 - accuracy: 0.7920 - val_loss: 1.4420 - val_accuracy: 0.7350\n",
      "Epoch 81/150\n",
      "33/33 [==============================] - 1s 17ms/step - loss: 0.5957 - accuracy: 0.7914 - val_loss: 1.4208 - val_accuracy: 0.7328\n",
      "Epoch 82/150\n",
      "33/33 [==============================] - 1s 17ms/step - loss: 0.5904 - accuracy: 0.7913 - val_loss: 1.4267 - val_accuracy: 0.7333\n",
      "Epoch 83/150\n",
      "33/33 [==============================] - 1s 17ms/step - loss: 0.5889 - accuracy: 0.7911 - val_loss: 1.3829 - val_accuracy: 0.7314\n",
      "Epoch 84/150\n",
      "33/33 [==============================] - 1s 17ms/step - loss: 0.5881 - accuracy: 0.7911 - val_loss: 1.3929 - val_accuracy: 0.7316\n",
      "Epoch 85/150\n",
      "33/33 [==============================] - 1s 17ms/step - loss: 0.5878 - accuracy: 0.7915 - val_loss: 1.4812 - val_accuracy: 0.7369\n",
      "Epoch 86/150\n",
      "33/33 [==============================] - 1s 17ms/step - loss: 0.5925 - accuracy: 0.7916 - val_loss: 1.4590 - val_accuracy: 0.7355\n",
      "Epoch 87/150\n",
      "33/33 [==============================] - 1s 17ms/step - loss: 0.5797 - accuracy: 0.7919 - val_loss: 1.5505 - val_accuracy: 0.7369\n",
      "Epoch 88/150\n",
      "33/33 [==============================] - 1s 16ms/step - loss: 0.5851 - accuracy: 0.7925 - val_loss: 1.4470 - val_accuracy: 0.7367\n",
      "Epoch 89/150\n",
      "33/33 [==============================] - 1s 17ms/step - loss: 0.5893 - accuracy: 0.7925 - val_loss: 1.4419 - val_accuracy: 0.7350\n",
      "Epoch 90/150\n",
      "33/33 [==============================] - 1s 17ms/step - loss: 0.5937 - accuracy: 0.7916 - val_loss: 1.4571 - val_accuracy: 0.7357\n",
      "Epoch 91/150\n",
      "33/33 [==============================] - 1s 17ms/step - loss: 0.5900 - accuracy: 0.7920 - val_loss: 1.4170 - val_accuracy: 0.7355\n",
      "Epoch 92/150\n",
      "33/33 [==============================] - 1s 17ms/step - loss: 0.5874 - accuracy: 0.7913 - val_loss: 1.4638 - val_accuracy: 0.7372\n",
      "Epoch 93/150\n",
      "33/33 [==============================] - 1s 17ms/step - loss: 0.5825 - accuracy: 0.7925 - val_loss: 1.4326 - val_accuracy: 0.7372\n",
      "Epoch 94/150\n",
      "33/33 [==============================] - 1s 17ms/step - loss: 0.5858 - accuracy: 0.7924 - val_loss: 1.5649 - val_accuracy: 0.7355\n",
      "Epoch 95/150\n",
      "33/33 [==============================] - 1s 18ms/step - loss: 0.5923 - accuracy: 0.7932 - val_loss: 1.5245 - val_accuracy: 0.7333\n",
      "Epoch 96/150\n",
      "33/33 [==============================] - 1s 17ms/step - loss: 0.5882 - accuracy: 0.7923 - val_loss: 1.4565 - val_accuracy: 0.7335\n",
      "Epoch 97/150\n",
      "33/33 [==============================] - 1s 17ms/step - loss: 0.5937 - accuracy: 0.7925 - val_loss: 1.4699 - val_accuracy: 0.7345\n",
      "Epoch 98/150\n",
      "33/33 [==============================] - 1s 17ms/step - loss: 0.5885 - accuracy: 0.7928 - val_loss: 1.4991 - val_accuracy: 0.7372\n",
      "Epoch 99/150\n",
      "33/33 [==============================] - 1s 17ms/step - loss: 0.5836 - accuracy: 0.7925 - val_loss: 1.4466 - val_accuracy: 0.7377\n",
      "Epoch 100/150\n",
      "33/33 [==============================] - 1s 17ms/step - loss: 0.5901 - accuracy: 0.7926 - val_loss: 1.4684 - val_accuracy: 0.7379\n",
      "Epoch 101/150\n",
      "33/33 [==============================] - 1s 17ms/step - loss: 0.5916 - accuracy: 0.7923 - val_loss: 1.4224 - val_accuracy: 0.7377\n",
      "Epoch 102/150\n",
      "33/33 [==============================] - 1s 17ms/step - loss: 0.5859 - accuracy: 0.7921 - val_loss: 1.3324 - val_accuracy: 0.7348\n",
      "Epoch 103/150\n",
      "33/33 [==============================] - 1s 18ms/step - loss: 0.5877 - accuracy: 0.7919 - val_loss: 1.4094 - val_accuracy: 0.7379\n",
      "Epoch 104/150\n",
      "33/33 [==============================] - 1s 17ms/step - loss: 0.5768 - accuracy: 0.7936 - val_loss: 1.4946 - val_accuracy: 0.7391\n",
      "Epoch 105/150\n",
      "33/33 [==============================] - 1s 17ms/step - loss: 0.5888 - accuracy: 0.7929 - val_loss: 1.4985 - val_accuracy: 0.7369\n",
      "Epoch 106/150\n",
      "33/33 [==============================] - 1s 17ms/step - loss: 0.5849 - accuracy: 0.7928 - val_loss: 1.3617 - val_accuracy: 0.7338\n",
      "Epoch 107/150\n",
      "33/33 [==============================] - 1s 17ms/step - loss: 0.5886 - accuracy: 0.7931 - val_loss: 1.4161 - val_accuracy: 0.7314\n",
      "Epoch 108/150\n",
      "33/33 [==============================] - 1s 17ms/step - loss: 0.5848 - accuracy: 0.7931 - val_loss: 1.5194 - val_accuracy: 0.7379\n",
      "Epoch 109/150\n",
      "33/33 [==============================] - 1s 17ms/step - loss: 0.5789 - accuracy: 0.7940 - val_loss: 1.5418 - val_accuracy: 0.7394\n",
      "Epoch 110/150\n",
      "33/33 [==============================] - 1s 17ms/step - loss: 0.5812 - accuracy: 0.7930 - val_loss: 1.5738 - val_accuracy: 0.7372\n",
      "Epoch 111/150\n",
      "33/33 [==============================] - 1s 17ms/step - loss: 0.5810 - accuracy: 0.7935 - val_loss: 1.6408 - val_accuracy: 0.7362\n",
      "Epoch 112/150\n",
      "33/33 [==============================] - 1s 17ms/step - loss: 0.5893 - accuracy: 0.7928 - val_loss: 1.3925 - val_accuracy: 0.7323\n",
      "Epoch 113/150\n",
      "33/33 [==============================] - 1s 17ms/step - loss: 0.5874 - accuracy: 0.7930 - val_loss: 1.5403 - val_accuracy: 0.7377\n",
      "Epoch 114/150\n",
      "33/33 [==============================] - 1s 17ms/step - loss: 0.5805 - accuracy: 0.7945 - val_loss: 1.4290 - val_accuracy: 0.7374\n",
      "Epoch 115/150\n"
     ]
    },
    {
     "name": "stdout",
     "output_type": "stream",
     "text": [
      "33/33 [==============================] - 1s 17ms/step - loss: 0.5753 - accuracy: 0.7939 - val_loss: 1.4929 - val_accuracy: 0.7355\n",
      "Epoch 116/150\n",
      "33/33 [==============================] - 1s 18ms/step - loss: 0.5797 - accuracy: 0.7940 - val_loss: 1.4999 - val_accuracy: 0.7379\n",
      "Epoch 117/150\n",
      "33/33 [==============================] - 1s 17ms/step - loss: 0.5823 - accuracy: 0.7929 - val_loss: 1.4769 - val_accuracy: 0.7379\n",
      "Epoch 118/150\n",
      "33/33 [==============================] - 1s 17ms/step - loss: 0.5803 - accuracy: 0.7932 - val_loss: 1.4650 - val_accuracy: 0.7389\n",
      "Epoch 119/150\n",
      "33/33 [==============================] - 1s 17ms/step - loss: 0.5759 - accuracy: 0.7945 - val_loss: 1.6221 - val_accuracy: 0.7389\n",
      "Epoch 120/150\n",
      "33/33 [==============================] - 1s 18ms/step - loss: 0.5819 - accuracy: 0.7936 - val_loss: 1.5017 - val_accuracy: 0.7343\n",
      "Epoch 121/150\n",
      "33/33 [==============================] - 1s 17ms/step - loss: 0.5809 - accuracy: 0.7931 - val_loss: 1.6388 - val_accuracy: 0.7357\n",
      "Epoch 122/150\n",
      "33/33 [==============================] - 1s 18ms/step - loss: 0.5809 - accuracy: 0.7939 - val_loss: 1.6913 - val_accuracy: 0.7391\n",
      "Epoch 123/150\n",
      "33/33 [==============================] - 1s 17ms/step - loss: 0.5856 - accuracy: 0.7931 - val_loss: 1.7159 - val_accuracy: 0.7379\n",
      "Epoch 124/150\n",
      "33/33 [==============================] - 1s 17ms/step - loss: 0.5740 - accuracy: 0.7937 - val_loss: 1.5412 - val_accuracy: 0.7384\n",
      "Epoch 125/150\n",
      "33/33 [==============================] - 1s 18ms/step - loss: 0.5767 - accuracy: 0.7934 - val_loss: 1.4400 - val_accuracy: 0.7384\n",
      "Epoch 126/150\n",
      "33/33 [==============================] - 1s 17ms/step - loss: 0.5807 - accuracy: 0.7940 - val_loss: 1.5314 - val_accuracy: 0.7379\n",
      "Epoch 127/150\n",
      "33/33 [==============================] - 1s 18ms/step - loss: 0.5765 - accuracy: 0.7940 - val_loss: 1.6670 - val_accuracy: 0.7352\n",
      "Epoch 128/150\n",
      "33/33 [==============================] - 1s 17ms/step - loss: 0.5787 - accuracy: 0.7939 - val_loss: 1.6134 - val_accuracy: 0.7355\n",
      "Epoch 129/150\n",
      "33/33 [==============================] - 1s 17ms/step - loss: 0.5833 - accuracy: 0.7938 - val_loss: 1.5941 - val_accuracy: 0.7391\n",
      "Epoch 130/150\n",
      "33/33 [==============================] - 1s 17ms/step - loss: 0.5854 - accuracy: 0.7942 - val_loss: 1.6004 - val_accuracy: 0.7391\n",
      "Epoch 131/150\n",
      "33/33 [==============================] - 1s 17ms/step - loss: 0.5822 - accuracy: 0.7941 - val_loss: 1.4553 - val_accuracy: 0.7389\n",
      "Epoch 132/150\n",
      "33/33 [==============================] - 1s 17ms/step - loss: 0.5832 - accuracy: 0.7939 - val_loss: 1.6818 - val_accuracy: 0.7379\n",
      "Epoch 133/150\n",
      "33/33 [==============================] - 1s 17ms/step - loss: 0.5815 - accuracy: 0.7935 - val_loss: 1.5751 - val_accuracy: 0.7345\n",
      "Epoch 134/150\n",
      "33/33 [==============================] - 1s 17ms/step - loss: 0.5815 - accuracy: 0.7952 - val_loss: 1.5729 - val_accuracy: 0.7369\n",
      "Epoch 135/150\n",
      "33/33 [==============================] - 1s 18ms/step - loss: 0.5831 - accuracy: 0.7948 - val_loss: 1.4507 - val_accuracy: 0.7377\n",
      "Epoch 136/150\n",
      "33/33 [==============================] - 1s 17ms/step - loss: 0.5853 - accuracy: 0.7935 - val_loss: 1.6519 - val_accuracy: 0.7396\n",
      "Epoch 137/150\n",
      "33/33 [==============================] - 1s 17ms/step - loss: 0.5710 - accuracy: 0.7945 - val_loss: 1.6543 - val_accuracy: 0.7396\n",
      "Epoch 138/150\n",
      "33/33 [==============================] - 1s 17ms/step - loss: 0.5775 - accuracy: 0.7940 - val_loss: 1.5493 - val_accuracy: 0.7372\n",
      "Epoch 139/150\n",
      "33/33 [==============================] - 1s 17ms/step - loss: 0.5780 - accuracy: 0.7940 - val_loss: 1.6159 - val_accuracy: 0.7389\n",
      "Epoch 140/150\n",
      "33/33 [==============================] - 1s 17ms/step - loss: 0.5747 - accuracy: 0.7952 - val_loss: 1.6295 - val_accuracy: 0.7398\n",
      "Epoch 141/150\n",
      "33/33 [==============================] - 1s 17ms/step - loss: 0.5755 - accuracy: 0.7948 - val_loss: 1.5878 - val_accuracy: 0.7391\n",
      "Epoch 142/150\n",
      "33/33 [==============================] - 1s 17ms/step - loss: 0.5737 - accuracy: 0.7948 - val_loss: 1.6961 - val_accuracy: 0.7415\n",
      "Epoch 143/150\n",
      "33/33 [==============================] - 1s 17ms/step - loss: 0.5747 - accuracy: 0.7952 - val_loss: 1.6503 - val_accuracy: 0.7384\n",
      "Epoch 144/150\n",
      "33/33 [==============================] - 1s 17ms/step - loss: 0.5765 - accuracy: 0.7953 - val_loss: 1.5564 - val_accuracy: 0.7415\n",
      "Epoch 145/150\n",
      "33/33 [==============================] - 1s 16ms/step - loss: 0.5726 - accuracy: 0.7955 - val_loss: 1.7379 - val_accuracy: 0.7391\n",
      "Epoch 146/150\n",
      "33/33 [==============================] - 1s 16ms/step - loss: 0.5737 - accuracy: 0.7952 - val_loss: 1.6122 - val_accuracy: 0.7391\n",
      "Epoch 147/150\n",
      "33/33 [==============================] - 1s 18ms/step - loss: 0.5814 - accuracy: 0.7952 - val_loss: 1.6314 - val_accuracy: 0.7394\n",
      "Epoch 148/150\n",
      "33/33 [==============================] - 1s 17ms/step - loss: 0.5738 - accuracy: 0.7955 - val_loss: 1.5882 - val_accuracy: 0.7413\n",
      "Epoch 149/150\n",
      "33/33 [==============================] - 1s 17ms/step - loss: 0.5813 - accuracy: 0.7946 - val_loss: 1.5776 - val_accuracy: 0.7406\n",
      "Epoch 150/150\n",
      "33/33 [==============================] - 1s 17ms/step - loss: 0.5773 - accuracy: 0.7958 - val_loss: 1.7180 - val_accuracy: 0.7403\n"
     ]
    }
   ],
   "source": [
    "history = model.fit(x_train, y_train,\n",
    "                    batch_size=batch_size,\n",
    "                    epochs=epochs,\n",
    "                    verbose=1,\n",
    "                    validation_split=0.2,\n",
    "                    )"
   ]
  },
  {
   "cell_type": "code",
   "execution_count": 35,
   "metadata": {},
   "outputs": [
    {
     "data": {
      "image/png": "[encoded data removed]",
      "text/plain": [
       "<Figure size 432x288 with 1 Axes>"
      ]
     },
     "metadata": {
      "needs_background": "light"
     },
     "output_type": "display_data"
    },
    {
     "data": {
      "image/png": "[encoded data removed]",
      "text/plain": [
       "<Figure size 432x288 with 1 Axes>"
      ]
     },
     "metadata": {
      "needs_background": "light"
     },
     "output_type": "display_data"
    }
   ],
   "source": [
    "plt.figure()\n",
    "plt.plot(history.history['loss'], label='train loss')\n",
    "plt.plot(history.history['val_loss'], label='validation loss')\n",
    "plt.xlabel('Эпоха обучения')\n",
    "plt.ylabel('Значение функции потерь')\n",
    "plt.legend()\n",
    "\n",
    "plt.figure()\n",
    "plt.plot(history.history[acc_name], label='train accuracy')\n",
    "plt.plot(history.history[val_acc_name], label='validation accuracy')\n",
    "plt.xlabel('Эпоха обучения')\n",
    "plt.ylabel('Доля верных ответов')\n",
    "plt.legend()\n",
    "\n",
    "plt.show()"
   ]
  },
  {
   "cell_type": "markdown",
   "metadata": {},
   "source": [
    "### Попробуем натренировать Word2Vec и использовать полученные веса в качестве инициализации Embedding векторов"
   ]
  },
  {
   "cell_type": "code",
   "execution_count": 36,
   "metadata": {},
   "outputs": [
    {
     "data": {
      "text/plain": [
       "[['it just works'],\n",
       " ['целое удобноной приложение минус хотеть большой доступ персональный данные телефон приходиться пользоваться ограниченный режим'],\n",
       " ['отлично'],\n",
       " ['зависать 1 работа антивирус ранее пользоваться нормальный'],\n",
       " ['удобно работать быстро'],\n",
       " ['удобно норма'],\n",
       " ['удобный приложение'],\n",
       " ['устраивать'],\n",
       " ['работать чётко отличие банкомат вечно зависать тупить'],\n",
       " ['']]"
      ]
     },
     "execution_count": 36,
     "metadata": {},
     "output_type": "execute_result"
    }
   ],
   "source": [
    "sentences_list_of_lists = [[sentence] for sentence in otzivy_za_leto.text.tolist()]\n",
    "sentences_list_of_lists[:10]"
   ]
  },
  {
   "cell_type": "code",
   "execution_count": 37,
   "metadata": {},
   "outputs": [],
   "source": [
    "modelW2V = Word2Vec(sentences=sentences_list_of_lists, size=embed_vec_len, window=10, min_count=2, workers=multiprocessing.cpu_count())"
   ]
  },
  {
   "cell_type": "code",
   "execution_count": 38,
   "metadata": {},
   "outputs": [
    {
     "data": {
      "text/plain": [
       "array([[1.28180397e-01, 2.14206863e-02, 3.78046068e-01, ...,\n",
       "        6.09205784e-01, 7.76208587e-01, 1.92400031e-01],\n",
       "       [4.72763195e-01, 7.89878739e-01, 2.04506325e-01, ...,\n",
       "        5.32424943e-01, 2.94428782e-01, 8.32505819e-01],\n",
       "       [6.77017267e-01, 3.36482268e-01, 8.23057880e-01, ...,\n",
       "        6.94950972e-01, 8.17474482e-01, 3.64382825e-01],\n",
       "       ...,\n",
       "       [1.75575103e-01, 3.98010550e-01, 5.22724741e-01, ...,\n",
       "        1.81129892e-01, 5.99292916e-02, 2.72317446e-01],\n",
       "       [1.54496629e-04, 1.80070631e-01, 1.33471532e-01, ...,\n",
       "        5.43158742e-01, 5.34319786e-02, 4.95512384e-01],\n",
       "       [9.06591235e-01, 9.12535959e-01, 2.06641158e-01, ...,\n",
       "        4.30576519e-01, 3.46851346e-01, 9.65238506e-01]])"
      ]
     },
     "execution_count": 38,
     "metadata": {},
     "output_type": "execute_result"
    }
   ],
   "source": [
    "buffer = np.random.random((max_words,embed_vec_len))\n",
    "buffer"
   ]
  },
  {
   "cell_type": "code",
   "execution_count": 39,
   "metadata": {},
   "outputs": [],
   "source": [
    "for word in vocabulary:\n",
    "    if word in modelW2V.wv:\n",
    "#         print(word, modelW2V.wv[word])\n",
    "        buffer[vocabulary[word]] = modelW2V.wv[word]"
   ]
  },
  {
   "cell_type": "markdown",
   "metadata": {},
   "source": [
    "### Зафиксированные Embedding-и после инициализации"
   ]
  },
  {
   "cell_type": "code",
   "execution_count": 40,
   "metadata": {},
   "outputs": [],
   "source": [
    "keras.backend.clear_session()\n",
    "\n",
    "X_input = tf.keras.layers.Input(shape=(max_len,), name=\"X\")\n",
    "Embed_ = tf.keras.layers.Embedding(input_dim=max_words, output_dim=embed_vec_len, name=\"Embed_\", weights=[buffer], trainable=False)(X_input)\n",
    "Conv1_ = tf.keras.layers.Conv1D(filters=embed_vec_len, kernel_size=5, activation=\"relu\", name=\"Conv1_\")(Embed_)\n",
    "GlobMaxPool1_ = tf.keras.layers.GlobalMaxPool1D(name=\"GlobMaxPool1\")(Conv1_)\n",
    "Drop1_ = tf.keras.layers.Dropout(0.6)(GlobMaxPool1_)\n",
    "Dense1_ = tf.keras.layers.Dense(32, activation=\"relu\", name=\"Dense1_\")(Drop1_)\n",
    "Drop2_ = tf.keras.layers.Dropout(0.6)(Dense1_)\n",
    "Dense2_ = tf.keras.layers.Dense(32, activation=\"relu\", name=\"Dense2_\")(Drop2_)\n",
    "Drop3_ = tf.keras.layers.Dropout(0.6)(Dense2_)\n",
    "Dense3_ = tf.keras.layers.Dense(32, activation=\"relu\", name=\"Dense3_\")(Drop3_)\n",
    "Drop4_ = tf.keras.layers.Dropout(0.6)(Dense3_)\n",
    "Dense4_ = tf.keras.layers.Dense(32, activation=\"relu\", name=\"Dense4_\")(Drop4_)\n",
    "Drop5_ = tf.keras.layers.Dropout(0.75)(Dense4_)\n",
    "y_output = tf.keras.layers.Dense(num_classes, activation=\"softmax\", name=\"y\")(Drop5_)\n",
    "\n",
    "model = tf.keras.models.Model(inputs=[X_input], outputs=[y_output], name=\"my_model\")\n",
    "model.compile(loss='categorical_crossentropy',\n",
    "              optimizer='adam',\n",
    "              metrics=['accuracy'])"
   ]
  },
  {
   "cell_type": "code",
   "execution_count": 41,
   "metadata": {},
   "outputs": [
    {
     "name": "stdout",
     "output_type": "stream",
     "text": [
      "Epoch 1/150\n",
      "33/33 [==============================] - 0s 7ms/step - loss: 1.6269 - accuracy: 0.4470 - val_loss: 1.4580 - val_accuracy: 0.6227\n",
      "Epoch 2/150\n",
      "33/33 [==============================] - 0s 4ms/step - loss: 1.2951 - accuracy: 0.6364 - val_loss: 1.2632 - val_accuracy: 0.6227\n",
      "Epoch 3/150\n",
      "33/33 [==============================] - 0s 4ms/step - loss: 1.1582 - accuracy: 0.6996 - val_loss: 1.1679 - val_accuracy: 0.6227\n",
      "Epoch 4/150\n",
      "33/33 [==============================] - 0s 4ms/step - loss: 1.0790 - accuracy: 0.7178 - val_loss: 1.1252 - val_accuracy: 0.6227\n",
      "Epoch 5/150\n",
      "33/33 [==============================] - 0s 4ms/step - loss: 1.0381 - accuracy: 0.7222 - val_loss: 1.1092 - val_accuracy: 0.6227\n",
      "Epoch 6/150\n",
      "33/33 [==============================] - 0s 4ms/step - loss: 1.0106 - accuracy: 0.7244 - val_loss: 1.1124 - val_accuracy: 0.6227\n",
      "Epoch 7/150\n",
      "33/33 [==============================] - 0s 4ms/step - loss: 0.9994 - accuracy: 0.7254 - val_loss: 1.1061 - val_accuracy: 0.6227\n",
      "Epoch 8/150\n",
      "33/33 [==============================] - 0s 4ms/step - loss: 0.9899 - accuracy: 0.7263 - val_loss: 1.0958 - val_accuracy: 0.6227\n",
      "Epoch 9/150\n",
      "33/33 [==============================] - 0s 4ms/step - loss: 0.9833 - accuracy: 0.7264 - val_loss: 1.0772 - val_accuracy: 0.6227\n",
      "Epoch 10/150\n",
      "33/33 [==============================] - 0s 4ms/step - loss: 0.9773 - accuracy: 0.7263 - val_loss: 1.0954 - val_accuracy: 0.6227\n",
      "Epoch 11/150\n",
      "33/33 [==============================] - 0s 4ms/step - loss: 0.9658 - accuracy: 0.7264 - val_loss: 1.0770 - val_accuracy: 0.6227\n",
      "Epoch 12/150\n",
      "33/33 [==============================] - 0s 4ms/step - loss: 0.9613 - accuracy: 0.7268 - val_loss: 1.0786 - val_accuracy: 0.6227\n",
      "Epoch 13/150\n",
      "33/33 [==============================] - 0s 4ms/step - loss: 0.9535 - accuracy: 0.7267 - val_loss: 1.0696 - val_accuracy: 0.6227\n",
      "Epoch 14/150\n",
      "33/33 [==============================] - 0s 4ms/step - loss: 0.9415 - accuracy: 0.7267 - val_loss: 1.0661 - val_accuracy: 0.6227\n",
      "Epoch 15/150\n",
      "33/33 [==============================] - 0s 4ms/step - loss: 0.9407 - accuracy: 0.7266 - val_loss: 1.0525 - val_accuracy: 0.6227\n",
      "Epoch 16/150\n",
      "33/33 [==============================] - 0s 4ms/step - loss: 0.9258 - accuracy: 0.7269 - val_loss: 1.0444 - val_accuracy: 0.6227\n",
      "Epoch 17/150\n",
      "33/33 [==============================] - 0s 4ms/step - loss: 0.9227 - accuracy: 0.7268 - val_loss: 1.0377 - val_accuracy: 0.6227\n",
      "Epoch 18/150\n",
      "33/33 [==============================] - 0s 4ms/step - loss: 0.9122 - accuracy: 0.7266 - val_loss: 1.0289 - val_accuracy: 0.6227\n",
      "Epoch 19/150\n",
      "33/33 [==============================] - 0s 4ms/step - loss: 0.9058 - accuracy: 0.7267 - val_loss: 1.0172 - val_accuracy: 0.6227\n",
      "Epoch 20/150\n",
      "33/33 [==============================] - 0s 4ms/step - loss: 0.9046 - accuracy: 0.7268 - val_loss: 1.0178 - val_accuracy: 0.6227\n",
      "Epoch 21/150\n",
      "33/33 [==============================] - 0s 4ms/step - loss: 0.9022 - accuracy: 0.7268 - val_loss: 1.0107 - val_accuracy: 0.6227\n",
      "Epoch 22/150\n",
      "33/33 [==============================] - 0s 4ms/step - loss: 0.8951 - accuracy: 0.7268 - val_loss: 1.0297 - val_accuracy: 0.6227\n",
      "Epoch 23/150\n",
      "33/33 [==============================] - 0s 4ms/step - loss: 0.9007 - accuracy: 0.7268 - val_loss: 1.0060 - val_accuracy: 0.6227\n",
      "Epoch 24/150\n",
      "33/33 [==============================] - 0s 4ms/step - loss: 0.8890 - accuracy: 0.7269 - val_loss: 1.0052 - val_accuracy: 0.6227\n",
      "Epoch 25/150\n",
      "33/33 [==============================] - 0s 4ms/step - loss: 0.8883 - accuracy: 0.7268 - val_loss: 1.0027 - val_accuracy: 0.6227\n",
      "Epoch 26/150\n",
      "33/33 [==============================] - 0s 4ms/step - loss: 0.8855 - accuracy: 0.7269 - val_loss: 0.9901 - val_accuracy: 0.6227\n",
      "Epoch 27/150\n",
      "33/33 [==============================] - 0s 4ms/step - loss: 0.8834 - accuracy: 0.7268 - val_loss: 1.0016 - val_accuracy: 0.6227\n",
      "Epoch 28/150\n",
      "33/33 [==============================] - 0s 4ms/step - loss: 0.8902 - accuracy: 0.7268 - val_loss: 0.9969 - val_accuracy: 0.6227\n",
      "Epoch 29/150\n",
      "33/33 [==============================] - 0s 4ms/step - loss: 0.8749 - accuracy: 0.7268 - val_loss: 1.0031 - val_accuracy: 0.6227\n",
      "Epoch 30/150\n",
      "33/33 [==============================] - 0s 4ms/step - loss: 0.8755 - accuracy: 0.7268 - val_loss: 1.0027 - val_accuracy: 0.6227\n",
      "Epoch 31/150\n",
      "33/33 [==============================] - 0s 4ms/step - loss: 0.8711 - accuracy: 0.7268 - val_loss: 0.9897 - val_accuracy: 0.6227\n",
      "Epoch 32/150\n",
      "33/33 [==============================] - 0s 4ms/step - loss: 0.8744 - accuracy: 0.7268 - val_loss: 0.9919 - val_accuracy: 0.6227\n",
      "Epoch 33/150\n",
      "33/33 [==============================] - 0s 5ms/step - loss: 0.8748 - accuracy: 0.7269 - val_loss: 0.9907 - val_accuracy: 0.6227\n",
      "Epoch 34/150\n",
      "33/33 [==============================] - 0s 4ms/step - loss: 0.8781 - accuracy: 0.7268 - val_loss: 0.9952 - val_accuracy: 0.6227\n",
      "Epoch 35/150\n",
      "33/33 [==============================] - 0s 4ms/step - loss: 0.8700 - accuracy: 0.7269 - val_loss: 0.9978 - val_accuracy: 0.6227\n",
      "Epoch 36/150\n",
      "33/33 [==============================] - 0s 4ms/step - loss: 0.8682 - accuracy: 0.7269 - val_loss: 0.9947 - val_accuracy: 0.6227\n",
      "Epoch 37/150\n",
      "33/33 [==============================] - 0s 4ms/step - loss: 0.8626 - accuracy: 0.7269 - val_loss: 0.9931 - val_accuracy: 0.6227\n",
      "Epoch 38/150\n",
      "33/33 [==============================] - 0s 4ms/step - loss: 0.8596 - accuracy: 0.7269 - val_loss: 0.9916 - val_accuracy: 0.6227\n",
      "Epoch 39/150\n",
      "33/33 [==============================] - 0s 4ms/step - loss: 0.8628 - accuracy: 0.7269 - val_loss: 0.9911 - val_accuracy: 0.6227\n",
      "Epoch 40/150\n",
      "33/33 [==============================] - 0s 4ms/step - loss: 0.8672 - accuracy: 0.7269 - val_loss: 0.9988 - val_accuracy: 0.6227\n",
      "Epoch 41/150\n",
      "33/33 [==============================] - 0s 4ms/step - loss: 0.8627 - accuracy: 0.7269 - val_loss: 0.9920 - val_accuracy: 0.6227\n",
      "Epoch 42/150\n",
      "33/33 [==============================] - 0s 4ms/step - loss: 0.8595 - accuracy: 0.7268 - val_loss: 0.9876 - val_accuracy: 0.6227\n",
      "Epoch 43/150\n",
      "33/33 [==============================] - 0s 4ms/step - loss: 0.8630 - accuracy: 0.7269 - val_loss: 0.9822 - val_accuracy: 0.6227\n",
      "Epoch 44/150\n",
      "33/33 [==============================] - 0s 4ms/step - loss: 0.8568 - accuracy: 0.7271 - val_loss: 0.9760 - val_accuracy: 0.6227\n",
      "Epoch 45/150\n",
      "33/33 [==============================] - 0s 4ms/step - loss: 0.8567 - accuracy: 0.7270 - val_loss: 0.9875 - val_accuracy: 0.6227\n",
      "Epoch 46/150\n",
      "33/33 [==============================] - 0s 4ms/step - loss: 0.8558 - accuracy: 0.7270 - val_loss: 0.9806 - val_accuracy: 0.6227\n",
      "Epoch 47/150\n",
      "33/33 [==============================] - 0s 4ms/step - loss: 0.8535 - accuracy: 0.7267 - val_loss: 0.9733 - val_accuracy: 0.6227\n",
      "Epoch 48/150\n",
      "33/33 [==============================] - 0s 4ms/step - loss: 0.8592 - accuracy: 0.7270 - val_loss: 0.9803 - val_accuracy: 0.6227\n",
      "Epoch 49/150\n",
      "33/33 [==============================] - 0s 4ms/step - loss: 0.8579 - accuracy: 0.7269 - val_loss: 0.9850 - val_accuracy: 0.6227\n",
      "Epoch 50/150\n",
      "33/33 [==============================] - 0s 4ms/step - loss: 0.8540 - accuracy: 0.7269 - val_loss: 0.9779 - val_accuracy: 0.6227\n",
      "Epoch 51/150\n",
      "33/33 [==============================] - 0s 4ms/step - loss: 0.8495 - accuracy: 0.7268 - val_loss: 0.9740 - val_accuracy: 0.6227\n",
      "Epoch 52/150\n",
      "33/33 [==============================] - 0s 4ms/step - loss: 0.8571 - accuracy: 0.7269 - val_loss: 0.9762 - val_accuracy: 0.6227\n",
      "Epoch 53/150\n",
      "33/33 [==============================] - 0s 4ms/step - loss: 0.8522 - accuracy: 0.7269 - val_loss: 0.9727 - val_accuracy: 0.6227\n",
      "Epoch 54/150\n",
      "33/33 [==============================] - 0s 4ms/step - loss: 0.8504 - accuracy: 0.7269 - val_loss: 0.9693 - val_accuracy: 0.6227\n",
      "Epoch 55/150\n",
      "33/33 [==============================] - 0s 4ms/step - loss: 0.8513 - accuracy: 0.7269 - val_loss: 0.9703 - val_accuracy: 0.6227\n",
      "Epoch 56/150\n",
      "33/33 [==============================] - 0s 4ms/step - loss: 0.8500 - accuracy: 0.7269 - val_loss: 0.9699 - val_accuracy: 0.6227\n",
      "Epoch 57/150\n",
      "33/33 [==============================] - 0s 4ms/step - loss: 0.8531 - accuracy: 0.7268 - val_loss: 0.9744 - val_accuracy: 0.6227\n",
      "Epoch 58/150\n",
      "33/33 [==============================] - 0s 4ms/step - loss: 0.8543 - accuracy: 0.7268 - val_loss: 0.9751 - val_accuracy: 0.6227\n"
     ]
    },
    {
     "name": "stdout",
     "output_type": "stream",
     "text": [
      "Epoch 59/150\n",
      "33/33 [==============================] - 0s 4ms/step - loss: 0.8527 - accuracy: 0.7269 - val_loss: 0.9774 - val_accuracy: 0.6227\n",
      "Epoch 60/150\n",
      "33/33 [==============================] - 0s 4ms/step - loss: 0.8518 - accuracy: 0.7268 - val_loss: 0.9752 - val_accuracy: 0.6227\n",
      "Epoch 61/150\n",
      "33/33 [==============================] - 0s 4ms/step - loss: 0.8423 - accuracy: 0.7269 - val_loss: 0.9706 - val_accuracy: 0.6227\n",
      "Epoch 62/150\n",
      "33/33 [==============================] - 0s 4ms/step - loss: 0.8462 - accuracy: 0.7269 - val_loss: 0.9747 - val_accuracy: 0.6227\n",
      "Epoch 63/150\n",
      "33/33 [==============================] - 0s 4ms/step - loss: 0.8497 - accuracy: 0.7271 - val_loss: 0.9789 - val_accuracy: 0.6227\n",
      "Epoch 64/150\n",
      "33/33 [==============================] - 0s 4ms/step - loss: 0.8451 - accuracy: 0.7270 - val_loss: 0.9772 - val_accuracy: 0.6227\n",
      "Epoch 65/150\n",
      "33/33 [==============================] - 0s 4ms/step - loss: 0.8446 - accuracy: 0.7268 - val_loss: 0.9847 - val_accuracy: 0.6227\n",
      "Epoch 66/150\n",
      "33/33 [==============================] - 0s 4ms/step - loss: 0.8447 - accuracy: 0.7269 - val_loss: 0.9803 - val_accuracy: 0.6227\n",
      "Epoch 67/150\n",
      "33/33 [==============================] - 0s 4ms/step - loss: 0.8449 - accuracy: 0.7269 - val_loss: 0.9835 - val_accuracy: 0.6227\n",
      "Epoch 68/150\n",
      "33/33 [==============================] - 0s 4ms/step - loss: 0.8421 - accuracy: 0.7269 - val_loss: 0.9751 - val_accuracy: 0.6227\n",
      "Epoch 69/150\n",
      "33/33 [==============================] - 0s 4ms/step - loss: 0.8397 - accuracy: 0.7269 - val_loss: 0.9722 - val_accuracy: 0.6227\n",
      "Epoch 70/150\n",
      "33/33 [==============================] - 0s 4ms/step - loss: 0.8485 - accuracy: 0.7270 - val_loss: 0.9725 - val_accuracy: 0.6227\n",
      "Epoch 71/150\n",
      "33/33 [==============================] - 0s 4ms/step - loss: 0.8446 - accuracy: 0.7270 - val_loss: 0.9704 - val_accuracy: 0.6227\n",
      "Epoch 72/150\n",
      "33/33 [==============================] - 0s 4ms/step - loss: 0.8407 - accuracy: 0.7269 - val_loss: 0.9723 - val_accuracy: 0.6227\n",
      "Epoch 73/150\n",
      "33/33 [==============================] - 0s 4ms/step - loss: 0.8456 - accuracy: 0.7269 - val_loss: 0.9776 - val_accuracy: 0.6227\n",
      "Epoch 74/150\n",
      "33/33 [==============================] - 0s 4ms/step - loss: 0.8489 - accuracy: 0.7271 - val_loss: 0.9774 - val_accuracy: 0.6227\n",
      "Epoch 75/150\n",
      "33/33 [==============================] - 0s 4ms/step - loss: 0.8447 - accuracy: 0.7269 - val_loss: 0.9766 - val_accuracy: 0.6227\n",
      "Epoch 76/150\n",
      "33/33 [==============================] - 0s 4ms/step - loss: 0.8387 - accuracy: 0.7269 - val_loss: 0.9674 - val_accuracy: 0.6227\n",
      "Epoch 77/150\n",
      "33/33 [==============================] - 0s 4ms/step - loss: 0.8384 - accuracy: 0.7268 - val_loss: 0.9758 - val_accuracy: 0.6227\n",
      "Epoch 78/150\n",
      "33/33 [==============================] - 0s 4ms/step - loss: 0.8464 - accuracy: 0.7270 - val_loss: 0.9761 - val_accuracy: 0.6227\n",
      "Epoch 79/150\n",
      "33/33 [==============================] - 0s 4ms/step - loss: 0.8397 - accuracy: 0.7269 - val_loss: 0.9804 - val_accuracy: 0.6227\n",
      "Epoch 80/150\n",
      "33/33 [==============================] - 0s 4ms/step - loss: 0.8420 - accuracy: 0.7268 - val_loss: 0.9736 - val_accuracy: 0.6227\n",
      "Epoch 81/150\n",
      "33/33 [==============================] - 0s 4ms/step - loss: 0.8429 - accuracy: 0.7270 - val_loss: 0.9792 - val_accuracy: 0.6227\n",
      "Epoch 82/150\n",
      "33/33 [==============================] - 0s 4ms/step - loss: 0.8378 - accuracy: 0.7266 - val_loss: 0.9715 - val_accuracy: 0.6227\n",
      "Epoch 83/150\n",
      "33/33 [==============================] - 0s 4ms/step - loss: 0.8313 - accuracy: 0.7267 - val_loss: 0.9670 - val_accuracy: 0.6227\n",
      "Epoch 84/150\n",
      "33/33 [==============================] - 0s 4ms/step - loss: 0.8342 - accuracy: 0.7271 - val_loss: 0.9681 - val_accuracy: 0.6227\n",
      "Epoch 85/150\n",
      "33/33 [==============================] - 0s 4ms/step - loss: 0.8296 - accuracy: 0.7269 - val_loss: 0.9689 - val_accuracy: 0.6227\n",
      "Epoch 86/150\n",
      "33/33 [==============================] - 0s 4ms/step - loss: 0.8307 - accuracy: 0.7269 - val_loss: 0.9689 - val_accuracy: 0.6227\n",
      "Epoch 87/150\n",
      "33/33 [==============================] - 0s 4ms/step - loss: 0.8341 - accuracy: 0.7271 - val_loss: 0.9684 - val_accuracy: 0.6227\n",
      "Epoch 88/150\n",
      "33/33 [==============================] - 0s 4ms/step - loss: 0.8294 - accuracy: 0.7268 - val_loss: 0.9680 - val_accuracy: 0.6227\n",
      "Epoch 89/150\n",
      "33/33 [==============================] - 0s 4ms/step - loss: 0.8371 - accuracy: 0.7268 - val_loss: 0.9680 - val_accuracy: 0.6227\n",
      "Epoch 90/150\n",
      "33/33 [==============================] - 0s 4ms/step - loss: 0.8330 - accuracy: 0.7269 - val_loss: 0.9724 - val_accuracy: 0.6227\n",
      "Epoch 91/150\n",
      "33/33 [==============================] - 0s 4ms/step - loss: 0.8290 - accuracy: 0.7269 - val_loss: 0.9587 - val_accuracy: 0.6227\n",
      "Epoch 92/150\n",
      "33/33 [==============================] - 0s 4ms/step - loss: 0.8283 - accuracy: 0.7270 - val_loss: 0.9657 - val_accuracy: 0.6227\n",
      "Epoch 93/150\n",
      "33/33 [==============================] - 0s 4ms/step - loss: 0.8259 - accuracy: 0.7270 - val_loss: 0.9667 - val_accuracy: 0.6227\n",
      "Epoch 94/150\n",
      "33/33 [==============================] - 0s 4ms/step - loss: 0.8320 - accuracy: 0.7269 - val_loss: 0.9713 - val_accuracy: 0.6227\n",
      "Epoch 95/150\n",
      "33/33 [==============================] - 0s 4ms/step - loss: 0.8322 - accuracy: 0.7274 - val_loss: 0.9609 - val_accuracy: 0.6227\n",
      "Epoch 96/150\n",
      "33/33 [==============================] - 0s 4ms/step - loss: 0.8361 - accuracy: 0.7267 - val_loss: 0.9673 - val_accuracy: 0.6227\n",
      "Epoch 97/150\n",
      "33/33 [==============================] - 0s 4ms/step - loss: 0.8230 - accuracy: 0.7271 - val_loss: 0.9626 - val_accuracy: 0.6227\n",
      "Epoch 98/150\n",
      "33/33 [==============================] - 0s 4ms/step - loss: 0.8296 - accuracy: 0.7270 - val_loss: 0.9678 - val_accuracy: 0.6227\n",
      "Epoch 99/150\n",
      "33/33 [==============================] - 0s 4ms/step - loss: 0.8240 - accuracy: 0.7269 - val_loss: 0.9635 - val_accuracy: 0.6227\n",
      "Epoch 100/150\n",
      "33/33 [==============================] - 0s 4ms/step - loss: 0.8294 - accuracy: 0.7267 - val_loss: 0.9602 - val_accuracy: 0.6227\n",
      "Epoch 101/150\n",
      "33/33 [==============================] - 0s 4ms/step - loss: 0.8263 - accuracy: 0.7271 - val_loss: 0.9608 - val_accuracy: 0.6227\n",
      "Epoch 102/150\n",
      "33/33 [==============================] - 0s 4ms/step - loss: 0.8246 - accuracy: 0.7268 - val_loss: 0.9645 - val_accuracy: 0.6227\n",
      "Epoch 103/150\n",
      "33/33 [==============================] - 0s 4ms/step - loss: 0.8291 - accuracy: 0.7269 - val_loss: 0.9668 - val_accuracy: 0.6227\n",
      "Epoch 104/150\n",
      "33/33 [==============================] - 0s 4ms/step - loss: 0.8227 - accuracy: 0.7274 - val_loss: 0.9677 - val_accuracy: 0.6227\n",
      "Epoch 105/150\n",
      "33/33 [==============================] - 0s 4ms/step - loss: 0.8266 - accuracy: 0.7268 - val_loss: 0.9625 - val_accuracy: 0.6227\n",
      "Epoch 106/150\n",
      "33/33 [==============================] - 0s 4ms/step - loss: 0.8254 - accuracy: 0.7268 - val_loss: 0.9550 - val_accuracy: 0.6227\n",
      "Epoch 107/150\n",
      "33/33 [==============================] - 0s 4ms/step - loss: 0.8223 - accuracy: 0.7271 - val_loss: 0.9569 - val_accuracy: 0.6227\n",
      "Epoch 108/150\n",
      "33/33 [==============================] - 0s 4ms/step - loss: 0.8276 - accuracy: 0.7267 - val_loss: 0.9545 - val_accuracy: 0.6227\n",
      "Epoch 109/150\n",
      "33/33 [==============================] - 0s 4ms/step - loss: 0.8208 - accuracy: 0.7274 - val_loss: 0.9505 - val_accuracy: 0.6227\n",
      "Epoch 110/150\n",
      "33/33 [==============================] - 0s 4ms/step - loss: 0.8211 - accuracy: 0.7272 - val_loss: 0.9447 - val_accuracy: 0.6227\n",
      "Epoch 111/150\n",
      "33/33 [==============================] - 0s 4ms/step - loss: 0.8249 - accuracy: 0.7266 - val_loss: 0.9508 - val_accuracy: 0.6227\n",
      "Epoch 112/150\n",
      "33/33 [==============================] - 0s 4ms/step - loss: 0.8220 - accuracy: 0.7267 - val_loss: 0.9591 - val_accuracy: 0.6227\n",
      "Epoch 113/150\n",
      "33/33 [==============================] - 0s 4ms/step - loss: 0.8203 - accuracy: 0.7270 - val_loss: 0.9425 - val_accuracy: 0.6227\n",
      "Epoch 114/150\n",
      "33/33 [==============================] - 0s 4ms/step - loss: 0.8189 - accuracy: 0.7266 - val_loss: 0.9487 - val_accuracy: 0.6227\n",
      "Epoch 115/150\n",
      "33/33 [==============================] - 0s 4ms/step - loss: 0.8203 - accuracy: 0.7278 - val_loss: 0.9469 - val_accuracy: 0.6227\n",
      "Epoch 116/150\n"
     ]
    },
    {
     "name": "stdout",
     "output_type": "stream",
     "text": [
      "33/33 [==============================] - 0s 4ms/step - loss: 0.8175 - accuracy: 0.7267 - val_loss: 0.9448 - val_accuracy: 0.6227\n",
      "Epoch 117/150\n",
      "33/33 [==============================] - 0s 4ms/step - loss: 0.8145 - accuracy: 0.7258 - val_loss: 0.9392 - val_accuracy: 0.6227\n",
      "Epoch 118/150\n",
      "33/33 [==============================] - 0s 4ms/step - loss: 0.8169 - accuracy: 0.7270 - val_loss: 0.9353 - val_accuracy: 0.6227\n",
      "Epoch 119/150\n",
      "33/33 [==============================] - 0s 4ms/step - loss: 0.8127 - accuracy: 0.7277 - val_loss: 0.9393 - val_accuracy: 0.6227\n",
      "Epoch 120/150\n",
      "33/33 [==============================] - 0s 4ms/step - loss: 0.8140 - accuracy: 0.7276 - val_loss: 0.9430 - val_accuracy: 0.6227\n",
      "Epoch 121/150\n",
      "33/33 [==============================] - 0s 4ms/step - loss: 0.8146 - accuracy: 0.7285 - val_loss: 0.9407 - val_accuracy: 0.6227\n",
      "Epoch 122/150\n",
      "33/33 [==============================] - 0s 4ms/step - loss: 0.8184 - accuracy: 0.7268 - val_loss: 0.9453 - val_accuracy: 0.6227\n",
      "Epoch 123/150\n",
      "33/33 [==============================] - 0s 4ms/step - loss: 0.8148 - accuracy: 0.7269 - val_loss: 0.9417 - val_accuracy: 0.6227\n",
      "Epoch 124/150\n",
      "33/33 [==============================] - 0s 4ms/step - loss: 0.8186 - accuracy: 0.7278 - val_loss: 0.9369 - val_accuracy: 0.6227\n",
      "Epoch 125/150\n",
      "33/33 [==============================] - 0s 4ms/step - loss: 0.8102 - accuracy: 0.7255 - val_loss: 0.9409 - val_accuracy: 0.6227\n",
      "Epoch 126/150\n",
      "33/33 [==============================] - 0s 4ms/step - loss: 0.8091 - accuracy: 0.7263 - val_loss: 0.9339 - val_accuracy: 0.6227\n",
      "Epoch 127/150\n",
      "33/33 [==============================] - 0s 4ms/step - loss: 0.8163 - accuracy: 0.7260 - val_loss: 0.9337 - val_accuracy: 0.6227\n",
      "Epoch 128/150\n",
      "33/33 [==============================] - 0s 4ms/step - loss: 0.8131 - accuracy: 0.7271 - val_loss: 0.9380 - val_accuracy: 0.6227\n",
      "Epoch 129/150\n",
      "33/33 [==============================] - 0s 4ms/step - loss: 0.8090 - accuracy: 0.7269 - val_loss: 0.9322 - val_accuracy: 0.6227\n",
      "Epoch 130/150\n",
      "33/33 [==============================] - 0s 4ms/step - loss: 0.8091 - accuracy: 0.7266 - val_loss: 0.9348 - val_accuracy: 0.6227\n",
      "Epoch 131/150\n",
      "33/33 [==============================] - 0s 4ms/step - loss: 0.8155 - accuracy: 0.7268 - val_loss: 0.9307 - val_accuracy: 0.6227\n",
      "Epoch 132/150\n",
      "33/33 [==============================] - 0s 4ms/step - loss: 0.8126 - accuracy: 0.7268 - val_loss: 0.9349 - val_accuracy: 0.6227\n",
      "Epoch 133/150\n",
      "33/33 [==============================] - 0s 5ms/step - loss: 0.8096 - accuracy: 0.7258 - val_loss: 0.9328 - val_accuracy: 0.6227\n",
      "Epoch 134/150\n",
      "33/33 [==============================] - 0s 4ms/step - loss: 0.8071 - accuracy: 0.7275 - val_loss: 0.9351 - val_accuracy: 0.6227\n",
      "Epoch 135/150\n",
      "33/33 [==============================] - 0s 4ms/step - loss: 0.8123 - accuracy: 0.7258 - val_loss: 0.9349 - val_accuracy: 0.6227\n",
      "Epoch 136/150\n",
      "33/33 [==============================] - 0s 4ms/step - loss: 0.8117 - accuracy: 0.7268 - val_loss: 0.9383 - val_accuracy: 0.6227\n",
      "Epoch 137/150\n",
      "33/33 [==============================] - 0s 4ms/step - loss: 0.8141 - accuracy: 0.7266 - val_loss: 0.9322 - val_accuracy: 0.6227\n",
      "Epoch 138/150\n",
      "33/33 [==============================] - 0s 4ms/step - loss: 0.8104 - accuracy: 0.7277 - val_loss: 0.9314 - val_accuracy: 0.6227\n",
      "Epoch 139/150\n",
      "33/33 [==============================] - 0s 4ms/step - loss: 0.8093 - accuracy: 0.7277 - val_loss: 0.9335 - val_accuracy: 0.6227\n",
      "Epoch 140/150\n",
      "33/33 [==============================] - 0s 4ms/step - loss: 0.8086 - accuracy: 0.7257 - val_loss: 0.9340 - val_accuracy: 0.6227\n",
      "Epoch 141/150\n",
      "33/33 [==============================] - 0s 4ms/step - loss: 0.8084 - accuracy: 0.7268 - val_loss: 0.9300 - val_accuracy: 0.6227\n",
      "Epoch 142/150\n",
      "33/33 [==============================] - 0s 4ms/step - loss: 0.8071 - accuracy: 0.7270 - val_loss: 0.9316 - val_accuracy: 0.6227\n",
      "Epoch 143/150\n",
      "33/33 [==============================] - 0s 4ms/step - loss: 0.8093 - accuracy: 0.7258 - val_loss: 0.9407 - val_accuracy: 0.6227\n",
      "Epoch 144/150\n",
      "33/33 [==============================] - 0s 4ms/step - loss: 0.8129 - accuracy: 0.7261 - val_loss: 0.9316 - val_accuracy: 0.6227\n",
      "Epoch 145/150\n",
      "33/33 [==============================] - 0s 4ms/step - loss: 0.8076 - accuracy: 0.7262 - val_loss: 0.9319 - val_accuracy: 0.6227\n",
      "Epoch 146/150\n",
      "33/33 [==============================] - 0s 4ms/step - loss: 0.8130 - accuracy: 0.7269 - val_loss: 0.9320 - val_accuracy: 0.6227\n",
      "Epoch 147/150\n",
      "33/33 [==============================] - 0s 4ms/step - loss: 0.8042 - accuracy: 0.7263 - val_loss: 0.9359 - val_accuracy: 0.6227\n",
      "Epoch 148/150\n",
      "33/33 [==============================] - 0s 4ms/step - loss: 0.8062 - accuracy: 0.7260 - val_loss: 0.9302 - val_accuracy: 0.6227\n",
      "Epoch 149/150\n",
      "33/33 [==============================] - 0s 4ms/step - loss: 0.8057 - accuracy: 0.7268 - val_loss: 0.9237 - val_accuracy: 0.6227\n",
      "Epoch 150/150\n",
      "33/33 [==============================] - 0s 4ms/step - loss: 0.8069 - accuracy: 0.7281 - val_loss: 0.9266 - val_accuracy: 0.6227\n"
     ]
    }
   ],
   "source": [
    "history = model.fit(x_train, y_train,\n",
    "                    batch_size=batch_size,\n",
    "                    epochs=epochs,\n",
    "                    verbose=1,\n",
    "                    validation_split=0.2,\n",
    "                    )"
   ]
  },
  {
   "cell_type": "code",
   "execution_count": 42,
   "metadata": {},
   "outputs": [
    {
     "data": {
      "image/png": "[encoded data removed]",
      "text/plain": [
       "<Figure size 432x288 with 1 Axes>"
      ]
     },
     "metadata": {
      "needs_background": "light"
     },
     "output_type": "display_data"
    },
    {
     "data": {
      "image/png": "[encoded data removed]",
      "text/plain": [
       "<Figure size 432x288 with 1 Axes>"
      ]
     },
     "metadata": {
      "needs_background": "light"
     },
     "output_type": "display_data"
    }
   ],
   "source": [
    "plt.figure()\n",
    "plt.plot(history.history['loss'], label='train loss')\n",
    "plt.plot(history.history['val_loss'], label='validation loss')\n",
    "plt.xlabel('Эпоха обучения')\n",
    "plt.ylabel('Значение функции потерь')\n",
    "plt.legend()\n",
    "\n",
    "plt.figure()\n",
    "plt.plot(history.history[acc_name], label='train accuracy')\n",
    "plt.plot(history.history[val_acc_name], label='validation accuracy')\n",
    "plt.xlabel('Эпоха обучения')\n",
    "plt.ylabel('Доля верных ответов')\n",
    "plt.legend()\n",
    "\n",
    "plt.show()"
   ]
  },
  {
   "cell_type": "markdown",
   "metadata": {},
   "source": [
    "### Embedding-и дотренировываются после инициализации"
   ]
  },
  {
   "cell_type": "code",
   "execution_count": 43,
   "metadata": {},
   "outputs": [],
   "source": [
    "keras.backend.clear_session()\n",
    "\n",
    "X_input = tf.keras.layers.Input(shape=(max_len,), name=\"X\")\n",
    "Embed_ = tf.keras.layers.Embedding(input_dim=max_words, output_dim=embed_vec_len, name=\"Embed_\", weights=[buffer], trainable=True)(X_input)\n",
    "Conv1_ = tf.keras.layers.Conv1D(filters=embed_vec_len, kernel_size=5, activation=\"relu\", name=\"Conv1_\")(Embed_)\n",
    "GlobMaxPool1_ = tf.keras.layers.GlobalMaxPool1D(name=\"GlobMaxPool1\")(Conv1_)\n",
    "Drop1_ = tf.keras.layers.Dropout(0.6)(GlobMaxPool1_)\n",
    "Dense1_ = tf.keras.layers.Dense(32, activation=\"relu\", name=\"Dense1_\")(Drop1_)\n",
    "Drop2_ = tf.keras.layers.Dropout(0.6)(Dense1_)\n",
    "Dense2_ = tf.keras.layers.Dense(32, activation=\"relu\", name=\"Dense2_\")(Drop2_)\n",
    "Drop3_ = tf.keras.layers.Dropout(0.6)(Dense2_)\n",
    "Dense3_ = tf.keras.layers.Dense(32, activation=\"relu\", name=\"Dense3_\")(Drop3_)\n",
    "Drop4_ = tf.keras.layers.Dropout(0.6)(Dense3_)\n",
    "Dense4_ = tf.keras.layers.Dense(32, activation=\"relu\", name=\"Dense4_\")(Drop4_)\n",
    "Drop5_ = tf.keras.layers.Dropout(0.75)(Dense4_)\n",
    "y_output = tf.keras.layers.Dense(num_classes, activation=\"softmax\", name=\"y\")(Drop5_)\n",
    "\n",
    "model = tf.keras.models.Model(inputs=[X_input], outputs=[y_output], name=\"my_model\")\n",
    "model.compile(loss='categorical_crossentropy',\n",
    "              optimizer='adam',\n",
    "              metrics=['accuracy'])"
   ]
  },
  {
   "cell_type": "code",
   "execution_count": 44,
   "metadata": {},
   "outputs": [
    {
     "name": "stdout",
     "output_type": "stream",
     "text": [
      "Epoch 1/150\n",
      "33/33 [==============================] - 0s 10ms/step - loss: 1.6156 - accuracy: 0.4607 - val_loss: 1.4719 - val_accuracy: 0.6227\n",
      "Epoch 2/150\n",
      "33/33 [==============================] - 0s 6ms/step - loss: 1.3207 - accuracy: 0.6416 - val_loss: 1.2627 - val_accuracy: 0.6227\n",
      "Epoch 3/150\n",
      "33/33 [==============================] - 0s 6ms/step - loss: 1.1656 - accuracy: 0.7135 - val_loss: 1.1501 - val_accuracy: 0.6227\n",
      "Epoch 4/150\n",
      "33/33 [==============================] - 0s 5ms/step - loss: 1.1051 - accuracy: 0.7233 - val_loss: 1.1225 - val_accuracy: 0.6227\n",
      "Epoch 5/150\n",
      "33/33 [==============================] - 0s 6ms/step - loss: 1.0580 - accuracy: 0.7249 - val_loss: 1.1035 - val_accuracy: 0.6227\n",
      "Epoch 6/150\n",
      "33/33 [==============================] - 0s 6ms/step - loss: 1.0414 - accuracy: 0.7261 - val_loss: 1.0895 - val_accuracy: 0.6227\n",
      "Epoch 7/150\n",
      "33/33 [==============================] - 0s 6ms/step - loss: 1.0163 - accuracy: 0.7261 - val_loss: 1.0744 - val_accuracy: 0.6227\n",
      "Epoch 8/150\n",
      "33/33 [==============================] - 0s 6ms/step - loss: 0.9902 - accuracy: 0.7265 - val_loss: 1.0364 - val_accuracy: 0.6227\n",
      "Epoch 9/150\n",
      "33/33 [==============================] - 0s 6ms/step - loss: 0.9710 - accuracy: 0.7261 - val_loss: 1.0237 - val_accuracy: 0.6227\n",
      "Epoch 10/150\n",
      "33/33 [==============================] - 0s 6ms/step - loss: 0.9456 - accuracy: 0.7261 - val_loss: 0.9687 - val_accuracy: 0.6227\n",
      "Epoch 11/150\n",
      "33/33 [==============================] - 0s 6ms/step - loss: 0.9385 - accuracy: 0.7259 - val_loss: 0.9529 - val_accuracy: 0.6227\n",
      "Epoch 12/150\n",
      "33/33 [==============================] - 0s 6ms/step - loss: 0.9201 - accuracy: 0.7255 - val_loss: 0.9470 - val_accuracy: 0.6227\n",
      "Epoch 13/150\n",
      "33/33 [==============================] - 0s 6ms/step - loss: 0.9064 - accuracy: 0.7261 - val_loss: 0.9365 - val_accuracy: 0.6227\n",
      "Epoch 14/150\n",
      "33/33 [==============================] - 0s 6ms/step - loss: 0.8887 - accuracy: 0.7266 - val_loss: 0.9116 - val_accuracy: 0.6227\n",
      "Epoch 15/150\n",
      "33/33 [==============================] - 0s 6ms/step - loss: 0.8673 - accuracy: 0.7271 - val_loss: 0.8869 - val_accuracy: 0.6227\n",
      "Epoch 16/150\n",
      "33/33 [==============================] - 0s 6ms/step - loss: 0.8568 - accuracy: 0.7273 - val_loss: 0.8917 - val_accuracy: 0.6227\n",
      "Epoch 17/150\n",
      "33/33 [==============================] - 0s 6ms/step - loss: 0.8512 - accuracy: 0.7277 - val_loss: 0.8872 - val_accuracy: 0.6227\n",
      "Epoch 18/150\n",
      "33/33 [==============================] - 0s 6ms/step - loss: 0.8418 - accuracy: 0.7288 - val_loss: 0.8771 - val_accuracy: 0.6227\n",
      "Epoch 19/150\n",
      "33/33 [==============================] - 0s 6ms/step - loss: 0.8420 - accuracy: 0.7287 - val_loss: 0.8846 - val_accuracy: 0.6227\n",
      "Epoch 20/150\n",
      "33/33 [==============================] - 0s 6ms/step - loss: 0.8256 - accuracy: 0.7303 - val_loss: 0.8743 - val_accuracy: 0.6227\n",
      "Epoch 21/150\n",
      "33/33 [==============================] - 0s 6ms/step - loss: 0.8240 - accuracy: 0.7300 - val_loss: 0.8681 - val_accuracy: 0.6227\n",
      "Epoch 22/150\n",
      "33/33 [==============================] - 0s 6ms/step - loss: 0.8131 - accuracy: 0.7312 - val_loss: 0.8679 - val_accuracy: 0.6227\n",
      "Epoch 23/150\n",
      "33/33 [==============================] - 0s 6ms/step - loss: 0.8084 - accuracy: 0.7310 - val_loss: 0.8623 - val_accuracy: 0.6227\n",
      "Epoch 24/150\n",
      "33/33 [==============================] - 0s 6ms/step - loss: 0.8006 - accuracy: 0.7328 - val_loss: 0.8605 - val_accuracy: 0.6227\n",
      "Epoch 25/150\n",
      "33/33 [==============================] - 0s 5ms/step - loss: 0.7881 - accuracy: 0.7326 - val_loss: 0.8533 - val_accuracy: 0.6227\n",
      "Epoch 26/150\n",
      "33/33 [==============================] - 0s 6ms/step - loss: 0.7800 - accuracy: 0.7335 - val_loss: 0.8449 - val_accuracy: 0.6227\n",
      "Epoch 27/150\n",
      "33/33 [==============================] - 0s 6ms/step - loss: 0.7763 - accuracy: 0.7343 - val_loss: 0.8467 - val_accuracy: 0.6227\n",
      "Epoch 28/150\n",
      "33/33 [==============================] - 0s 6ms/step - loss: 0.7683 - accuracy: 0.7361 - val_loss: 0.8429 - val_accuracy: 0.6227\n",
      "Epoch 29/150\n",
      "33/33 [==============================] - 0s 6ms/step - loss: 0.7735 - accuracy: 0.7358 - val_loss: 0.8495 - val_accuracy: 0.6227\n",
      "Epoch 30/150\n",
      "33/33 [==============================] - 0s 6ms/step - loss: 0.7629 - accuracy: 0.7363 - val_loss: 0.8395 - val_accuracy: 0.6227\n",
      "Epoch 31/150\n",
      "33/33 [==============================] - 0s 6ms/step - loss: 0.7595 - accuracy: 0.7354 - val_loss: 0.8393 - val_accuracy: 0.6227\n",
      "Epoch 32/150\n",
      "33/33 [==============================] - 0s 6ms/step - loss: 0.7604 - accuracy: 0.7379 - val_loss: 0.8346 - val_accuracy: 0.6227\n",
      "Epoch 33/150\n",
      "33/33 [==============================] - 0s 6ms/step - loss: 0.7595 - accuracy: 0.7375 - val_loss: 0.8337 - val_accuracy: 0.6227\n",
      "Epoch 34/150\n",
      "33/33 [==============================] - 0s 6ms/step - loss: 0.7385 - accuracy: 0.7388 - val_loss: 0.8313 - val_accuracy: 0.6227\n",
      "Epoch 35/150\n",
      "33/33 [==============================] - 0s 6ms/step - loss: 0.7362 - accuracy: 0.7378 - val_loss: 0.8304 - val_accuracy: 0.6227\n",
      "Epoch 36/150\n",
      "33/33 [==============================] - 0s 6ms/step - loss: 0.7403 - accuracy: 0.7401 - val_loss: 0.8294 - val_accuracy: 0.6227\n",
      "Epoch 37/150\n",
      "33/33 [==============================] - 0s 6ms/step - loss: 0.7367 - accuracy: 0.7398 - val_loss: 0.8290 - val_accuracy: 0.6227\n",
      "Epoch 38/150\n",
      "33/33 [==============================] - 0s 6ms/step - loss: 0.7315 - accuracy: 0.7419 - val_loss: 0.8182 - val_accuracy: 0.6266\n",
      "Epoch 39/150\n",
      "33/33 [==============================] - 0s 5ms/step - loss: 0.7265 - accuracy: 0.7473 - val_loss: 0.8204 - val_accuracy: 0.6266\n",
      "Epoch 40/150\n",
      "33/33 [==============================] - 0s 6ms/step - loss: 0.7300 - accuracy: 0.7434 - val_loss: 0.8201 - val_accuracy: 0.6297\n",
      "Epoch 41/150\n",
      "33/33 [==============================] - 0s 6ms/step - loss: 0.7304 - accuracy: 0.7433 - val_loss: 0.8249 - val_accuracy: 0.6430\n",
      "Epoch 42/150\n",
      "33/33 [==============================] - 0s 6ms/step - loss: 0.7254 - accuracy: 0.7468 - val_loss: 0.8193 - val_accuracy: 0.6634\n",
      "Epoch 43/150\n",
      "33/33 [==============================] - 0s 6ms/step - loss: 0.7241 - accuracy: 0.7490 - val_loss: 0.8132 - val_accuracy: 0.6946\n",
      "Epoch 44/150\n",
      "33/33 [==============================] - 0s 5ms/step - loss: 0.7197 - accuracy: 0.7464 - val_loss: 0.8164 - val_accuracy: 0.6566\n",
      "Epoch 45/150\n",
      "33/33 [==============================] - 0s 5ms/step - loss: 0.7118 - accuracy: 0.7461 - val_loss: 0.8132 - val_accuracy: 0.6655\n",
      "Epoch 46/150\n",
      "33/33 [==============================] - 0s 6ms/step - loss: 0.7191 - accuracy: 0.7505 - val_loss: 0.8134 - val_accuracy: 0.6634\n",
      "Epoch 47/150\n",
      "33/33 [==============================] - 0s 6ms/step - loss: 0.7083 - accuracy: 0.7484 - val_loss: 0.8102 - val_accuracy: 0.7125\n",
      "Epoch 48/150\n",
      "33/33 [==============================] - 0s 6ms/step - loss: 0.7103 - accuracy: 0.7520 - val_loss: 0.8054 - val_accuracy: 0.7168\n",
      "Epoch 49/150\n",
      "33/33 [==============================] - 0s 6ms/step - loss: 0.7027 - accuracy: 0.7536 - val_loss: 0.8051 - val_accuracy: 0.7260\n",
      "Epoch 50/150\n",
      "33/33 [==============================] - 0s 6ms/step - loss: 0.7058 - accuracy: 0.7516 - val_loss: 0.8093 - val_accuracy: 0.7197\n",
      "Epoch 51/150\n",
      "33/33 [==============================] - 0s 6ms/step - loss: 0.7089 - accuracy: 0.7510 - val_loss: 0.8081 - val_accuracy: 0.7231\n",
      "Epoch 52/150\n",
      "33/33 [==============================] - 0s 6ms/step - loss: 0.7088 - accuracy: 0.7527 - val_loss: 0.8059 - val_accuracy: 0.7214\n",
      "Epoch 53/150\n",
      "33/33 [==============================] - 0s 6ms/step - loss: 0.7060 - accuracy: 0.7505 - val_loss: 0.8104 - val_accuracy: 0.7050\n",
      "Epoch 54/150\n",
      "33/33 [==============================] - 0s 6ms/step - loss: 0.6955 - accuracy: 0.7549 - val_loss: 0.8053 - val_accuracy: 0.7275\n",
      "Epoch 55/150\n",
      "33/33 [==============================] - 0s 6ms/step - loss: 0.6948 - accuracy: 0.7567 - val_loss: 0.7973 - val_accuracy: 0.7447\n",
      "Epoch 56/150\n",
      "33/33 [==============================] - 0s 6ms/step - loss: 0.6973 - accuracy: 0.7571 - val_loss: 0.8001 - val_accuracy: 0.7352\n",
      "Epoch 57/150\n",
      "33/33 [==============================] - 0s 6ms/step - loss: 0.6924 - accuracy: 0.7571 - val_loss: 0.8038 - val_accuracy: 0.7352\n",
      "Epoch 58/150\n",
      "33/33 [==============================] - 0s 6ms/step - loss: 0.6935 - accuracy: 0.7569 - val_loss: 0.8042 - val_accuracy: 0.7372\n"
     ]
    },
    {
     "name": "stdout",
     "output_type": "stream",
     "text": [
      "Epoch 59/150\n",
      "33/33 [==============================] - 0s 6ms/step - loss: 0.6919 - accuracy: 0.7558 - val_loss: 0.7958 - val_accuracy: 0.7427\n",
      "Epoch 60/150\n",
      "33/33 [==============================] - 0s 6ms/step - loss: 0.6958 - accuracy: 0.7588 - val_loss: 0.8018 - val_accuracy: 0.7396\n",
      "Epoch 61/150\n",
      "33/33 [==============================] - 0s 6ms/step - loss: 0.6834 - accuracy: 0.7591 - val_loss: 0.8015 - val_accuracy: 0.7439\n",
      "Epoch 62/150\n",
      "33/33 [==============================] - 0s 6ms/step - loss: 0.6818 - accuracy: 0.7596 - val_loss: 0.7906 - val_accuracy: 0.7466\n",
      "Epoch 63/150\n",
      "33/33 [==============================] - 0s 6ms/step - loss: 0.6899 - accuracy: 0.7574 - val_loss: 0.7986 - val_accuracy: 0.7461\n",
      "Epoch 64/150\n",
      "33/33 [==============================] - 0s 6ms/step - loss: 0.6844 - accuracy: 0.7627 - val_loss: 0.7952 - val_accuracy: 0.7456\n",
      "Epoch 65/150\n",
      "33/33 [==============================] - 0s 6ms/step - loss: 0.6808 - accuracy: 0.7626 - val_loss: 0.7970 - val_accuracy: 0.7452\n",
      "Epoch 66/150\n",
      "33/33 [==============================] - 0s 5ms/step - loss: 0.6875 - accuracy: 0.7610 - val_loss: 0.7923 - val_accuracy: 0.7478\n",
      "Epoch 67/150\n",
      "33/33 [==============================] - 0s 6ms/step - loss: 0.6831 - accuracy: 0.7614 - val_loss: 0.7986 - val_accuracy: 0.7449\n",
      "Epoch 68/150\n",
      "33/33 [==============================] - 0s 6ms/step - loss: 0.6797 - accuracy: 0.7635 - val_loss: 0.7884 - val_accuracy: 0.7469\n",
      "Epoch 69/150\n",
      "33/33 [==============================] - 0s 5ms/step - loss: 0.6767 - accuracy: 0.7670 - val_loss: 0.7955 - val_accuracy: 0.7466\n",
      "Epoch 70/150\n",
      "33/33 [==============================] - 0s 5ms/step - loss: 0.6737 - accuracy: 0.7676 - val_loss: 0.7920 - val_accuracy: 0.7461\n",
      "Epoch 71/150\n",
      "33/33 [==============================] - 0s 6ms/step - loss: 0.6800 - accuracy: 0.7625 - val_loss: 0.7925 - val_accuracy: 0.7466\n",
      "Epoch 72/150\n",
      "33/33 [==============================] - 0s 6ms/step - loss: 0.6764 - accuracy: 0.7657 - val_loss: 0.7870 - val_accuracy: 0.7469\n",
      "Epoch 73/150\n",
      "33/33 [==============================] - 0s 6ms/step - loss: 0.6775 - accuracy: 0.7652 - val_loss: 0.7844 - val_accuracy: 0.7478\n",
      "Epoch 74/150\n",
      "33/33 [==============================] - 0s 6ms/step - loss: 0.6730 - accuracy: 0.7655 - val_loss: 0.7990 - val_accuracy: 0.7473\n",
      "Epoch 75/150\n",
      "33/33 [==============================] - 0s 6ms/step - loss: 0.6758 - accuracy: 0.7656 - val_loss: 0.7841 - val_accuracy: 0.7452\n",
      "Epoch 76/150\n",
      "33/33 [==============================] - 0s 6ms/step - loss: 0.6697 - accuracy: 0.7685 - val_loss: 0.7920 - val_accuracy: 0.7473\n",
      "Epoch 77/150\n",
      "33/33 [==============================] - 0s 5ms/step - loss: 0.6737 - accuracy: 0.7646 - val_loss: 0.7874 - val_accuracy: 0.7485\n",
      "Epoch 78/150\n",
      "33/33 [==============================] - 0s 6ms/step - loss: 0.6723 - accuracy: 0.7666 - val_loss: 0.8027 - val_accuracy: 0.7461\n",
      "Epoch 79/150\n",
      "33/33 [==============================] - 0s 6ms/step - loss: 0.6762 - accuracy: 0.7681 - val_loss: 0.7944 - val_accuracy: 0.7495\n",
      "Epoch 80/150\n",
      "33/33 [==============================] - 0s 6ms/step - loss: 0.6728 - accuracy: 0.7654 - val_loss: 0.7912 - val_accuracy: 0.7481\n",
      "Epoch 81/150\n",
      "33/33 [==============================] - 0s 6ms/step - loss: 0.6698 - accuracy: 0.7680 - val_loss: 0.7863 - val_accuracy: 0.7447\n",
      "Epoch 82/150\n",
      "33/33 [==============================] - 0s 6ms/step - loss: 0.6691 - accuracy: 0.7693 - val_loss: 0.7875 - val_accuracy: 0.7471\n",
      "Epoch 83/150\n",
      "33/33 [==============================] - 0s 6ms/step - loss: 0.6679 - accuracy: 0.7700 - val_loss: 0.8030 - val_accuracy: 0.7454\n",
      "Epoch 84/150\n",
      "33/33 [==============================] - 0s 6ms/step - loss: 0.6632 - accuracy: 0.7713 - val_loss: 0.7949 - val_accuracy: 0.7459\n",
      "Epoch 85/150\n",
      "33/33 [==============================] - 0s 6ms/step - loss: 0.6515 - accuracy: 0.7734 - val_loss: 0.7963 - val_accuracy: 0.7488\n",
      "Epoch 86/150\n",
      "33/33 [==============================] - 0s 6ms/step - loss: 0.6627 - accuracy: 0.7729 - val_loss: 0.7968 - val_accuracy: 0.7461\n",
      "Epoch 87/150\n",
      "33/33 [==============================] - 0s 6ms/step - loss: 0.6643 - accuracy: 0.7710 - val_loss: 0.7909 - val_accuracy: 0.7466\n",
      "Epoch 88/150\n",
      "33/33 [==============================] - 0s 6ms/step - loss: 0.6696 - accuracy: 0.7693 - val_loss: 0.7946 - val_accuracy: 0.7471\n",
      "Epoch 89/150\n",
      "33/33 [==============================] - 0s 6ms/step - loss: 0.6631 - accuracy: 0.7703 - val_loss: 0.7997 - val_accuracy: 0.7456\n",
      "Epoch 90/150\n",
      "33/33 [==============================] - 0s 6ms/step - loss: 0.6584 - accuracy: 0.7712 - val_loss: 0.7999 - val_accuracy: 0.7454\n",
      "Epoch 91/150\n",
      "33/33 [==============================] - 0s 6ms/step - loss: 0.6574 - accuracy: 0.7736 - val_loss: 0.7961 - val_accuracy: 0.7452\n",
      "Epoch 92/150\n",
      "33/33 [==============================] - 0s 6ms/step - loss: 0.6623 - accuracy: 0.7714 - val_loss: 0.7928 - val_accuracy: 0.7454\n",
      "Epoch 93/150\n",
      "33/33 [==============================] - 0s 5ms/step - loss: 0.6568 - accuracy: 0.7712 - val_loss: 0.7861 - val_accuracy: 0.7464\n",
      "Epoch 94/150\n",
      "33/33 [==============================] - 0s 6ms/step - loss: 0.6536 - accuracy: 0.7733 - val_loss: 0.8020 - val_accuracy: 0.7456\n",
      "Epoch 95/150\n",
      "33/33 [==============================] - 0s 5ms/step - loss: 0.6535 - accuracy: 0.7776 - val_loss: 0.7937 - val_accuracy: 0.7464\n",
      "Epoch 96/150\n",
      "33/33 [==============================] - 0s 5ms/step - loss: 0.6545 - accuracy: 0.7771 - val_loss: 0.7860 - val_accuracy: 0.7471\n",
      "Epoch 97/150\n",
      "33/33 [==============================] - 0s 6ms/step - loss: 0.6453 - accuracy: 0.7779 - val_loss: 0.7924 - val_accuracy: 0.7471\n",
      "Epoch 98/150\n",
      "33/33 [==============================] - 0s 6ms/step - loss: 0.6561 - accuracy: 0.7736 - val_loss: 0.7969 - val_accuracy: 0.7444\n",
      "Epoch 99/150\n",
      "33/33 [==============================] - 0s 5ms/step - loss: 0.6523 - accuracy: 0.7736 - val_loss: 0.7951 - val_accuracy: 0.7437\n",
      "Epoch 100/150\n",
      "33/33 [==============================] - 0s 5ms/step - loss: 0.6487 - accuracy: 0.7769 - val_loss: 0.7919 - val_accuracy: 0.7459\n",
      "Epoch 101/150\n",
      "33/33 [==============================] - 0s 6ms/step - loss: 0.6502 - accuracy: 0.7761 - val_loss: 0.7922 - val_accuracy: 0.7432\n",
      "Epoch 102/150\n",
      "33/33 [==============================] - 0s 6ms/step - loss: 0.6431 - accuracy: 0.7769 - val_loss: 0.7999 - val_accuracy: 0.7449\n",
      "Epoch 103/150\n",
      "33/33 [==============================] - 0s 5ms/step - loss: 0.6434 - accuracy: 0.7771 - val_loss: 0.7982 - val_accuracy: 0.7435\n",
      "Epoch 104/150\n",
      "33/33 [==============================] - 0s 6ms/step - loss: 0.6428 - accuracy: 0.7772 - val_loss: 0.7959 - val_accuracy: 0.7427\n",
      "Epoch 105/150\n",
      "33/33 [==============================] - 0s 6ms/step - loss: 0.6469 - accuracy: 0.7778 - val_loss: 0.7866 - val_accuracy: 0.7444\n",
      "Epoch 106/150\n",
      "33/33 [==============================] - 0s 5ms/step - loss: 0.6424 - accuracy: 0.7776 - val_loss: 0.8010 - val_accuracy: 0.7423\n",
      "Epoch 107/150\n",
      "33/33 [==============================] - 0s 5ms/step - loss: 0.6491 - accuracy: 0.7772 - val_loss: 0.7881 - val_accuracy: 0.7432\n",
      "Epoch 108/150\n",
      "33/33 [==============================] - 0s 6ms/step - loss: 0.6505 - accuracy: 0.7776 - val_loss: 0.7897 - val_accuracy: 0.7427\n",
      "Epoch 109/150\n",
      "33/33 [==============================] - 0s 6ms/step - loss: 0.6385 - accuracy: 0.7787 - val_loss: 0.7902 - val_accuracy: 0.7420\n",
      "Epoch 110/150\n",
      "33/33 [==============================] - 0s 6ms/step - loss: 0.6488 - accuracy: 0.7796 - val_loss: 0.8084 - val_accuracy: 0.7420\n",
      "Epoch 111/150\n",
      "33/33 [==============================] - 0s 6ms/step - loss: 0.6426 - accuracy: 0.7786 - val_loss: 0.8070 - val_accuracy: 0.7418\n",
      "Epoch 112/150\n",
      "33/33 [==============================] - 0s 6ms/step - loss: 0.6404 - accuracy: 0.7797 - val_loss: 0.7912 - val_accuracy: 0.7418\n",
      "Epoch 113/150\n",
      "33/33 [==============================] - 0s 5ms/step - loss: 0.6339 - accuracy: 0.7812 - val_loss: 0.7976 - val_accuracy: 0.7437\n",
      "Epoch 114/150\n",
      "33/33 [==============================] - 0s 5ms/step - loss: 0.6350 - accuracy: 0.7815 - val_loss: 0.8004 - val_accuracy: 0.7401\n",
      "Epoch 115/150\n",
      "33/33 [==============================] - 0s 5ms/step - loss: 0.6328 - accuracy: 0.7819 - val_loss: 0.7955 - val_accuracy: 0.7430\n",
      "Epoch 116/150\n"
     ]
    },
    {
     "name": "stdout",
     "output_type": "stream",
     "text": [
      "33/33 [==============================] - 0s 5ms/step - loss: 0.6387 - accuracy: 0.7819 - val_loss: 0.7939 - val_accuracy: 0.7425\n",
      "Epoch 117/150\n",
      "33/33 [==============================] - 0s 5ms/step - loss: 0.6308 - accuracy: 0.7827 - val_loss: 0.7992 - val_accuracy: 0.7415\n",
      "Epoch 118/150\n",
      "33/33 [==============================] - 0s 6ms/step - loss: 0.6377 - accuracy: 0.7816 - val_loss: 0.8029 - val_accuracy: 0.7418\n",
      "Epoch 119/150\n",
      "33/33 [==============================] - 0s 6ms/step - loss: 0.6350 - accuracy: 0.7818 - val_loss: 0.8095 - val_accuracy: 0.7413\n",
      "Epoch 120/150\n",
      "33/33 [==============================] - 0s 6ms/step - loss: 0.6293 - accuracy: 0.7817 - val_loss: 0.8221 - val_accuracy: 0.7420\n",
      "Epoch 121/150\n",
      "33/33 [==============================] - 0s 5ms/step - loss: 0.6353 - accuracy: 0.7829 - val_loss: 0.8054 - val_accuracy: 0.7423\n",
      "Epoch 122/150\n",
      "33/33 [==============================] - 0s 5ms/step - loss: 0.6324 - accuracy: 0.7823 - val_loss: 0.8077 - val_accuracy: 0.7408\n",
      "Epoch 123/150\n",
      "33/33 [==============================] - 0s 6ms/step - loss: 0.6229 - accuracy: 0.7833 - val_loss: 0.8119 - val_accuracy: 0.7408\n",
      "Epoch 124/150\n",
      "33/33 [==============================] - 0s 5ms/step - loss: 0.6233 - accuracy: 0.7838 - val_loss: 0.8182 - val_accuracy: 0.7396\n",
      "Epoch 125/150\n",
      "33/33 [==============================] - 0s 6ms/step - loss: 0.6257 - accuracy: 0.7827 - val_loss: 0.8171 - val_accuracy: 0.7430\n",
      "Epoch 126/150\n",
      "33/33 [==============================] - 0s 6ms/step - loss: 0.6290 - accuracy: 0.7847 - val_loss: 0.8188 - val_accuracy: 0.7406\n",
      "Epoch 127/150\n",
      "33/33 [==============================] - 0s 5ms/step - loss: 0.6260 - accuracy: 0.7848 - val_loss: 0.8120 - val_accuracy: 0.7430\n",
      "Epoch 128/150\n",
      "33/33 [==============================] - 0s 5ms/step - loss: 0.6273 - accuracy: 0.7833 - val_loss: 0.8123 - val_accuracy: 0.7423\n",
      "Epoch 129/150\n",
      "33/33 [==============================] - 0s 6ms/step - loss: 0.6289 - accuracy: 0.7839 - val_loss: 0.8181 - val_accuracy: 0.7420\n",
      "Epoch 130/150\n",
      "33/33 [==============================] - 0s 6ms/step - loss: 0.6152 - accuracy: 0.7862 - val_loss: 0.8189 - val_accuracy: 0.7427\n",
      "Epoch 131/150\n",
      "33/33 [==============================] - 0s 5ms/step - loss: 0.6284 - accuracy: 0.7848 - val_loss: 0.8056 - val_accuracy: 0.7413\n",
      "Epoch 132/150\n",
      "33/33 [==============================] - 0s 6ms/step - loss: 0.6297 - accuracy: 0.7834 - val_loss: 0.8156 - val_accuracy: 0.7413\n",
      "Epoch 133/150\n",
      "33/33 [==============================] - 0s 6ms/step - loss: 0.6199 - accuracy: 0.7870 - val_loss: 0.8226 - val_accuracy: 0.7410\n",
      "Epoch 134/150\n",
      "33/33 [==============================] - 0s 5ms/step - loss: 0.6178 - accuracy: 0.7868 - val_loss: 0.8247 - val_accuracy: 0.7432\n",
      "Epoch 135/150\n",
      "33/33 [==============================] - 0s 5ms/step - loss: 0.6197 - accuracy: 0.7856 - val_loss: 0.8198 - val_accuracy: 0.7425\n",
      "Epoch 136/150\n",
      "33/33 [==============================] - 0s 6ms/step - loss: 0.6171 - accuracy: 0.7841 - val_loss: 0.8312 - val_accuracy: 0.7401\n",
      "Epoch 137/150\n",
      "33/33 [==============================] - 0s 6ms/step - loss: 0.6153 - accuracy: 0.7857 - val_loss: 0.8297 - val_accuracy: 0.7418\n",
      "Epoch 138/150\n",
      "33/33 [==============================] - 0s 5ms/step - loss: 0.6162 - accuracy: 0.7867 - val_loss: 0.8456 - val_accuracy: 0.7406\n",
      "Epoch 139/150\n",
      "33/33 [==============================] - 0s 6ms/step - loss: 0.6252 - accuracy: 0.7863 - val_loss: 0.8247 - val_accuracy: 0.7425\n",
      "Epoch 140/150\n",
      "33/33 [==============================] - 0s 5ms/step - loss: 0.6180 - accuracy: 0.7867 - val_loss: 0.8369 - val_accuracy: 0.7408\n",
      "Epoch 141/150\n",
      "33/33 [==============================] - 0s 5ms/step - loss: 0.6158 - accuracy: 0.7878 - val_loss: 0.8357 - val_accuracy: 0.7410\n",
      "Epoch 142/150\n",
      "33/33 [==============================] - 0s 5ms/step - loss: 0.6111 - accuracy: 0.7881 - val_loss: 0.8269 - val_accuracy: 0.7432\n",
      "Epoch 143/150\n",
      "33/33 [==============================] - 0s 6ms/step - loss: 0.6216 - accuracy: 0.7856 - val_loss: 0.8299 - val_accuracy: 0.7403\n",
      "Epoch 144/150\n",
      "33/33 [==============================] - 0s 5ms/step - loss: 0.6192 - accuracy: 0.7856 - val_loss: 0.8446 - val_accuracy: 0.7413\n",
      "Epoch 145/150\n",
      "33/33 [==============================] - 0s 5ms/step - loss: 0.6116 - accuracy: 0.7879 - val_loss: 0.8400 - val_accuracy: 0.7403\n",
      "Epoch 146/150\n",
      "33/33 [==============================] - 0s 5ms/step - loss: 0.6143 - accuracy: 0.7874 - val_loss: 0.8350 - val_accuracy: 0.7413\n",
      "Epoch 147/150\n",
      "33/33 [==============================] - 0s 6ms/step - loss: 0.6154 - accuracy: 0.7868 - val_loss: 0.8399 - val_accuracy: 0.7396\n",
      "Epoch 148/150\n",
      "33/33 [==============================] - 0s 5ms/step - loss: 0.6061 - accuracy: 0.7895 - val_loss: 0.8370 - val_accuracy: 0.7408\n",
      "Epoch 149/150\n",
      "33/33 [==============================] - 0s 5ms/step - loss: 0.6126 - accuracy: 0.7877 - val_loss: 0.8411 - val_accuracy: 0.7437\n",
      "Epoch 150/150\n",
      "33/33 [==============================] - 0s 5ms/step - loss: 0.6147 - accuracy: 0.7873 - val_loss: 0.8417 - val_accuracy: 0.7425\n"
     ]
    }
   ],
   "source": [
    "history = model.fit(x_train, y_train,\n",
    "                    batch_size=batch_size,\n",
    "                    epochs=epochs,\n",
    "                    verbose=1,\n",
    "                    validation_split=0.2,\n",
    "                    )"
   ]
  },
  {
   "cell_type": "code",
   "execution_count": 45,
   "metadata": {},
   "outputs": [
    {
     "data": {
      "image/png": "[encoded data removed]",
      "text/plain": [
       "<Figure size 432x288 with 1 Axes>"
      ]
     },
     "metadata": {
      "needs_background": "light"
     },
     "output_type": "display_data"
    },
    {
     "data": {
      "image/png": "[encoded data removed]",
      "text/plain": [
       "<Figure size 432x288 with 1 Axes>"
      ]
     },
     "metadata": {
      "needs_background": "light"
     },
     "output_type": "display_data"
    }
   ],
   "source": [
    "plt.figure()\n",
    "plt.plot(history.history['loss'], label='train loss')\n",
    "plt.plot(history.history['val_loss'], label='validation loss')\n",
    "plt.xlabel('Эпоха обучения')\n",
    "plt.ylabel('Значение функции потерь')\n",
    "plt.legend()\n",
    "\n",
    "plt.figure()\n",
    "plt.plot(history.history[acc_name], label='train accuracy')\n",
    "plt.plot(history.history[val_acc_name], label='validation accuracy')\n",
    "plt.xlabel('Эпоха обучения')\n",
    "plt.ylabel('Доля верных ответов')\n",
    "plt.legend()\n",
    "\n",
    "plt.show()"
   ]
  },
  {
   "cell_type": "markdown",
   "metadata": {},
   "source": [
    "### По сути, лучший результат получился одинаковый что при инициализации Word2Vec значениями и дообучении эмбеддингов, что без инициализации, но при инициализации Word2Vec расхождение между train и valid значительно меньше"
   ]
  },
  {
   "cell_type": "code",
   "execution_count": null,
   "metadata": {},
   "outputs": [],
   "source": []
  }
 ],
 "metadata": {
  "kernelspec": {
   "display_name": "Python 3",
   "language": "python",
   "name": "python3"
  },
  "language_info": {
   "codemirror_mode": {
    "name": "ipython",
    "version": 3
   },
   "file_extension": ".py",
   "mimetype": "text/x-python",
   "name": "python",
   "nbconvert_exporter": "python",
   "pygments_lexer": "ipython3",
   "version": "3.7.3"
  }
 },
 "nbformat": 4,
 "nbformat_minor": 2
}
